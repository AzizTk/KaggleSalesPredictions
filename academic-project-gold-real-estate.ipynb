{
 "cells": [
  {
   "cell_type": "code",
   "execution_count": 1,
   "id": "4b8aee68",
   "metadata": {
    "_cell_guid": "b1076dfc-b9ad-4769-8c92-a6c4dae69d19",
    "_uuid": "8f2839f25d086af736a60e9eeb907d3b93b6e0e5",
    "execution": {
     "iopub.execute_input": "2022-10-23T18:20:07.168641Z",
     "iopub.status.busy": "2022-10-23T18:20:07.168184Z",
     "iopub.status.idle": "2022-10-23T18:20:07.184864Z",
     "shell.execute_reply": "2022-10-23T18:20:07.184142Z"
    },
    "papermill": {
     "duration": 0.031401,
     "end_time": "2022-10-23T18:20:07.187228",
     "exception": false,
     "start_time": "2022-10-23T18:20:07.155827",
     "status": "completed"
    },
    "tags": []
   },
   "outputs": [
    {
     "name": "stdout",
     "output_type": "stream",
     "text": [
      "/kaggle/input/AgencyDataset/AgencyDataset.xlsx\n"
     ]
    }
   ],
   "source": [
    "# This Python 3 environment comes with many helpful analytics libraries installed\n",
    "# It is defined by the kaggle/python Docker image: https://github.com/kaggle/docker-python\n",
    "# For example, here's several helpful packages to load\n",
    "\n",
    "import numpy as np # linear algebra\n",
    "import pandas as pd # data processing, CSV file I/O (e.g. pd.read_csv)\n",
    "\n",
    "# Input data files are available in the read-only \"../input/\" directory\n",
    "# For example, running this (by clicking run or pressing Shift+Enter) will list all files under the input directory\n",
    "\n",
    "import os\n",
    "for dirname, _, filenames in os.walk('/kaggle/input'):\n",
    "    for filename in filenames:\n",
    "        print(os.path.join(dirname, filename))\n",
    "\n",
    "# You can write up to 20GB to the current directory (/kaggle/working/) that gets preserved as output when you create a version using \"Save & Run All\" \n",
    "# You can also write temporary files to /kaggle/temp/, but they won't be saved outside of the current session"
   ]
  },
  {
   "cell_type": "markdown",
   "id": "c5bda354",
   "metadata": {
    "papermill": {
     "duration": 0.009197,
     "end_time": "2022-10-23T18:20:07.205999",
     "exception": false,
     "start_time": "2022-10-23T18:20:07.196802",
     "status": "completed"
    },
    "tags": []
   },
   "source": [
    "Creating features for PCA & outliers"
   ]
  },
  {
   "cell_type": "code",
   "execution_count": 2,
   "id": "112e0e09",
   "metadata": {
    "execution": {
     "iopub.execute_input": "2022-10-23T18:20:07.227788Z",
     "iopub.status.busy": "2022-10-23T18:20:07.227155Z",
     "iopub.status.idle": "2022-10-23T18:20:07.232093Z",
     "shell.execute_reply": "2022-10-23T18:20:07.231406Z"
    },
    "papermill": {
     "duration": 0.018667,
     "end_time": "2022-10-23T18:20:07.233920",
     "exception": false,
     "start_time": "2022-10-23T18:20:07.215253",
     "status": "completed"
    },
    "tags": []
   },
   "outputs": [],
   "source": [
    "def outlier_iqr(data):\n",
    "    q1,q3 = np.percentile(data,[25,75])\n",
    "    iqr = q3-q1\n",
    "    lower = q1-(iqr*2)\n",
    "    upper = q3+(iqr*2)\n",
    "    return np.where((data>upper)|(data<lower))"
   ]
  },
  {
   "cell_type": "code",
   "execution_count": 3,
   "id": "fb00b476",
   "metadata": {
    "execution": {
     "iopub.execute_input": "2022-10-23T18:20:07.253927Z",
     "iopub.status.busy": "2022-10-23T18:20:07.253606Z",
     "iopub.status.idle": "2022-10-23T18:20:07.266847Z",
     "shell.execute_reply": "2022-10-23T18:20:07.265760Z"
    },
    "papermill": {
     "duration": 0.025513,
     "end_time": "2022-10-23T18:20:07.268815",
     "exception": false,
     "start_time": "2022-10-23T18:20:07.243302",
     "status": "completed"
    },
    "tags": []
   },
   "outputs": [],
   "source": [
    "def apply_pca(X, standardize=True):\n",
    "    # Standardize\n",
    "    if standardize:\n",
    "        X = (X - X.mean(axis=0)) / X.std(axis=0)\n",
    "    # Create principal components\n",
    "    pca = PCA()\n",
    "    X_pca = pca.fit_transform(X)\n",
    "    # Convert to dataframe\n",
    "    component_names = [f\"PC{i+1}\" for i in range(X_pca.shape[1])]\n",
    "    X_pca = pd.DataFrame(X_pca, columns=component_names)\n",
    "    # Create loadings\n",
    "    loadings = pd.DataFrame(\n",
    "        pca.components_.T,  # transpose the matrix of loadings\n",
    "        columns=component_names,  # so the columns are the principal components\n",
    "        index=X.columns,  # and the rows are the original features\n",
    "    )\n",
    "    return pca, X_pca, loadings"
   ]
  },
  {
   "cell_type": "code",
   "execution_count": 4,
   "id": "484130bd",
   "metadata": {
    "execution": {
     "iopub.execute_input": "2022-10-23T18:20:07.289310Z",
     "iopub.status.busy": "2022-10-23T18:20:07.288964Z",
     "iopub.status.idle": "2022-10-23T18:20:07.293655Z",
     "shell.execute_reply": "2022-10-23T18:20:07.292702Z"
    },
    "papermill": {
     "duration": 0.016934,
     "end_time": "2022-10-23T18:20:07.295578",
     "exception": false,
     "start_time": "2022-10-23T18:20:07.278644",
     "status": "completed"
    },
    "tags": []
   },
   "outputs": [],
   "source": [
    "import pandas as pd"
   ]
  },
  {
   "cell_type": "markdown",
   "id": "5c7a04d9",
   "metadata": {
    "papermill": {
     "duration": 0.008775,
     "end_time": "2022-10-23T18:20:07.313683",
     "exception": false,
     "start_time": "2022-10-23T18:20:07.304908",
     "status": "completed"
    },
    "tags": []
   },
   "source": [
    "Price Detection & Prediction: Main goal.\n",
    "\n",
    "Checking links & Correlation with price & other labels.\n",
    "\n",
    "<b>1)Date Study \n",
    "Check Date Range & Link to price range.\n",
    "if Date range = 3 Months, (May-July) \n",
    "    Check Price Variation.</b>\n",
    "    \n",
    "\n",
    "    \n",
    "    \n",
    "2)Bedroom study, \n",
    "    Checking Number of bedrooms & link to price range \n",
    "    Integer Value\n",
    "    \n",
    "3) Bathroom study:\n",
    "    \n",
    "Lower Level Baths? A. 3/4\n",
    "\n",
    "Main Floor Baths? A. 1/2\n",
    "\n",
    "Upper Floor Baths? A. 1 full and 1 3/4, Feature Engineering!!\n",
    "    \n",
    " \n",
    "    \n",
    "4) Living Room Study:\n",
    "       Describes Living room space in sqft.\n",
    "        \n",
    "    \n",
    "\n",
    "5) Lot Value Study:\n",
    "       Describes Full space of the house/appartment.\n",
    "        \n",
    "    \n",
    "    \n",
    " 6) Floor value Study:\n",
    "        Number of floors, Real value\n",
    "    \n",
    "    if 1.5 : Second floor = 1/2 First floor.\n",
    "       \n",
    "    \n",
    "    \n",
    "  7) View: Descriptional Data:  Integer values\n",
    "« 0 » : bad\n",
    "« 1 » : mediocre\n",
    "« 2 » : good enough\n",
    "« 3 » : good\n",
    "« 4 » : very good \n",
    "    \n",
    "   8)Condition: \n",
    "    \n",
    "                \n",
    "    « 1 » : mauvaise \n",
    "                  « 2 » : assez mauvaise\n",
    "                  « 3 » :  passable \n",
    "                  « 4 » :  bonne \n",
    "                  « 5 » : très bonne"
   ]
  },
  {
   "cell_type": "code",
   "execution_count": 5,
   "id": "b420c8d1",
   "metadata": {
    "execution": {
     "iopub.execute_input": "2022-10-23T18:20:07.333653Z",
     "iopub.status.busy": "2022-10-23T18:20:07.333349Z",
     "iopub.status.idle": "2022-10-23T18:20:09.117449Z",
     "shell.execute_reply": "2022-10-23T18:20:09.116467Z"
    },
    "papermill": {
     "duration": 1.797779,
     "end_time": "2022-10-23T18:20:09.120408",
     "exception": false,
     "start_time": "2022-10-23T18:20:07.322629",
     "status": "completed"
    },
    "tags": []
   },
   "outputs": [
    {
     "data": {
      "text/html": [
       "<div>\n",
       "<style scoped>\n",
       "    .dataframe tbody tr th:only-of-type {\n",
       "        vertical-align: middle;\n",
       "    }\n",
       "\n",
       "    .dataframe tbody tr th {\n",
       "        vertical-align: top;\n",
       "    }\n",
       "\n",
       "    .dataframe thead th {\n",
       "        text-align: right;\n",
       "    }\n",
       "</style>\n",
       "<table border=\"1\" class=\"dataframe\">\n",
       "  <thead>\n",
       "    <tr style=\"text-align: right;\">\n",
       "      <th></th>\n",
       "      <th>date</th>\n",
       "      <th>price</th>\n",
       "      <th>bedrooms</th>\n",
       "      <th>bathrooms</th>\n",
       "      <th>sqft_living</th>\n",
       "      <th>sqft_lot</th>\n",
       "      <th>floors</th>\n",
       "      <th>waterfront</th>\n",
       "      <th>view</th>\n",
       "      <th>condition</th>\n",
       "      <th>sqft_above</th>\n",
       "      <th>sqft_basement</th>\n",
       "      <th>yr_built</th>\n",
       "      <th>yr_renovated</th>\n",
       "      <th>street</th>\n",
       "      <th>city</th>\n",
       "      <th>statezip</th>\n",
       "      <th>country</th>\n",
       "    </tr>\n",
       "  </thead>\n",
       "  <tbody>\n",
       "    <tr>\n",
       "      <th>0</th>\n",
       "      <td>2014-05-02</td>\n",
       "      <td>313000.0</td>\n",
       "      <td>3</td>\n",
       "      <td>1.50</td>\n",
       "      <td>1340</td>\n",
       "      <td>7912</td>\n",
       "      <td>1.5</td>\n",
       "      <td>0</td>\n",
       "      <td>0</td>\n",
       "      <td>3</td>\n",
       "      <td>1340</td>\n",
       "      <td>0</td>\n",
       "      <td>1955</td>\n",
       "      <td>2005</td>\n",
       "      <td>18810 Densmore Ave N</td>\n",
       "      <td>Shoreline</td>\n",
       "      <td>WA 98133</td>\n",
       "      <td>USA</td>\n",
       "    </tr>\n",
       "    <tr>\n",
       "      <th>1</th>\n",
       "      <td>2014-05-02</td>\n",
       "      <td>2384000.0</td>\n",
       "      <td>5</td>\n",
       "      <td>2.50</td>\n",
       "      <td>3650</td>\n",
       "      <td>9050</td>\n",
       "      <td>2.0</td>\n",
       "      <td>0</td>\n",
       "      <td>4</td>\n",
       "      <td>5</td>\n",
       "      <td>3370</td>\n",
       "      <td>280</td>\n",
       "      <td>1921</td>\n",
       "      <td>0</td>\n",
       "      <td>709 W Blaine St</td>\n",
       "      <td>Seattle</td>\n",
       "      <td>WA 98119</td>\n",
       "      <td>USA</td>\n",
       "    </tr>\n",
       "    <tr>\n",
       "      <th>2</th>\n",
       "      <td>2014-05-02</td>\n",
       "      <td>342000.0</td>\n",
       "      <td>3</td>\n",
       "      <td>2.00</td>\n",
       "      <td>1930</td>\n",
       "      <td>11947</td>\n",
       "      <td>1.0</td>\n",
       "      <td>0</td>\n",
       "      <td>0</td>\n",
       "      <td>4</td>\n",
       "      <td>1930</td>\n",
       "      <td>0</td>\n",
       "      <td>1966</td>\n",
       "      <td>0</td>\n",
       "      <td>26206-26214 143rd Ave SE</td>\n",
       "      <td>Kent</td>\n",
       "      <td>WA 98042</td>\n",
       "      <td>USA</td>\n",
       "    </tr>\n",
       "    <tr>\n",
       "      <th>3</th>\n",
       "      <td>2014-05-02</td>\n",
       "      <td>420000.0</td>\n",
       "      <td>3</td>\n",
       "      <td>2.25</td>\n",
       "      <td>2000</td>\n",
       "      <td>8030</td>\n",
       "      <td>1.0</td>\n",
       "      <td>0</td>\n",
       "      <td>0</td>\n",
       "      <td>4</td>\n",
       "      <td>1000</td>\n",
       "      <td>1000</td>\n",
       "      <td>1963</td>\n",
       "      <td>0</td>\n",
       "      <td>857 170th Pl NE</td>\n",
       "      <td>Bellevue</td>\n",
       "      <td>WA 98008</td>\n",
       "      <td>USA</td>\n",
       "    </tr>\n",
       "    <tr>\n",
       "      <th>4</th>\n",
       "      <td>2014-05-02</td>\n",
       "      <td>550000.0</td>\n",
       "      <td>4</td>\n",
       "      <td>2.50</td>\n",
       "      <td>1940</td>\n",
       "      <td>10500</td>\n",
       "      <td>1.0</td>\n",
       "      <td>0</td>\n",
       "      <td>0</td>\n",
       "      <td>4</td>\n",
       "      <td>1140</td>\n",
       "      <td>800</td>\n",
       "      <td>1976</td>\n",
       "      <td>1992</td>\n",
       "      <td>9105 170th Ave NE</td>\n",
       "      <td>Redmond</td>\n",
       "      <td>WA 98052</td>\n",
       "      <td>USA</td>\n",
       "    </tr>\n",
       "  </tbody>\n",
       "</table>\n",
       "</div>"
      ],
      "text/plain": [
       "        date      price  bedrooms  bathrooms  sqft_living  sqft_lot  floors  \\\n",
       "0 2014-05-02   313000.0         3       1.50         1340      7912     1.5   \n",
       "1 2014-05-02  2384000.0         5       2.50         3650      9050     2.0   \n",
       "2 2014-05-02   342000.0         3       2.00         1930     11947     1.0   \n",
       "3 2014-05-02   420000.0         3       2.25         2000      8030     1.0   \n",
       "4 2014-05-02   550000.0         4       2.50         1940     10500     1.0   \n",
       "\n",
       "   waterfront  view  condition  sqft_above  sqft_basement  yr_built  \\\n",
       "0           0     0          3        1340              0      1955   \n",
       "1           0     4          5        3370            280      1921   \n",
       "2           0     0          4        1930              0      1966   \n",
       "3           0     0          4        1000           1000      1963   \n",
       "4           0     0          4        1140            800      1976   \n",
       "\n",
       "   yr_renovated                    street       city  statezip country  \n",
       "0          2005      18810 Densmore Ave N  Shoreline  WA 98133     USA  \n",
       "1             0           709 W Blaine St    Seattle  WA 98119     USA  \n",
       "2             0  26206-26214 143rd Ave SE       Kent  WA 98042     USA  \n",
       "3             0           857 170th Pl NE   Bellevue  WA 98008     USA  \n",
       "4          1992         9105 170th Ave NE    Redmond  WA 98052     USA  "
      ]
     },
     "execution_count": 5,
     "metadata": {},
     "output_type": "execute_result"
    }
   ],
   "source": [
    "data = pd.read_excel(\"../input/AgencyDataset/AgencyDataset.xlsx\")\n",
    "data.head()"
   ]
  },
  {
   "cell_type": "code",
   "execution_count": 6,
   "id": "5d954ca2",
   "metadata": {
    "execution": {
     "iopub.execute_input": "2022-10-23T18:20:09.143173Z",
     "iopub.status.busy": "2022-10-23T18:20:09.142809Z",
     "iopub.status.idle": "2022-10-23T18:20:09.198835Z",
     "shell.execute_reply": "2022-10-23T18:20:09.197860Z"
    },
    "papermill": {
     "duration": 0.071264,
     "end_time": "2022-10-23T18:20:09.202140",
     "exception": false,
     "start_time": "2022-10-23T18:20:09.130876",
     "status": "completed"
    },
    "tags": []
   },
   "outputs": [
    {
     "data": {
      "text/html": [
       "<div>\n",
       "<style scoped>\n",
       "    .dataframe tbody tr th:only-of-type {\n",
       "        vertical-align: middle;\n",
       "    }\n",
       "\n",
       "    .dataframe tbody tr th {\n",
       "        vertical-align: top;\n",
       "    }\n",
       "\n",
       "    .dataframe thead th {\n",
       "        text-align: right;\n",
       "    }\n",
       "</style>\n",
       "<table border=\"1\" class=\"dataframe\">\n",
       "  <thead>\n",
       "    <tr style=\"text-align: right;\">\n",
       "      <th></th>\n",
       "      <th>price</th>\n",
       "      <th>bedrooms</th>\n",
       "      <th>bathrooms</th>\n",
       "      <th>sqft_living</th>\n",
       "      <th>sqft_lot</th>\n",
       "      <th>floors</th>\n",
       "      <th>waterfront</th>\n",
       "      <th>view</th>\n",
       "      <th>condition</th>\n",
       "      <th>sqft_above</th>\n",
       "      <th>sqft_basement</th>\n",
       "      <th>yr_built</th>\n",
       "      <th>yr_renovated</th>\n",
       "    </tr>\n",
       "  </thead>\n",
       "  <tbody>\n",
       "    <tr>\n",
       "      <th>count</th>\n",
       "      <td>4.600000e+03</td>\n",
       "      <td>4600.000000</td>\n",
       "      <td>4600.000000</td>\n",
       "      <td>4600.000000</td>\n",
       "      <td>4.600000e+03</td>\n",
       "      <td>4600.000000</td>\n",
       "      <td>4600.000000</td>\n",
       "      <td>4600.000000</td>\n",
       "      <td>4600.000000</td>\n",
       "      <td>4600.000000</td>\n",
       "      <td>4600.000000</td>\n",
       "      <td>4600.000000</td>\n",
       "      <td>4600.000000</td>\n",
       "    </tr>\n",
       "    <tr>\n",
       "      <th>mean</th>\n",
       "      <td>5.519630e+05</td>\n",
       "      <td>3.400870</td>\n",
       "      <td>2.160815</td>\n",
       "      <td>2139.346957</td>\n",
       "      <td>1.485252e+04</td>\n",
       "      <td>1.512065</td>\n",
       "      <td>0.007174</td>\n",
       "      <td>0.240652</td>\n",
       "      <td>3.451739</td>\n",
       "      <td>1827.265435</td>\n",
       "      <td>312.081522</td>\n",
       "      <td>1970.786304</td>\n",
       "      <td>808.608261</td>\n",
       "    </tr>\n",
       "    <tr>\n",
       "      <th>std</th>\n",
       "      <td>5.638347e+05</td>\n",
       "      <td>0.908848</td>\n",
       "      <td>0.783781</td>\n",
       "      <td>963.206916</td>\n",
       "      <td>3.588444e+04</td>\n",
       "      <td>0.538288</td>\n",
       "      <td>0.084404</td>\n",
       "      <td>0.778405</td>\n",
       "      <td>0.677230</td>\n",
       "      <td>862.168977</td>\n",
       "      <td>464.137228</td>\n",
       "      <td>29.731848</td>\n",
       "      <td>979.414536</td>\n",
       "    </tr>\n",
       "    <tr>\n",
       "      <th>min</th>\n",
       "      <td>0.000000e+00</td>\n",
       "      <td>0.000000</td>\n",
       "      <td>0.000000</td>\n",
       "      <td>370.000000</td>\n",
       "      <td>6.380000e+02</td>\n",
       "      <td>1.000000</td>\n",
       "      <td>0.000000</td>\n",
       "      <td>0.000000</td>\n",
       "      <td>1.000000</td>\n",
       "      <td>370.000000</td>\n",
       "      <td>0.000000</td>\n",
       "      <td>1900.000000</td>\n",
       "      <td>0.000000</td>\n",
       "    </tr>\n",
       "    <tr>\n",
       "      <th>25%</th>\n",
       "      <td>3.228750e+05</td>\n",
       "      <td>3.000000</td>\n",
       "      <td>1.750000</td>\n",
       "      <td>1460.000000</td>\n",
       "      <td>5.000750e+03</td>\n",
       "      <td>1.000000</td>\n",
       "      <td>0.000000</td>\n",
       "      <td>0.000000</td>\n",
       "      <td>3.000000</td>\n",
       "      <td>1190.000000</td>\n",
       "      <td>0.000000</td>\n",
       "      <td>1951.000000</td>\n",
       "      <td>0.000000</td>\n",
       "    </tr>\n",
       "    <tr>\n",
       "      <th>50%</th>\n",
       "      <td>4.609435e+05</td>\n",
       "      <td>3.000000</td>\n",
       "      <td>2.250000</td>\n",
       "      <td>1980.000000</td>\n",
       "      <td>7.683000e+03</td>\n",
       "      <td>1.500000</td>\n",
       "      <td>0.000000</td>\n",
       "      <td>0.000000</td>\n",
       "      <td>3.000000</td>\n",
       "      <td>1590.000000</td>\n",
       "      <td>0.000000</td>\n",
       "      <td>1976.000000</td>\n",
       "      <td>0.000000</td>\n",
       "    </tr>\n",
       "    <tr>\n",
       "      <th>75%</th>\n",
       "      <td>6.549625e+05</td>\n",
       "      <td>4.000000</td>\n",
       "      <td>2.500000</td>\n",
       "      <td>2620.000000</td>\n",
       "      <td>1.100125e+04</td>\n",
       "      <td>2.000000</td>\n",
       "      <td>0.000000</td>\n",
       "      <td>0.000000</td>\n",
       "      <td>4.000000</td>\n",
       "      <td>2300.000000</td>\n",
       "      <td>610.000000</td>\n",
       "      <td>1997.000000</td>\n",
       "      <td>1999.000000</td>\n",
       "    </tr>\n",
       "    <tr>\n",
       "      <th>max</th>\n",
       "      <td>2.659000e+07</td>\n",
       "      <td>9.000000</td>\n",
       "      <td>8.000000</td>\n",
       "      <td>13540.000000</td>\n",
       "      <td>1.074218e+06</td>\n",
       "      <td>3.500000</td>\n",
       "      <td>1.000000</td>\n",
       "      <td>4.000000</td>\n",
       "      <td>5.000000</td>\n",
       "      <td>9410.000000</td>\n",
       "      <td>4820.000000</td>\n",
       "      <td>2014.000000</td>\n",
       "      <td>2014.000000</td>\n",
       "    </tr>\n",
       "  </tbody>\n",
       "</table>\n",
       "</div>"
      ],
      "text/plain": [
       "              price     bedrooms    bathrooms   sqft_living      sqft_lot  \\\n",
       "count  4.600000e+03  4600.000000  4600.000000   4600.000000  4.600000e+03   \n",
       "mean   5.519630e+05     3.400870     2.160815   2139.346957  1.485252e+04   \n",
       "std    5.638347e+05     0.908848     0.783781    963.206916  3.588444e+04   \n",
       "min    0.000000e+00     0.000000     0.000000    370.000000  6.380000e+02   \n",
       "25%    3.228750e+05     3.000000     1.750000   1460.000000  5.000750e+03   \n",
       "50%    4.609435e+05     3.000000     2.250000   1980.000000  7.683000e+03   \n",
       "75%    6.549625e+05     4.000000     2.500000   2620.000000  1.100125e+04   \n",
       "max    2.659000e+07     9.000000     8.000000  13540.000000  1.074218e+06   \n",
       "\n",
       "            floors   waterfront         view    condition   sqft_above  \\\n",
       "count  4600.000000  4600.000000  4600.000000  4600.000000  4600.000000   \n",
       "mean      1.512065     0.007174     0.240652     3.451739  1827.265435   \n",
       "std       0.538288     0.084404     0.778405     0.677230   862.168977   \n",
       "min       1.000000     0.000000     0.000000     1.000000   370.000000   \n",
       "25%       1.000000     0.000000     0.000000     3.000000  1190.000000   \n",
       "50%       1.500000     0.000000     0.000000     3.000000  1590.000000   \n",
       "75%       2.000000     0.000000     0.000000     4.000000  2300.000000   \n",
       "max       3.500000     1.000000     4.000000     5.000000  9410.000000   \n",
       "\n",
       "       sqft_basement     yr_built  yr_renovated  \n",
       "count    4600.000000  4600.000000   4600.000000  \n",
       "mean      312.081522  1970.786304    808.608261  \n",
       "std       464.137228    29.731848    979.414536  \n",
       "min         0.000000  1900.000000      0.000000  \n",
       "25%         0.000000  1951.000000      0.000000  \n",
       "50%         0.000000  1976.000000      0.000000  \n",
       "75%       610.000000  1997.000000   1999.000000  \n",
       "max      4820.000000  2014.000000   2014.000000  "
      ]
     },
     "execution_count": 6,
     "metadata": {},
     "output_type": "execute_result"
    }
   ],
   "source": [
    "data.describe()"
   ]
  },
  {
   "cell_type": "markdown",
   "id": "7fef0935",
   "metadata": {
    "papermill": {
     "duration": 0.010031,
     "end_time": "2022-10-23T18:20:09.222947",
     "exception": false,
     "start_time": "2022-10-23T18:20:09.212916",
     "status": "completed"
    },
    "tags": []
   },
   "source": [
    "1) Bedrooms [0-9]\n",
    "\n",
    "\n",
    "\n",
    "2) Bathrooms [0-8]\n",
    "\n",
    "\n",
    "\n",
    "3) sqft_living [370-13540]sqft \n",
    "\n",
    "\n",
    "4) sqft_lot [6.380000e+02 - 1.074218e+06] sqft\n",
    "\n",
    "\n",
    "\n",
    "5) floors [1-3.5] \n",
    "\n",
    "\n",
    "6) View [0-4]\n",
    "\n",
    "\n",
    "7) Condition [0-7] "
   ]
  },
  {
   "cell_type": "code",
   "execution_count": 7,
   "id": "8a3b4dee",
   "metadata": {
    "execution": {
     "iopub.execute_input": "2022-10-23T18:20:09.244993Z",
     "iopub.status.busy": "2022-10-23T18:20:09.244612Z",
     "iopub.status.idle": "2022-10-23T18:20:09.262398Z",
     "shell.execute_reply": "2022-10-23T18:20:09.261171Z"
    },
    "papermill": {
     "duration": 0.031478,
     "end_time": "2022-10-23T18:20:09.264445",
     "exception": false,
     "start_time": "2022-10-23T18:20:09.232967",
     "status": "completed"
    },
    "tags": []
   },
   "outputs": [
    {
     "name": "stdout",
     "output_type": "stream",
     "text": [
      "<class 'pandas.core.frame.DataFrame'>\n",
      "RangeIndex: 4600 entries, 0 to 4599\n",
      "Data columns (total 18 columns):\n",
      " #   Column         Non-Null Count  Dtype         \n",
      "---  ------         --------------  -----         \n",
      " 0   date           4600 non-null   datetime64[ns]\n",
      " 1   price          4600 non-null   float64       \n",
      " 2   bedrooms       4600 non-null   int64         \n",
      " 3   bathrooms      4600 non-null   float64       \n",
      " 4   sqft_living    4600 non-null   int64         \n",
      " 5   sqft_lot       4600 non-null   int64         \n",
      " 6   floors         4600 non-null   float64       \n",
      " 7   waterfront     4600 non-null   int64         \n",
      " 8   view           4600 non-null   int64         \n",
      " 9   condition      4600 non-null   int64         \n",
      " 10  sqft_above     4600 non-null   int64         \n",
      " 11  sqft_basement  4600 non-null   int64         \n",
      " 12  yr_built       4600 non-null   int64         \n",
      " 13  yr_renovated   4600 non-null   int64         \n",
      " 14  street         4600 non-null   object        \n",
      " 15  city           4600 non-null   object        \n",
      " 16  statezip       4600 non-null   object        \n",
      " 17  country        4600 non-null   object        \n",
      "dtypes: datetime64[ns](1), float64(3), int64(10), object(4)\n",
      "memory usage: 647.0+ KB\n"
     ]
    }
   ],
   "source": [
    "data.info()"
   ]
  },
  {
   "cell_type": "code",
   "execution_count": 8,
   "id": "5f97e7fc",
   "metadata": {
    "execution": {
     "iopub.execute_input": "2022-10-23T18:20:09.287718Z",
     "iopub.status.busy": "2022-10-23T18:20:09.287317Z",
     "iopub.status.idle": "2022-10-23T18:20:09.298849Z",
     "shell.execute_reply": "2022-10-23T18:20:09.297782Z"
    },
    "papermill": {
     "duration": 0.025518,
     "end_time": "2022-10-23T18:20:09.300967",
     "exception": false,
     "start_time": "2022-10-23T18:20:09.275449",
     "status": "completed"
    },
    "tags": []
   },
   "outputs": [
    {
     "data": {
      "text/plain": [
       "date             0\n",
       "price            0\n",
       "bedrooms         0\n",
       "bathrooms        0\n",
       "sqft_living      0\n",
       "sqft_lot         0\n",
       "floors           0\n",
       "waterfront       0\n",
       "view             0\n",
       "condition        0\n",
       "sqft_above       0\n",
       "sqft_basement    0\n",
       "yr_built         0\n",
       "yr_renovated     0\n",
       "street           0\n",
       "city             0\n",
       "statezip         0\n",
       "country          0\n",
       "dtype: int64"
      ]
     },
     "execution_count": 8,
     "metadata": {},
     "output_type": "execute_result"
    }
   ],
   "source": [
    "data.isna().sum()"
   ]
  },
  {
   "cell_type": "markdown",
   "id": "e71e2a49",
   "metadata": {
    "papermill": {
     "duration": 0.010419,
     "end_time": "2022-10-23T18:20:09.321976",
     "exception": false,
     "start_time": "2022-10-23T18:20:09.311557",
     "status": "completed"
    },
    "tags": []
   },
   "source": [
    "Dropping Street & Country collumns"
   ]
  },
  {
   "cell_type": "code",
   "execution_count": 9,
   "id": "8d693f54",
   "metadata": {
    "execution": {
     "iopub.execute_input": "2022-10-23T18:20:09.344044Z",
     "iopub.status.busy": "2022-10-23T18:20:09.343678Z",
     "iopub.status.idle": "2022-10-23T18:20:09.350187Z",
     "shell.execute_reply": "2022-10-23T18:20:09.349469Z"
    },
    "papermill": {
     "duration": 0.01972,
     "end_time": "2022-10-23T18:20:09.352106",
     "exception": false,
     "start_time": "2022-10-23T18:20:09.332386",
     "status": "completed"
    },
    "tags": []
   },
   "outputs": [
    {
     "data": {
      "text/plain": [
       "1"
      ]
     },
     "execution_count": 9,
     "metadata": {},
     "output_type": "execute_result"
    }
   ],
   "source": [
    "data[\"country\"].nunique()"
   ]
  },
  {
   "cell_type": "code",
   "execution_count": 10,
   "id": "8d1c293a",
   "metadata": {
    "execution": {
     "iopub.execute_input": "2022-10-23T18:20:09.374716Z",
     "iopub.status.busy": "2022-10-23T18:20:09.374389Z",
     "iopub.status.idle": "2022-10-23T18:20:09.380669Z",
     "shell.execute_reply": "2022-10-23T18:20:09.379652Z"
    },
    "papermill": {
     "duration": 0.019258,
     "end_time": "2022-10-23T18:20:09.382609",
     "exception": false,
     "start_time": "2022-10-23T18:20:09.363351",
     "status": "completed"
    },
    "tags": []
   },
   "outputs": [],
   "source": [
    "data = data.drop([\"street\",\"country\"], axis=1)\n"
   ]
  },
  {
   "cell_type": "code",
   "execution_count": 11,
   "id": "efcfd62f",
   "metadata": {
    "execution": {
     "iopub.execute_input": "2022-10-23T18:20:09.405152Z",
     "iopub.status.busy": "2022-10-23T18:20:09.404852Z",
     "iopub.status.idle": "2022-10-23T18:20:09.421929Z",
     "shell.execute_reply": "2022-10-23T18:20:09.420952Z"
    },
    "papermill": {
     "duration": 0.030813,
     "end_time": "2022-10-23T18:20:09.423876",
     "exception": false,
     "start_time": "2022-10-23T18:20:09.393063",
     "status": "completed"
    },
    "tags": []
   },
   "outputs": [
    {
     "data": {
      "text/html": [
       "<div>\n",
       "<style scoped>\n",
       "    .dataframe tbody tr th:only-of-type {\n",
       "        vertical-align: middle;\n",
       "    }\n",
       "\n",
       "    .dataframe tbody tr th {\n",
       "        vertical-align: top;\n",
       "    }\n",
       "\n",
       "    .dataframe thead th {\n",
       "        text-align: right;\n",
       "    }\n",
       "</style>\n",
       "<table border=\"1\" class=\"dataframe\">\n",
       "  <thead>\n",
       "    <tr style=\"text-align: right;\">\n",
       "      <th></th>\n",
       "      <th>date</th>\n",
       "      <th>price</th>\n",
       "      <th>bedrooms</th>\n",
       "      <th>bathrooms</th>\n",
       "      <th>sqft_living</th>\n",
       "      <th>sqft_lot</th>\n",
       "      <th>floors</th>\n",
       "      <th>waterfront</th>\n",
       "      <th>view</th>\n",
       "      <th>condition</th>\n",
       "      <th>sqft_above</th>\n",
       "      <th>sqft_basement</th>\n",
       "      <th>yr_built</th>\n",
       "      <th>yr_renovated</th>\n",
       "      <th>city</th>\n",
       "      <th>statezip</th>\n",
       "    </tr>\n",
       "  </thead>\n",
       "  <tbody>\n",
       "    <tr>\n",
       "      <th>0</th>\n",
       "      <td>2014-05-02</td>\n",
       "      <td>313000.0</td>\n",
       "      <td>3</td>\n",
       "      <td>1.50</td>\n",
       "      <td>1340</td>\n",
       "      <td>7912</td>\n",
       "      <td>1.5</td>\n",
       "      <td>0</td>\n",
       "      <td>0</td>\n",
       "      <td>3</td>\n",
       "      <td>1340</td>\n",
       "      <td>0</td>\n",
       "      <td>1955</td>\n",
       "      <td>2005</td>\n",
       "      <td>Shoreline</td>\n",
       "      <td>WA 98133</td>\n",
       "    </tr>\n",
       "    <tr>\n",
       "      <th>1</th>\n",
       "      <td>2014-05-02</td>\n",
       "      <td>2384000.0</td>\n",
       "      <td>5</td>\n",
       "      <td>2.50</td>\n",
       "      <td>3650</td>\n",
       "      <td>9050</td>\n",
       "      <td>2.0</td>\n",
       "      <td>0</td>\n",
       "      <td>4</td>\n",
       "      <td>5</td>\n",
       "      <td>3370</td>\n",
       "      <td>280</td>\n",
       "      <td>1921</td>\n",
       "      <td>0</td>\n",
       "      <td>Seattle</td>\n",
       "      <td>WA 98119</td>\n",
       "    </tr>\n",
       "    <tr>\n",
       "      <th>2</th>\n",
       "      <td>2014-05-02</td>\n",
       "      <td>342000.0</td>\n",
       "      <td>3</td>\n",
       "      <td>2.00</td>\n",
       "      <td>1930</td>\n",
       "      <td>11947</td>\n",
       "      <td>1.0</td>\n",
       "      <td>0</td>\n",
       "      <td>0</td>\n",
       "      <td>4</td>\n",
       "      <td>1930</td>\n",
       "      <td>0</td>\n",
       "      <td>1966</td>\n",
       "      <td>0</td>\n",
       "      <td>Kent</td>\n",
       "      <td>WA 98042</td>\n",
       "    </tr>\n",
       "    <tr>\n",
       "      <th>3</th>\n",
       "      <td>2014-05-02</td>\n",
       "      <td>420000.0</td>\n",
       "      <td>3</td>\n",
       "      <td>2.25</td>\n",
       "      <td>2000</td>\n",
       "      <td>8030</td>\n",
       "      <td>1.0</td>\n",
       "      <td>0</td>\n",
       "      <td>0</td>\n",
       "      <td>4</td>\n",
       "      <td>1000</td>\n",
       "      <td>1000</td>\n",
       "      <td>1963</td>\n",
       "      <td>0</td>\n",
       "      <td>Bellevue</td>\n",
       "      <td>WA 98008</td>\n",
       "    </tr>\n",
       "    <tr>\n",
       "      <th>4</th>\n",
       "      <td>2014-05-02</td>\n",
       "      <td>550000.0</td>\n",
       "      <td>4</td>\n",
       "      <td>2.50</td>\n",
       "      <td>1940</td>\n",
       "      <td>10500</td>\n",
       "      <td>1.0</td>\n",
       "      <td>0</td>\n",
       "      <td>0</td>\n",
       "      <td>4</td>\n",
       "      <td>1140</td>\n",
       "      <td>800</td>\n",
       "      <td>1976</td>\n",
       "      <td>1992</td>\n",
       "      <td>Redmond</td>\n",
       "      <td>WA 98052</td>\n",
       "    </tr>\n",
       "  </tbody>\n",
       "</table>\n",
       "</div>"
      ],
      "text/plain": [
       "        date      price  bedrooms  bathrooms  sqft_living  sqft_lot  floors  \\\n",
       "0 2014-05-02   313000.0         3       1.50         1340      7912     1.5   \n",
       "1 2014-05-02  2384000.0         5       2.50         3650      9050     2.0   \n",
       "2 2014-05-02   342000.0         3       2.00         1930     11947     1.0   \n",
       "3 2014-05-02   420000.0         3       2.25         2000      8030     1.0   \n",
       "4 2014-05-02   550000.0         4       2.50         1940     10500     1.0   \n",
       "\n",
       "   waterfront  view  condition  sqft_above  sqft_basement  yr_built  \\\n",
       "0           0     0          3        1340              0      1955   \n",
       "1           0     4          5        3370            280      1921   \n",
       "2           0     0          4        1930              0      1966   \n",
       "3           0     0          4        1000           1000      1963   \n",
       "4           0     0          4        1140            800      1976   \n",
       "\n",
       "   yr_renovated       city  statezip  \n",
       "0          2005  Shoreline  WA 98133  \n",
       "1             0    Seattle  WA 98119  \n",
       "2             0       Kent  WA 98042  \n",
       "3             0   Bellevue  WA 98008  \n",
       "4          1992    Redmond  WA 98052  "
      ]
     },
     "execution_count": 11,
     "metadata": {},
     "output_type": "execute_result"
    }
   ],
   "source": [
    "data.head()"
   ]
  },
  {
   "cell_type": "code",
   "execution_count": 12,
   "id": "5574acfd",
   "metadata": {
    "execution": {
     "iopub.execute_input": "2022-10-23T18:20:09.447053Z",
     "iopub.status.busy": "2022-10-23T18:20:09.446709Z",
     "iopub.status.idle": "2022-10-23T18:20:09.452130Z",
     "shell.execute_reply": "2022-10-23T18:20:09.451157Z"
    },
    "papermill": {
     "duration": 0.019586,
     "end_time": "2022-10-23T18:20:09.454084",
     "exception": false,
     "start_time": "2022-10-23T18:20:09.434498",
     "status": "completed"
    },
    "tags": []
   },
   "outputs": [],
   "source": [
    "def TwoFeatureGraph(x,y):\n",
    "    fig, ax = plt.subplots()\n",
    "    ax.plot(x, y, 'o', color='g', label='training data')\n",
    "    plt.legend()"
   ]
  },
  {
   "cell_type": "code",
   "execution_count": 13,
   "id": "79ba6b9d",
   "metadata": {
    "execution": {
     "iopub.execute_input": "2022-10-23T18:20:09.477033Z",
     "iopub.status.busy": "2022-10-23T18:20:09.476689Z",
     "iopub.status.idle": "2022-10-23T18:20:10.538107Z",
     "shell.execute_reply": "2022-10-23T18:20:10.537066Z"
    },
    "papermill": {
     "duration": 1.075303,
     "end_time": "2022-10-23T18:20:10.540382",
     "exception": false,
     "start_time": "2022-10-23T18:20:09.465079",
     "status": "completed"
    },
    "tags": []
   },
   "outputs": [
    {
     "data": {
      "image/png": "[encoded data removed]",
      "text/plain": [
       "<Figure size 432x288 with 1 Axes>"
      ]
     },
     "metadata": {
      "needs_background": "light"
     },
     "output_type": "display_data"
    }
   ],
   "source": [
    "import matplotlib.pyplot as plt # for graphs \n",
    "X = data[\"price\"]\n",
    "y = data[\"statezip\"]\n",
    "TwoFeatureGraph(X,y)"
   ]
  },
  {
   "cell_type": "markdown",
   "id": "64d1ca73",
   "metadata": {
    "papermill": {
     "duration": 0.01068,
     "end_time": "2022-10-23T18:20:10.562232",
     "exception": false,
     "start_time": "2022-10-23T18:20:10.551552",
     "status": "completed"
    },
    "tags": []
   },
   "source": [
    "Separating statezip into numerical & categorical values to check state occurances"
   ]
  },
  {
   "cell_type": "code",
   "execution_count": 14,
   "id": "c408b82e",
   "metadata": {
    "execution": {
     "iopub.execute_input": "2022-10-23T18:20:10.587214Z",
     "iopub.status.busy": "2022-10-23T18:20:10.586539Z",
     "iopub.status.idle": "2022-10-23T18:20:10.591911Z",
     "shell.execute_reply": "2022-10-23T18:20:10.591177Z"
    },
    "papermill": {
     "duration": 0.019883,
     "end_time": "2022-10-23T18:20:10.593812",
     "exception": false,
     "start_time": "2022-10-23T18:20:10.573929",
     "status": "completed"
    },
    "tags": []
   },
   "outputs": [],
   "source": [
    "df = pd.DataFrame({'statezip': data[\"statezip\"]})\n"
   ]
  },
  {
   "cell_type": "code",
   "execution_count": 15,
   "id": "fcf66804",
   "metadata": {
    "execution": {
     "iopub.execute_input": "2022-10-23T18:20:10.618386Z",
     "iopub.status.busy": "2022-10-23T18:20:10.617758Z",
     "iopub.status.idle": "2022-10-23T18:20:10.633723Z",
     "shell.execute_reply": "2022-10-23T18:20:10.632904Z"
    },
    "papermill": {
     "duration": 0.030564,
     "end_time": "2022-10-23T18:20:10.635654",
     "exception": false,
     "start_time": "2022-10-23T18:20:10.605090",
     "status": "completed"
    },
    "tags": []
   },
   "outputs": [
    {
     "data": {
      "text/plain": [
       "1"
      ]
     },
     "execution_count": 15,
     "metadata": {},
     "output_type": "execute_result"
    }
   ],
   "source": [
    "df[['state','number']] = df.statezip.str.split(\" \",expand=True,)\n",
    "df['state'].nunique()"
   ]
  },
  {
   "cell_type": "markdown",
   "id": "2a153f9d",
   "metadata": {
    "papermill": {
     "duration": 0.010852,
     "end_time": "2022-10-23T18:20:10.657423",
     "exception": false,
     "start_time": "2022-10-23T18:20:10.646571",
     "status": "completed"
    },
    "tags": []
   },
   "source": [
    "Only \"WA\" seems to be the reaccuring value in the statezip collumn so we're dropping the WA from the data"
   ]
  },
  {
   "cell_type": "code",
   "execution_count": 16,
   "id": "66b313db",
   "metadata": {
    "execution": {
     "iopub.execute_input": "2022-10-23T18:20:10.681668Z",
     "iopub.status.busy": "2022-10-23T18:20:10.681004Z",
     "iopub.status.idle": "2022-10-23T18:20:10.694538Z",
     "shell.execute_reply": "2022-10-23T18:20:10.693686Z"
    },
    "papermill": {
     "duration": 0.028142,
     "end_time": "2022-10-23T18:20:10.696625",
     "exception": false,
     "start_time": "2022-10-23T18:20:10.668483",
     "status": "completed"
    },
    "tags": []
   },
   "outputs": [],
   "source": [
    "data[['state','statenb']] = data['statezip'].str.split(\" \",expand=True,)\n"
   ]
  },
  {
   "cell_type": "code",
   "execution_count": 17,
   "id": "7c4225d1",
   "metadata": {
    "execution": {
     "iopub.execute_input": "2022-10-23T18:20:10.720649Z",
     "iopub.status.busy": "2022-10-23T18:20:10.719995Z",
     "iopub.status.idle": "2022-10-23T18:20:10.744566Z",
     "shell.execute_reply": "2022-10-23T18:20:10.743569Z"
    },
    "papermill": {
     "duration": 0.038822,
     "end_time": "2022-10-23T18:20:10.746574",
     "exception": false,
     "start_time": "2022-10-23T18:20:10.707752",
     "status": "completed"
    },
    "tags": []
   },
   "outputs": [
    {
     "data": {
      "text/html": [
       "<div>\n",
       "<style scoped>\n",
       "    .dataframe tbody tr th:only-of-type {\n",
       "        vertical-align: middle;\n",
       "    }\n",
       "\n",
       "    .dataframe tbody tr th {\n",
       "        vertical-align: top;\n",
       "    }\n",
       "\n",
       "    .dataframe thead th {\n",
       "        text-align: right;\n",
       "    }\n",
       "</style>\n",
       "<table border=\"1\" class=\"dataframe\">\n",
       "  <thead>\n",
       "    <tr style=\"text-align: right;\">\n",
       "      <th></th>\n",
       "      <th>date</th>\n",
       "      <th>price</th>\n",
       "      <th>bedrooms</th>\n",
       "      <th>bathrooms</th>\n",
       "      <th>sqft_living</th>\n",
       "      <th>sqft_lot</th>\n",
       "      <th>floors</th>\n",
       "      <th>waterfront</th>\n",
       "      <th>view</th>\n",
       "      <th>condition</th>\n",
       "      <th>sqft_above</th>\n",
       "      <th>sqft_basement</th>\n",
       "      <th>yr_built</th>\n",
       "      <th>yr_renovated</th>\n",
       "      <th>city</th>\n",
       "      <th>statezip</th>\n",
       "      <th>state</th>\n",
       "      <th>statenb</th>\n",
       "    </tr>\n",
       "  </thead>\n",
       "  <tbody>\n",
       "    <tr>\n",
       "      <th>0</th>\n",
       "      <td>2014-05-02</td>\n",
       "      <td>3.130000e+05</td>\n",
       "      <td>3</td>\n",
       "      <td>1.50</td>\n",
       "      <td>1340</td>\n",
       "      <td>7912</td>\n",
       "      <td>1.5</td>\n",
       "      <td>0</td>\n",
       "      <td>0</td>\n",
       "      <td>3</td>\n",
       "      <td>1340</td>\n",
       "      <td>0</td>\n",
       "      <td>1955</td>\n",
       "      <td>2005</td>\n",
       "      <td>Shoreline</td>\n",
       "      <td>WA 98133</td>\n",
       "      <td>WA</td>\n",
       "      <td>98133</td>\n",
       "    </tr>\n",
       "    <tr>\n",
       "      <th>1</th>\n",
       "      <td>2014-05-02</td>\n",
       "      <td>2.384000e+06</td>\n",
       "      <td>5</td>\n",
       "      <td>2.50</td>\n",
       "      <td>3650</td>\n",
       "      <td>9050</td>\n",
       "      <td>2.0</td>\n",
       "      <td>0</td>\n",
       "      <td>4</td>\n",
       "      <td>5</td>\n",
       "      <td>3370</td>\n",
       "      <td>280</td>\n",
       "      <td>1921</td>\n",
       "      <td>0</td>\n",
       "      <td>Seattle</td>\n",
       "      <td>WA 98119</td>\n",
       "      <td>WA</td>\n",
       "      <td>98119</td>\n",
       "    </tr>\n",
       "    <tr>\n",
       "      <th>2</th>\n",
       "      <td>2014-05-02</td>\n",
       "      <td>3.420000e+05</td>\n",
       "      <td>3</td>\n",
       "      <td>2.00</td>\n",
       "      <td>1930</td>\n",
       "      <td>11947</td>\n",
       "      <td>1.0</td>\n",
       "      <td>0</td>\n",
       "      <td>0</td>\n",
       "      <td>4</td>\n",
       "      <td>1930</td>\n",
       "      <td>0</td>\n",
       "      <td>1966</td>\n",
       "      <td>0</td>\n",
       "      <td>Kent</td>\n",
       "      <td>WA 98042</td>\n",
       "      <td>WA</td>\n",
       "      <td>98042</td>\n",
       "    </tr>\n",
       "    <tr>\n",
       "      <th>3</th>\n",
       "      <td>2014-05-02</td>\n",
       "      <td>4.200000e+05</td>\n",
       "      <td>3</td>\n",
       "      <td>2.25</td>\n",
       "      <td>2000</td>\n",
       "      <td>8030</td>\n",
       "      <td>1.0</td>\n",
       "      <td>0</td>\n",
       "      <td>0</td>\n",
       "      <td>4</td>\n",
       "      <td>1000</td>\n",
       "      <td>1000</td>\n",
       "      <td>1963</td>\n",
       "      <td>0</td>\n",
       "      <td>Bellevue</td>\n",
       "      <td>WA 98008</td>\n",
       "      <td>WA</td>\n",
       "      <td>98008</td>\n",
       "    </tr>\n",
       "    <tr>\n",
       "      <th>4</th>\n",
       "      <td>2014-05-02</td>\n",
       "      <td>5.500000e+05</td>\n",
       "      <td>4</td>\n",
       "      <td>2.50</td>\n",
       "      <td>1940</td>\n",
       "      <td>10500</td>\n",
       "      <td>1.0</td>\n",
       "      <td>0</td>\n",
       "      <td>0</td>\n",
       "      <td>4</td>\n",
       "      <td>1140</td>\n",
       "      <td>800</td>\n",
       "      <td>1976</td>\n",
       "      <td>1992</td>\n",
       "      <td>Redmond</td>\n",
       "      <td>WA 98052</td>\n",
       "      <td>WA</td>\n",
       "      <td>98052</td>\n",
       "    </tr>\n",
       "    <tr>\n",
       "      <th>...</th>\n",
       "      <td>...</td>\n",
       "      <td>...</td>\n",
       "      <td>...</td>\n",
       "      <td>...</td>\n",
       "      <td>...</td>\n",
       "      <td>...</td>\n",
       "      <td>...</td>\n",
       "      <td>...</td>\n",
       "      <td>...</td>\n",
       "      <td>...</td>\n",
       "      <td>...</td>\n",
       "      <td>...</td>\n",
       "      <td>...</td>\n",
       "      <td>...</td>\n",
       "      <td>...</td>\n",
       "      <td>...</td>\n",
       "      <td>...</td>\n",
       "      <td>...</td>\n",
       "    </tr>\n",
       "    <tr>\n",
       "      <th>4595</th>\n",
       "      <td>2014-07-09</td>\n",
       "      <td>3.081667e+05</td>\n",
       "      <td>3</td>\n",
       "      <td>1.75</td>\n",
       "      <td>1510</td>\n",
       "      <td>6360</td>\n",
       "      <td>1.0</td>\n",
       "      <td>0</td>\n",
       "      <td>0</td>\n",
       "      <td>4</td>\n",
       "      <td>1510</td>\n",
       "      <td>0</td>\n",
       "      <td>1954</td>\n",
       "      <td>1979</td>\n",
       "      <td>Seattle</td>\n",
       "      <td>WA 98133</td>\n",
       "      <td>WA</td>\n",
       "      <td>98133</td>\n",
       "    </tr>\n",
       "    <tr>\n",
       "      <th>4596</th>\n",
       "      <td>2014-07-09</td>\n",
       "      <td>5.343333e+05</td>\n",
       "      <td>3</td>\n",
       "      <td>2.50</td>\n",
       "      <td>1460</td>\n",
       "      <td>7573</td>\n",
       "      <td>2.0</td>\n",
       "      <td>0</td>\n",
       "      <td>0</td>\n",
       "      <td>3</td>\n",
       "      <td>1460</td>\n",
       "      <td>0</td>\n",
       "      <td>1983</td>\n",
       "      <td>2009</td>\n",
       "      <td>Bellevue</td>\n",
       "      <td>WA 98007</td>\n",
       "      <td>WA</td>\n",
       "      <td>98007</td>\n",
       "    </tr>\n",
       "    <tr>\n",
       "      <th>4597</th>\n",
       "      <td>2014-07-09</td>\n",
       "      <td>4.169042e+05</td>\n",
       "      <td>3</td>\n",
       "      <td>2.50</td>\n",
       "      <td>3010</td>\n",
       "      <td>7014</td>\n",
       "      <td>2.0</td>\n",
       "      <td>0</td>\n",
       "      <td>0</td>\n",
       "      <td>3</td>\n",
       "      <td>3010</td>\n",
       "      <td>0</td>\n",
       "      <td>2009</td>\n",
       "      <td>0</td>\n",
       "      <td>Renton</td>\n",
       "      <td>WA 98059</td>\n",
       "      <td>WA</td>\n",
       "      <td>98059</td>\n",
       "    </tr>\n",
       "    <tr>\n",
       "      <th>4598</th>\n",
       "      <td>2014-07-10</td>\n",
       "      <td>2.034000e+05</td>\n",
       "      <td>4</td>\n",
       "      <td>2.00</td>\n",
       "      <td>2090</td>\n",
       "      <td>6630</td>\n",
       "      <td>1.0</td>\n",
       "      <td>0</td>\n",
       "      <td>0</td>\n",
       "      <td>3</td>\n",
       "      <td>1070</td>\n",
       "      <td>1020</td>\n",
       "      <td>1974</td>\n",
       "      <td>0</td>\n",
       "      <td>Seattle</td>\n",
       "      <td>WA 98178</td>\n",
       "      <td>WA</td>\n",
       "      <td>98178</td>\n",
       "    </tr>\n",
       "    <tr>\n",
       "      <th>4599</th>\n",
       "      <td>2014-07-10</td>\n",
       "      <td>2.206000e+05</td>\n",
       "      <td>3</td>\n",
       "      <td>2.50</td>\n",
       "      <td>1490</td>\n",
       "      <td>8102</td>\n",
       "      <td>2.0</td>\n",
       "      <td>0</td>\n",
       "      <td>0</td>\n",
       "      <td>4</td>\n",
       "      <td>1490</td>\n",
       "      <td>0</td>\n",
       "      <td>1990</td>\n",
       "      <td>0</td>\n",
       "      <td>Covington</td>\n",
       "      <td>WA 98042</td>\n",
       "      <td>WA</td>\n",
       "      <td>98042</td>\n",
       "    </tr>\n",
       "  </tbody>\n",
       "</table>\n",
       "<p>4600 rows × 18 columns</p>\n",
       "</div>"
      ],
      "text/plain": [
       "           date         price  bedrooms  bathrooms  sqft_living  sqft_lot  \\\n",
       "0    2014-05-02  3.130000e+05         3       1.50         1340      7912   \n",
       "1    2014-05-02  2.384000e+06         5       2.50         3650      9050   \n",
       "2    2014-05-02  3.420000e+05         3       2.00         1930     11947   \n",
       "3    2014-05-02  4.200000e+05         3       2.25         2000      8030   \n",
       "4    2014-05-02  5.500000e+05         4       2.50         1940     10500   \n",
       "...         ...           ...       ...        ...          ...       ...   \n",
       "4595 2014-07-09  3.081667e+05         3       1.75         1510      6360   \n",
       "4596 2014-07-09  5.343333e+05         3       2.50         1460      7573   \n",
       "4597 2014-07-09  4.169042e+05         3       2.50         3010      7014   \n",
       "4598 2014-07-10  2.034000e+05         4       2.00         2090      6630   \n",
       "4599 2014-07-10  2.206000e+05         3       2.50         1490      8102   \n",
       "\n",
       "      floors  waterfront  view  condition  sqft_above  sqft_basement  \\\n",
       "0        1.5           0     0          3        1340              0   \n",
       "1        2.0           0     4          5        3370            280   \n",
       "2        1.0           0     0          4        1930              0   \n",
       "3        1.0           0     0          4        1000           1000   \n",
       "4        1.0           0     0          4        1140            800   \n",
       "...      ...         ...   ...        ...         ...            ...   \n",
       "4595     1.0           0     0          4        1510              0   \n",
       "4596     2.0           0     0          3        1460              0   \n",
       "4597     2.0           0     0          3        3010              0   \n",
       "4598     1.0           0     0          3        1070           1020   \n",
       "4599     2.0           0     0          4        1490              0   \n",
       "\n",
       "      yr_built  yr_renovated       city  statezip state statenb  \n",
       "0         1955          2005  Shoreline  WA 98133    WA   98133  \n",
       "1         1921             0    Seattle  WA 98119    WA   98119  \n",
       "2         1966             0       Kent  WA 98042    WA   98042  \n",
       "3         1963             0   Bellevue  WA 98008    WA   98008  \n",
       "4         1976          1992    Redmond  WA 98052    WA   98052  \n",
       "...        ...           ...        ...       ...   ...     ...  \n",
       "4595      1954          1979    Seattle  WA 98133    WA   98133  \n",
       "4596      1983          2009   Bellevue  WA 98007    WA   98007  \n",
       "4597      2009             0     Renton  WA 98059    WA   98059  \n",
       "4598      1974             0    Seattle  WA 98178    WA   98178  \n",
       "4599      1990             0  Covington  WA 98042    WA   98042  \n",
       "\n",
       "[4600 rows x 18 columns]"
      ]
     },
     "execution_count": 17,
     "metadata": {},
     "output_type": "execute_result"
    }
   ],
   "source": [
    "data\n"
   ]
  },
  {
   "cell_type": "code",
   "execution_count": 18,
   "id": "ee43c2da",
   "metadata": {
    "execution": {
     "iopub.execute_input": "2022-10-23T18:20:10.772308Z",
     "iopub.status.busy": "2022-10-23T18:20:10.771730Z",
     "iopub.status.idle": "2022-10-23T18:20:10.777334Z",
     "shell.execute_reply": "2022-10-23T18:20:10.776621Z"
    },
    "papermill": {
     "duration": 0.020822,
     "end_time": "2022-10-23T18:20:10.779325",
     "exception": false,
     "start_time": "2022-10-23T18:20:10.758503",
     "status": "completed"
    },
    "tags": []
   },
   "outputs": [],
   "source": [
    "data = data.drop([\"statezip\",\"state\"], axis=1)\n"
   ]
  },
  {
   "cell_type": "code",
   "execution_count": 19,
   "id": "389295d7",
   "metadata": {
    "execution": {
     "iopub.execute_input": "2022-10-23T18:20:10.804681Z",
     "iopub.status.busy": "2022-10-23T18:20:10.804046Z",
     "iopub.status.idle": "2022-10-23T18:20:10.826750Z",
     "shell.execute_reply": "2022-10-23T18:20:10.825698Z"
    },
    "papermill": {
     "duration": 0.037966,
     "end_time": "2022-10-23T18:20:10.828876",
     "exception": false,
     "start_time": "2022-10-23T18:20:10.790910",
     "status": "completed"
    },
    "tags": []
   },
   "outputs": [
    {
     "data": {
      "text/html": [
       "<div>\n",
       "<style scoped>\n",
       "    .dataframe tbody tr th:only-of-type {\n",
       "        vertical-align: middle;\n",
       "    }\n",
       "\n",
       "    .dataframe tbody tr th {\n",
       "        vertical-align: top;\n",
       "    }\n",
       "\n",
       "    .dataframe thead th {\n",
       "        text-align: right;\n",
       "    }\n",
       "</style>\n",
       "<table border=\"1\" class=\"dataframe\">\n",
       "  <thead>\n",
       "    <tr style=\"text-align: right;\">\n",
       "      <th></th>\n",
       "      <th>date</th>\n",
       "      <th>price</th>\n",
       "      <th>bedrooms</th>\n",
       "      <th>bathrooms</th>\n",
       "      <th>sqft_living</th>\n",
       "      <th>sqft_lot</th>\n",
       "      <th>floors</th>\n",
       "      <th>waterfront</th>\n",
       "      <th>view</th>\n",
       "      <th>condition</th>\n",
       "      <th>sqft_above</th>\n",
       "      <th>sqft_basement</th>\n",
       "      <th>yr_built</th>\n",
       "      <th>yr_renovated</th>\n",
       "      <th>city</th>\n",
       "      <th>statenb</th>\n",
       "    </tr>\n",
       "  </thead>\n",
       "  <tbody>\n",
       "    <tr>\n",
       "      <th>0</th>\n",
       "      <td>2014-05-02</td>\n",
       "      <td>3.130000e+05</td>\n",
       "      <td>3</td>\n",
       "      <td>1.50</td>\n",
       "      <td>1340</td>\n",
       "      <td>7912</td>\n",
       "      <td>1.5</td>\n",
       "      <td>0</td>\n",
       "      <td>0</td>\n",
       "      <td>3</td>\n",
       "      <td>1340</td>\n",
       "      <td>0</td>\n",
       "      <td>1955</td>\n",
       "      <td>2005</td>\n",
       "      <td>Shoreline</td>\n",
       "      <td>98133</td>\n",
       "    </tr>\n",
       "    <tr>\n",
       "      <th>1</th>\n",
       "      <td>2014-05-02</td>\n",
       "      <td>2.384000e+06</td>\n",
       "      <td>5</td>\n",
       "      <td>2.50</td>\n",
       "      <td>3650</td>\n",
       "      <td>9050</td>\n",
       "      <td>2.0</td>\n",
       "      <td>0</td>\n",
       "      <td>4</td>\n",
       "      <td>5</td>\n",
       "      <td>3370</td>\n",
       "      <td>280</td>\n",
       "      <td>1921</td>\n",
       "      <td>0</td>\n",
       "      <td>Seattle</td>\n",
       "      <td>98119</td>\n",
       "    </tr>\n",
       "    <tr>\n",
       "      <th>2</th>\n",
       "      <td>2014-05-02</td>\n",
       "      <td>3.420000e+05</td>\n",
       "      <td>3</td>\n",
       "      <td>2.00</td>\n",
       "      <td>1930</td>\n",
       "      <td>11947</td>\n",
       "      <td>1.0</td>\n",
       "      <td>0</td>\n",
       "      <td>0</td>\n",
       "      <td>4</td>\n",
       "      <td>1930</td>\n",
       "      <td>0</td>\n",
       "      <td>1966</td>\n",
       "      <td>0</td>\n",
       "      <td>Kent</td>\n",
       "      <td>98042</td>\n",
       "    </tr>\n",
       "    <tr>\n",
       "      <th>3</th>\n",
       "      <td>2014-05-02</td>\n",
       "      <td>4.200000e+05</td>\n",
       "      <td>3</td>\n",
       "      <td>2.25</td>\n",
       "      <td>2000</td>\n",
       "      <td>8030</td>\n",
       "      <td>1.0</td>\n",
       "      <td>0</td>\n",
       "      <td>0</td>\n",
       "      <td>4</td>\n",
       "      <td>1000</td>\n",
       "      <td>1000</td>\n",
       "      <td>1963</td>\n",
       "      <td>0</td>\n",
       "      <td>Bellevue</td>\n",
       "      <td>98008</td>\n",
       "    </tr>\n",
       "    <tr>\n",
       "      <th>4</th>\n",
       "      <td>2014-05-02</td>\n",
       "      <td>5.500000e+05</td>\n",
       "      <td>4</td>\n",
       "      <td>2.50</td>\n",
       "      <td>1940</td>\n",
       "      <td>10500</td>\n",
       "      <td>1.0</td>\n",
       "      <td>0</td>\n",
       "      <td>0</td>\n",
       "      <td>4</td>\n",
       "      <td>1140</td>\n",
       "      <td>800</td>\n",
       "      <td>1976</td>\n",
       "      <td>1992</td>\n",
       "      <td>Redmond</td>\n",
       "      <td>98052</td>\n",
       "    </tr>\n",
       "    <tr>\n",
       "      <th>...</th>\n",
       "      <td>...</td>\n",
       "      <td>...</td>\n",
       "      <td>...</td>\n",
       "      <td>...</td>\n",
       "      <td>...</td>\n",
       "      <td>...</td>\n",
       "      <td>...</td>\n",
       "      <td>...</td>\n",
       "      <td>...</td>\n",
       "      <td>...</td>\n",
       "      <td>...</td>\n",
       "      <td>...</td>\n",
       "      <td>...</td>\n",
       "      <td>...</td>\n",
       "      <td>...</td>\n",
       "      <td>...</td>\n",
       "    </tr>\n",
       "    <tr>\n",
       "      <th>4595</th>\n",
       "      <td>2014-07-09</td>\n",
       "      <td>3.081667e+05</td>\n",
       "      <td>3</td>\n",
       "      <td>1.75</td>\n",
       "      <td>1510</td>\n",
       "      <td>6360</td>\n",
       "      <td>1.0</td>\n",
       "      <td>0</td>\n",
       "      <td>0</td>\n",
       "      <td>4</td>\n",
       "      <td>1510</td>\n",
       "      <td>0</td>\n",
       "      <td>1954</td>\n",
       "      <td>1979</td>\n",
       "      <td>Seattle</td>\n",
       "      <td>98133</td>\n",
       "    </tr>\n",
       "    <tr>\n",
       "      <th>4596</th>\n",
       "      <td>2014-07-09</td>\n",
       "      <td>5.343333e+05</td>\n",
       "      <td>3</td>\n",
       "      <td>2.50</td>\n",
       "      <td>1460</td>\n",
       "      <td>7573</td>\n",
       "      <td>2.0</td>\n",
       "      <td>0</td>\n",
       "      <td>0</td>\n",
       "      <td>3</td>\n",
       "      <td>1460</td>\n",
       "      <td>0</td>\n",
       "      <td>1983</td>\n",
       "      <td>2009</td>\n",
       "      <td>Bellevue</td>\n",
       "      <td>98007</td>\n",
       "    </tr>\n",
       "    <tr>\n",
       "      <th>4597</th>\n",
       "      <td>2014-07-09</td>\n",
       "      <td>4.169042e+05</td>\n",
       "      <td>3</td>\n",
       "      <td>2.50</td>\n",
       "      <td>3010</td>\n",
       "      <td>7014</td>\n",
       "      <td>2.0</td>\n",
       "      <td>0</td>\n",
       "      <td>0</td>\n",
       "      <td>3</td>\n",
       "      <td>3010</td>\n",
       "      <td>0</td>\n",
       "      <td>2009</td>\n",
       "      <td>0</td>\n",
       "      <td>Renton</td>\n",
       "      <td>98059</td>\n",
       "    </tr>\n",
       "    <tr>\n",
       "      <th>4598</th>\n",
       "      <td>2014-07-10</td>\n",
       "      <td>2.034000e+05</td>\n",
       "      <td>4</td>\n",
       "      <td>2.00</td>\n",
       "      <td>2090</td>\n",
       "      <td>6630</td>\n",
       "      <td>1.0</td>\n",
       "      <td>0</td>\n",
       "      <td>0</td>\n",
       "      <td>3</td>\n",
       "      <td>1070</td>\n",
       "      <td>1020</td>\n",
       "      <td>1974</td>\n",
       "      <td>0</td>\n",
       "      <td>Seattle</td>\n",
       "      <td>98178</td>\n",
       "    </tr>\n",
       "    <tr>\n",
       "      <th>4599</th>\n",
       "      <td>2014-07-10</td>\n",
       "      <td>2.206000e+05</td>\n",
       "      <td>3</td>\n",
       "      <td>2.50</td>\n",
       "      <td>1490</td>\n",
       "      <td>8102</td>\n",
       "      <td>2.0</td>\n",
       "      <td>0</td>\n",
       "      <td>0</td>\n",
       "      <td>4</td>\n",
       "      <td>1490</td>\n",
       "      <td>0</td>\n",
       "      <td>1990</td>\n",
       "      <td>0</td>\n",
       "      <td>Covington</td>\n",
       "      <td>98042</td>\n",
       "    </tr>\n",
       "  </tbody>\n",
       "</table>\n",
       "<p>4600 rows × 16 columns</p>\n",
       "</div>"
      ],
      "text/plain": [
       "           date         price  bedrooms  bathrooms  sqft_living  sqft_lot  \\\n",
       "0    2014-05-02  3.130000e+05         3       1.50         1340      7912   \n",
       "1    2014-05-02  2.384000e+06         5       2.50         3650      9050   \n",
       "2    2014-05-02  3.420000e+05         3       2.00         1930     11947   \n",
       "3    2014-05-02  4.200000e+05         3       2.25         2000      8030   \n",
       "4    2014-05-02  5.500000e+05         4       2.50         1940     10500   \n",
       "...         ...           ...       ...        ...          ...       ...   \n",
       "4595 2014-07-09  3.081667e+05         3       1.75         1510      6360   \n",
       "4596 2014-07-09  5.343333e+05         3       2.50         1460      7573   \n",
       "4597 2014-07-09  4.169042e+05         3       2.50         3010      7014   \n",
       "4598 2014-07-10  2.034000e+05         4       2.00         2090      6630   \n",
       "4599 2014-07-10  2.206000e+05         3       2.50         1490      8102   \n",
       "\n",
       "      floors  waterfront  view  condition  sqft_above  sqft_basement  \\\n",
       "0        1.5           0     0          3        1340              0   \n",
       "1        2.0           0     4          5        3370            280   \n",
       "2        1.0           0     0          4        1930              0   \n",
       "3        1.0           0     0          4        1000           1000   \n",
       "4        1.0           0     0          4        1140            800   \n",
       "...      ...         ...   ...        ...         ...            ...   \n",
       "4595     1.0           0     0          4        1510              0   \n",
       "4596     2.0           0     0          3        1460              0   \n",
       "4597     2.0           0     0          3        3010              0   \n",
       "4598     1.0           0     0          3        1070           1020   \n",
       "4599     2.0           0     0          4        1490              0   \n",
       "\n",
       "      yr_built  yr_renovated       city statenb  \n",
       "0         1955          2005  Shoreline   98133  \n",
       "1         1921             0    Seattle   98119  \n",
       "2         1966             0       Kent   98042  \n",
       "3         1963             0   Bellevue   98008  \n",
       "4         1976          1992    Redmond   98052  \n",
       "...        ...           ...        ...     ...  \n",
       "4595      1954          1979    Seattle   98133  \n",
       "4596      1983          2009   Bellevue   98007  \n",
       "4597      2009             0     Renton   98059  \n",
       "4598      1974             0    Seattle   98178  \n",
       "4599      1990             0  Covington   98042  \n",
       "\n",
       "[4600 rows x 16 columns]"
      ]
     },
     "execution_count": 19,
     "metadata": {},
     "output_type": "execute_result"
    }
   ],
   "source": [
    "data"
   ]
  },
  {
   "cell_type": "code",
   "execution_count": 20,
   "id": "439e9c10",
   "metadata": {
    "execution": {
     "iopub.execute_input": "2022-10-23T18:20:10.854382Z",
     "iopub.status.busy": "2022-10-23T18:20:10.854030Z",
     "iopub.status.idle": "2022-10-23T18:20:10.860430Z",
     "shell.execute_reply": "2022-10-23T18:20:10.859736Z"
    },
    "papermill": {
     "duration": 0.02118,
     "end_time": "2022-10-23T18:20:10.862327",
     "exception": false,
     "start_time": "2022-10-23T18:20:10.841147",
     "status": "completed"
    },
    "tags": []
   },
   "outputs": [
    {
     "data": {
      "text/plain": [
       "44"
      ]
     },
     "execution_count": 20,
     "metadata": {},
     "output_type": "execute_result"
    }
   ],
   "source": [
    "data[\"city\"].nunique()"
   ]
  },
  {
   "cell_type": "markdown",
   "id": "771f3ca4",
   "metadata": {
    "papermill": {
     "duration": 0.011861,
     "end_time": "2022-10-23T18:20:10.885897",
     "exception": false,
     "start_time": "2022-10-23T18:20:10.874036",
     "status": "completed"
    },
    "tags": []
   },
   "source": [
    "On to the city collumn, encoding is the way to go.\n",
    "Using one hot encoder & testing out the resulting data"
   ]
  },
  {
   "cell_type": "code",
   "execution_count": 21,
   "id": "85916130",
   "metadata": {
    "execution": {
     "iopub.execute_input": "2022-10-23T18:20:10.910366Z",
     "iopub.status.busy": "2022-10-23T18:20:10.909630Z",
     "iopub.status.idle": "2022-10-23T18:20:11.694916Z",
     "shell.execute_reply": "2022-10-23T18:20:11.693898Z"
    },
    "papermill": {
     "duration": 0.800097,
     "end_time": "2022-10-23T18:20:11.697158",
     "exception": false,
     "start_time": "2022-10-23T18:20:10.897061",
     "status": "completed"
    },
    "tags": []
   },
   "outputs": [
    {
     "data": {
      "text/html": [
       "<div>\n",
       "<style scoped>\n",
       "    .dataframe tbody tr th:only-of-type {\n",
       "        vertical-align: middle;\n",
       "    }\n",
       "\n",
       "    .dataframe tbody tr th {\n",
       "        vertical-align: top;\n",
       "    }\n",
       "\n",
       "    .dataframe thead th {\n",
       "        text-align: right;\n",
       "    }\n",
       "</style>\n",
       "<table border=\"1\" class=\"dataframe\">\n",
       "  <thead>\n",
       "    <tr style=\"text-align: right;\">\n",
       "      <th></th>\n",
       "      <th>city</th>\n",
       "    </tr>\n",
       "  </thead>\n",
       "  <tbody>\n",
       "    <tr>\n",
       "      <th>0</th>\n",
       "      <td>36</td>\n",
       "    </tr>\n",
       "    <tr>\n",
       "      <th>1</th>\n",
       "      <td>35</td>\n",
       "    </tr>\n",
       "    <tr>\n",
       "      <th>2</th>\n",
       "      <td>18</td>\n",
       "    </tr>\n",
       "    <tr>\n",
       "      <th>3</th>\n",
       "      <td>3</td>\n",
       "    </tr>\n",
       "    <tr>\n",
       "      <th>4</th>\n",
       "      <td>31</td>\n",
       "    </tr>\n",
       "    <tr>\n",
       "      <th>...</th>\n",
       "      <td>...</td>\n",
       "    </tr>\n",
       "    <tr>\n",
       "      <th>4595</th>\n",
       "      <td>35</td>\n",
       "    </tr>\n",
       "    <tr>\n",
       "      <th>4596</th>\n",
       "      <td>3</td>\n",
       "    </tr>\n",
       "    <tr>\n",
       "      <th>4597</th>\n",
       "      <td>32</td>\n",
       "    </tr>\n",
       "    <tr>\n",
       "      <th>4598</th>\n",
       "      <td>35</td>\n",
       "    </tr>\n",
       "    <tr>\n",
       "      <th>4599</th>\n",
       "      <td>9</td>\n",
       "    </tr>\n",
       "  </tbody>\n",
       "</table>\n",
       "<p>4600 rows × 1 columns</p>\n",
       "</div>"
      ],
      "text/plain": [
       "      city\n",
       "0       36\n",
       "1       35\n",
       "2       18\n",
       "3        3\n",
       "4       31\n",
       "...    ...\n",
       "4595    35\n",
       "4596     3\n",
       "4597    32\n",
       "4598    35\n",
       "4599     9\n",
       "\n",
       "[4600 rows x 1 columns]"
      ]
     },
     "execution_count": 21,
     "metadata": {},
     "output_type": "execute_result"
    }
   ],
   "source": [
    "# Import label encoder\n",
    "from sklearn import preprocessing\n",
    "\n",
    "# label_encoder object knows how to understand word labels.\n",
    "label_encoder = preprocessing.LabelEncoder()\n",
    "df1 = pd.DataFrame({'city': data[\"city\"]})\n",
    "# Encode labels in column 'species'.\n",
    "df1['city']= label_encoder.fit_transform(df1['city'])\n",
    "\n",
    "df1\n"
   ]
  },
  {
   "cell_type": "code",
   "execution_count": 22,
   "id": "fcec9f20",
   "metadata": {
    "execution": {
     "iopub.execute_input": "2022-10-23T18:20:11.724035Z",
     "iopub.status.busy": "2022-10-23T18:20:11.723662Z",
     "iopub.status.idle": "2022-10-23T18:20:11.736652Z",
     "shell.execute_reply": "2022-10-23T18:20:11.735710Z"
    },
    "papermill": {
     "duration": 0.028947,
     "end_time": "2022-10-23T18:20:11.738738",
     "exception": false,
     "start_time": "2022-10-23T18:20:11.709791",
     "status": "completed"
    },
    "tags": []
   },
   "outputs": [
    {
     "data": {
      "text/plain": [
       "0       36\n",
       "1       35\n",
       "2       18\n",
       "3        3\n",
       "4       31\n",
       "        ..\n",
       "4595    35\n",
       "4596     3\n",
       "4597    32\n",
       "4598    35\n",
       "4599     9\n",
       "Name: cityEnc, Length: 4600, dtype: int64"
      ]
     },
     "execution_count": 22,
     "metadata": {},
     "output_type": "execute_result"
    }
   ],
   "source": [
    "from sklearn.preprocessing import LabelEncoder\n",
    "LB = LabelEncoder()\n",
    "data[\"cityEnc\"] = LB.fit_transform(data[\"city\"])\n",
    "\n",
    "data = data.drop([\"city\"],axis=1)\n",
    "data[\"cityEnc\"]"
   ]
  },
  {
   "cell_type": "markdown",
   "id": "b3bb652a",
   "metadata": {
    "papermill": {
     "duration": 0.012669,
     "end_time": "2022-10-23T18:20:11.764338",
     "exception": false,
     "start_time": "2022-10-23T18:20:11.751669",
     "status": "completed"
    },
    "tags": []
   },
   "source": [
    "Let's take a look at our data after encoding."
   ]
  },
  {
   "cell_type": "code",
   "execution_count": 23,
   "id": "55266526",
   "metadata": {
    "execution": {
     "iopub.execute_input": "2022-10-23T18:20:11.791152Z",
     "iopub.status.busy": "2022-10-23T18:20:11.790744Z",
     "iopub.status.idle": "2022-10-23T18:20:11.814632Z",
     "shell.execute_reply": "2022-10-23T18:20:11.813587Z"
    },
    "papermill": {
     "duration": 0.039991,
     "end_time": "2022-10-23T18:20:11.816672",
     "exception": false,
     "start_time": "2022-10-23T18:20:11.776681",
     "status": "completed"
    },
    "tags": []
   },
   "outputs": [
    {
     "data": {
      "text/html": [
       "<div>\n",
       "<style scoped>\n",
       "    .dataframe tbody tr th:only-of-type {\n",
       "        vertical-align: middle;\n",
       "    }\n",
       "\n",
       "    .dataframe tbody tr th {\n",
       "        vertical-align: top;\n",
       "    }\n",
       "\n",
       "    .dataframe thead th {\n",
       "        text-align: right;\n",
       "    }\n",
       "</style>\n",
       "<table border=\"1\" class=\"dataframe\">\n",
       "  <thead>\n",
       "    <tr style=\"text-align: right;\">\n",
       "      <th></th>\n",
       "      <th>date</th>\n",
       "      <th>price</th>\n",
       "      <th>bedrooms</th>\n",
       "      <th>bathrooms</th>\n",
       "      <th>sqft_living</th>\n",
       "      <th>sqft_lot</th>\n",
       "      <th>floors</th>\n",
       "      <th>waterfront</th>\n",
       "      <th>view</th>\n",
       "      <th>condition</th>\n",
       "      <th>sqft_above</th>\n",
       "      <th>sqft_basement</th>\n",
       "      <th>yr_built</th>\n",
       "      <th>yr_renovated</th>\n",
       "      <th>statenb</th>\n",
       "      <th>cityEnc</th>\n",
       "    </tr>\n",
       "  </thead>\n",
       "  <tbody>\n",
       "    <tr>\n",
       "      <th>0</th>\n",
       "      <td>2014-05-02</td>\n",
       "      <td>3.130000e+05</td>\n",
       "      <td>3</td>\n",
       "      <td>1.50</td>\n",
       "      <td>1340</td>\n",
       "      <td>7912</td>\n",
       "      <td>1.5</td>\n",
       "      <td>0</td>\n",
       "      <td>0</td>\n",
       "      <td>3</td>\n",
       "      <td>1340</td>\n",
       "      <td>0</td>\n",
       "      <td>1955</td>\n",
       "      <td>2005</td>\n",
       "      <td>98133</td>\n",
       "      <td>36</td>\n",
       "    </tr>\n",
       "    <tr>\n",
       "      <th>1</th>\n",
       "      <td>2014-05-02</td>\n",
       "      <td>2.384000e+06</td>\n",
       "      <td>5</td>\n",
       "      <td>2.50</td>\n",
       "      <td>3650</td>\n",
       "      <td>9050</td>\n",
       "      <td>2.0</td>\n",
       "      <td>0</td>\n",
       "      <td>4</td>\n",
       "      <td>5</td>\n",
       "      <td>3370</td>\n",
       "      <td>280</td>\n",
       "      <td>1921</td>\n",
       "      <td>0</td>\n",
       "      <td>98119</td>\n",
       "      <td>35</td>\n",
       "    </tr>\n",
       "    <tr>\n",
       "      <th>2</th>\n",
       "      <td>2014-05-02</td>\n",
       "      <td>3.420000e+05</td>\n",
       "      <td>3</td>\n",
       "      <td>2.00</td>\n",
       "      <td>1930</td>\n",
       "      <td>11947</td>\n",
       "      <td>1.0</td>\n",
       "      <td>0</td>\n",
       "      <td>0</td>\n",
       "      <td>4</td>\n",
       "      <td>1930</td>\n",
       "      <td>0</td>\n",
       "      <td>1966</td>\n",
       "      <td>0</td>\n",
       "      <td>98042</td>\n",
       "      <td>18</td>\n",
       "    </tr>\n",
       "    <tr>\n",
       "      <th>3</th>\n",
       "      <td>2014-05-02</td>\n",
       "      <td>4.200000e+05</td>\n",
       "      <td>3</td>\n",
       "      <td>2.25</td>\n",
       "      <td>2000</td>\n",
       "      <td>8030</td>\n",
       "      <td>1.0</td>\n",
       "      <td>0</td>\n",
       "      <td>0</td>\n",
       "      <td>4</td>\n",
       "      <td>1000</td>\n",
       "      <td>1000</td>\n",
       "      <td>1963</td>\n",
       "      <td>0</td>\n",
       "      <td>98008</td>\n",
       "      <td>3</td>\n",
       "    </tr>\n",
       "    <tr>\n",
       "      <th>4</th>\n",
       "      <td>2014-05-02</td>\n",
       "      <td>5.500000e+05</td>\n",
       "      <td>4</td>\n",
       "      <td>2.50</td>\n",
       "      <td>1940</td>\n",
       "      <td>10500</td>\n",
       "      <td>1.0</td>\n",
       "      <td>0</td>\n",
       "      <td>0</td>\n",
       "      <td>4</td>\n",
       "      <td>1140</td>\n",
       "      <td>800</td>\n",
       "      <td>1976</td>\n",
       "      <td>1992</td>\n",
       "      <td>98052</td>\n",
       "      <td>31</td>\n",
       "    </tr>\n",
       "    <tr>\n",
       "      <th>...</th>\n",
       "      <td>...</td>\n",
       "      <td>...</td>\n",
       "      <td>...</td>\n",
       "      <td>...</td>\n",
       "      <td>...</td>\n",
       "      <td>...</td>\n",
       "      <td>...</td>\n",
       "      <td>...</td>\n",
       "      <td>...</td>\n",
       "      <td>...</td>\n",
       "      <td>...</td>\n",
       "      <td>...</td>\n",
       "      <td>...</td>\n",
       "      <td>...</td>\n",
       "      <td>...</td>\n",
       "      <td>...</td>\n",
       "    </tr>\n",
       "    <tr>\n",
       "      <th>4595</th>\n",
       "      <td>2014-07-09</td>\n",
       "      <td>3.081667e+05</td>\n",
       "      <td>3</td>\n",
       "      <td>1.75</td>\n",
       "      <td>1510</td>\n",
       "      <td>6360</td>\n",
       "      <td>1.0</td>\n",
       "      <td>0</td>\n",
       "      <td>0</td>\n",
       "      <td>4</td>\n",
       "      <td>1510</td>\n",
       "      <td>0</td>\n",
       "      <td>1954</td>\n",
       "      <td>1979</td>\n",
       "      <td>98133</td>\n",
       "      <td>35</td>\n",
       "    </tr>\n",
       "    <tr>\n",
       "      <th>4596</th>\n",
       "      <td>2014-07-09</td>\n",
       "      <td>5.343333e+05</td>\n",
       "      <td>3</td>\n",
       "      <td>2.50</td>\n",
       "      <td>1460</td>\n",
       "      <td>7573</td>\n",
       "      <td>2.0</td>\n",
       "      <td>0</td>\n",
       "      <td>0</td>\n",
       "      <td>3</td>\n",
       "      <td>1460</td>\n",
       "      <td>0</td>\n",
       "      <td>1983</td>\n",
       "      <td>2009</td>\n",
       "      <td>98007</td>\n",
       "      <td>3</td>\n",
       "    </tr>\n",
       "    <tr>\n",
       "      <th>4597</th>\n",
       "      <td>2014-07-09</td>\n",
       "      <td>4.169042e+05</td>\n",
       "      <td>3</td>\n",
       "      <td>2.50</td>\n",
       "      <td>3010</td>\n",
       "      <td>7014</td>\n",
       "      <td>2.0</td>\n",
       "      <td>0</td>\n",
       "      <td>0</td>\n",
       "      <td>3</td>\n",
       "      <td>3010</td>\n",
       "      <td>0</td>\n",
       "      <td>2009</td>\n",
       "      <td>0</td>\n",
       "      <td>98059</td>\n",
       "      <td>32</td>\n",
       "    </tr>\n",
       "    <tr>\n",
       "      <th>4598</th>\n",
       "      <td>2014-07-10</td>\n",
       "      <td>2.034000e+05</td>\n",
       "      <td>4</td>\n",
       "      <td>2.00</td>\n",
       "      <td>2090</td>\n",
       "      <td>6630</td>\n",
       "      <td>1.0</td>\n",
       "      <td>0</td>\n",
       "      <td>0</td>\n",
       "      <td>3</td>\n",
       "      <td>1070</td>\n",
       "      <td>1020</td>\n",
       "      <td>1974</td>\n",
       "      <td>0</td>\n",
       "      <td>98178</td>\n",
       "      <td>35</td>\n",
       "    </tr>\n",
       "    <tr>\n",
       "      <th>4599</th>\n",
       "      <td>2014-07-10</td>\n",
       "      <td>2.206000e+05</td>\n",
       "      <td>3</td>\n",
       "      <td>2.50</td>\n",
       "      <td>1490</td>\n",
       "      <td>8102</td>\n",
       "      <td>2.0</td>\n",
       "      <td>0</td>\n",
       "      <td>0</td>\n",
       "      <td>4</td>\n",
       "      <td>1490</td>\n",
       "      <td>0</td>\n",
       "      <td>1990</td>\n",
       "      <td>0</td>\n",
       "      <td>98042</td>\n",
       "      <td>9</td>\n",
       "    </tr>\n",
       "  </tbody>\n",
       "</table>\n",
       "<p>4600 rows × 16 columns</p>\n",
       "</div>"
      ],
      "text/plain": [
       "           date         price  bedrooms  bathrooms  sqft_living  sqft_lot  \\\n",
       "0    2014-05-02  3.130000e+05         3       1.50         1340      7912   \n",
       "1    2014-05-02  2.384000e+06         5       2.50         3650      9050   \n",
       "2    2014-05-02  3.420000e+05         3       2.00         1930     11947   \n",
       "3    2014-05-02  4.200000e+05         3       2.25         2000      8030   \n",
       "4    2014-05-02  5.500000e+05         4       2.50         1940     10500   \n",
       "...         ...           ...       ...        ...          ...       ...   \n",
       "4595 2014-07-09  3.081667e+05         3       1.75         1510      6360   \n",
       "4596 2014-07-09  5.343333e+05         3       2.50         1460      7573   \n",
       "4597 2014-07-09  4.169042e+05         3       2.50         3010      7014   \n",
       "4598 2014-07-10  2.034000e+05         4       2.00         2090      6630   \n",
       "4599 2014-07-10  2.206000e+05         3       2.50         1490      8102   \n",
       "\n",
       "      floors  waterfront  view  condition  sqft_above  sqft_basement  \\\n",
       "0        1.5           0     0          3        1340              0   \n",
       "1        2.0           0     4          5        3370            280   \n",
       "2        1.0           0     0          4        1930              0   \n",
       "3        1.0           0     0          4        1000           1000   \n",
       "4        1.0           0     0          4        1140            800   \n",
       "...      ...         ...   ...        ...         ...            ...   \n",
       "4595     1.0           0     0          4        1510              0   \n",
       "4596     2.0           0     0          3        1460              0   \n",
       "4597     2.0           0     0          3        3010              0   \n",
       "4598     1.0           0     0          3        1070           1020   \n",
       "4599     2.0           0     0          4        1490              0   \n",
       "\n",
       "      yr_built  yr_renovated statenb  cityEnc  \n",
       "0         1955          2005   98133       36  \n",
       "1         1921             0   98119       35  \n",
       "2         1966             0   98042       18  \n",
       "3         1963             0   98008        3  \n",
       "4         1976          1992   98052       31  \n",
       "...        ...           ...     ...      ...  \n",
       "4595      1954          1979   98133       35  \n",
       "4596      1983          2009   98007        3  \n",
       "4597      2009             0   98059       32  \n",
       "4598      1974             0   98178       35  \n",
       "4599      1990             0   98042        9  \n",
       "\n",
       "[4600 rows x 16 columns]"
      ]
     },
     "execution_count": 23,
     "metadata": {},
     "output_type": "execute_result"
    }
   ],
   "source": [
    "data"
   ]
  },
  {
   "cell_type": "markdown",
   "id": "b96b85d9",
   "metadata": {
    "papermill": {
     "duration": 0.01303,
     "end_time": "2022-10-23T18:20:11.842840",
     "exception": false,
     "start_time": "2022-10-23T18:20:11.829810",
     "status": "completed"
    },
    "tags": []
   },
   "source": [
    "Let's take a look & see if any outliers exist in our data"
   ]
  },
  {
   "cell_type": "code",
   "execution_count": 24,
   "id": "cd1f440a",
   "metadata": {
    "execution": {
     "iopub.execute_input": "2022-10-23T18:20:11.870150Z",
     "iopub.status.busy": "2022-10-23T18:20:11.869739Z",
     "iopub.status.idle": "2022-10-23T18:20:12.150410Z",
     "shell.execute_reply": "2022-10-23T18:20:12.149388Z"
    },
    "papermill": {
     "duration": 0.297181,
     "end_time": "2022-10-23T18:20:12.152727",
     "exception": false,
     "start_time": "2022-10-23T18:20:11.855546",
     "status": "completed"
    },
    "tags": []
   },
   "outputs": [
    {
     "data": {
      "image/png": "[encoded data removed]",
      "text/plain": [
       "<Figure size 720x504 with 1 Axes>"
      ]
     },
     "metadata": {
      "needs_background": "light"
     },
     "output_type": "display_data"
    }
   ],
   "source": [
    "import matplotlib.pyplot as plt\n",
    "import numpy as np\n",
    " \n",
    " \n",
    "\n",
    " \n",
    "fig = plt.figure(figsize =(10, 7))\n",
    " \n",
    "# Creating plot\n",
    "plt.boxplot(data[\"bedrooms\"])\n",
    " \n",
    "# show plot\n",
    "plt.show()"
   ]
  },
  {
   "cell_type": "code",
   "execution_count": 25,
   "id": "fb00fc14",
   "metadata": {
    "execution": {
     "iopub.execute_input": "2022-10-23T18:20:12.182492Z",
     "iopub.status.busy": "2022-10-23T18:20:12.182115Z",
     "iopub.status.idle": "2022-10-23T18:20:12.413204Z",
     "shell.execute_reply": "2022-10-23T18:20:12.412453Z"
    },
    "papermill": {
     "duration": 0.248883,
     "end_time": "2022-10-23T18:20:12.415274",
     "exception": false,
     "start_time": "2022-10-23T18:20:12.166391",
     "status": "completed"
    },
    "tags": []
   },
   "outputs": [
    {
     "data": {
      "image/png": "[encoded data removed]",
      "text/plain": [
       "<Figure size 432x288 with 1 Axes>"
      ]
     },
     "metadata": {
      "needs_background": "light"
     },
     "output_type": "display_data"
    }
   ],
   "source": [
    "import matplotlib.pyplot as plt # for graphs \n",
    "X = data[\"bathrooms\"]\n",
    "y = data[\"price\"]\n",
    "TwoFeatureGraph(X,y)"
   ]
  },
  {
   "cell_type": "markdown",
   "id": "1d85732d",
   "metadata": {
    "papermill": {
     "duration": 0.013643,
     "end_time": "2022-10-23T18:20:12.442965",
     "exception": false,
     "start_time": "2022-10-23T18:20:12.429322",
     "status": "completed"
    },
    "tags": []
   },
   "source": [
    "From describing the data, max values seems coherent so no outliers."
   ]
  },
  {
   "cell_type": "code",
   "execution_count": 26,
   "id": "e3578f41",
   "metadata": {
    "execution": {
     "iopub.execute_input": "2022-10-23T18:20:12.471764Z",
     "iopub.status.busy": "2022-10-23T18:20:12.470873Z",
     "iopub.status.idle": "2022-10-23T18:20:12.476191Z",
     "shell.execute_reply": "2022-10-23T18:20:12.475477Z"
    },
    "papermill": {
     "duration": 0.021755,
     "end_time": "2022-10-23T18:20:12.478178",
     "exception": false,
     "start_time": "2022-10-23T18:20:12.456423",
     "status": "completed"
    },
    "tags": []
   },
   "outputs": [],
   "source": [
    "#Dropping date value since no correlation with price or anything else\n",
    "data = data.drop([\"date\"], axis=1)\n"
   ]
  },
  {
   "cell_type": "code",
   "execution_count": 27,
   "id": "8860bfe8",
   "metadata": {
    "execution": {
     "iopub.execute_input": "2022-10-23T18:20:12.505844Z",
     "iopub.status.busy": "2022-10-23T18:20:12.505349Z",
     "iopub.status.idle": "2022-10-23T18:20:12.511288Z",
     "shell.execute_reply": "2022-10-23T18:20:12.510608Z"
    },
    "papermill": {
     "duration": 0.021866,
     "end_time": "2022-10-23T18:20:12.513068",
     "exception": false,
     "start_time": "2022-10-23T18:20:12.491202",
     "status": "completed"
    },
    "tags": []
   },
   "outputs": [
    {
     "data": {
      "text/plain": [
       "(array([ 122,  241,  252,  291,  575,  743, 1455, 1479, 1500, 1644, 2365,\n",
       "        2717, 2917, 3004, 3046, 3209, 3370, 3911, 4243]),)"
      ]
     },
     "execution_count": 27,
     "metadata": {},
     "output_type": "execute_result"
    }
   ],
   "source": [
    "outlier_iqr(data[\"bedrooms\"])\n"
   ]
  },
  {
   "cell_type": "code",
   "execution_count": 28,
   "id": "13b112ef",
   "metadata": {
    "execution": {
     "iopub.execute_input": "2022-10-23T18:20:12.541209Z",
     "iopub.status.busy": "2022-10-23T18:20:12.540675Z",
     "iopub.status.idle": "2022-10-23T18:20:12.545726Z",
     "shell.execute_reply": "2022-10-23T18:20:12.544670Z"
    },
    "papermill": {
     "duration": 0.021286,
     "end_time": "2022-10-23T18:20:12.547505",
     "exception": false,
     "start_time": "2022-10-23T18:20:12.526219",
     "status": "completed"
    },
    "tags": []
   },
   "outputs": [
    {
     "name": "stdout",
     "output_type": "stream",
     "text": [
      "(4600, 15)\n"
     ]
    }
   ],
   "source": [
    "data.keys()\n",
    "print(data.shape) \n",
    "#nombre d'observations/lignes\n",
    "n = data.shape[0]\n",
    "#nombre de variables/colonnes\n",
    "p = data.shape[1]"
   ]
  },
  {
   "cell_type": "code",
   "execution_count": 29,
   "id": "a388c167",
   "metadata": {
    "execution": {
     "iopub.execute_input": "2022-10-23T18:20:12.576258Z",
     "iopub.status.busy": "2022-10-23T18:20:12.575696Z",
     "iopub.status.idle": "2022-10-23T18:20:12.598113Z",
     "shell.execute_reply": "2022-10-23T18:20:12.596912Z"
    },
    "papermill": {
     "duration": 0.039295,
     "end_time": "2022-10-23T18:20:12.600291",
     "exception": false,
     "start_time": "2022-10-23T18:20:12.560996",
     "status": "completed"
    },
    "tags": []
   },
   "outputs": [
    {
     "name": "stdout",
     "output_type": "stream",
     "text": [
      "[[-0.42386353 -0.44112227 -0.84320364 ...  1.22167046  1.00910662\n",
      "   0.8618055 ]\n",
      " [ 3.2495981   1.75970468  0.43280154 ... -0.82569345  0.74563338\n",
      "   0.77834292]\n",
      " [-0.37242442 -0.44112227 -0.20520105 ... -0.82569345 -0.70346948\n",
      "  -0.64052081]\n",
      " ...\n",
      " [-0.23956224 -0.44112227  0.43280154 ... -0.82569345 -0.38353768\n",
      "   0.5279552 ]\n",
      " [-0.61826787  0.6592912  -0.20520105 ... -0.82569345  1.85598491\n",
      "   0.77834292]\n",
      " [-0.58775916 -0.44112227  0.43280154 ... -0.82569345 -0.70346948\n",
      "  -1.39168397]]\n"
     ]
    }
   ],
   "source": [
    "from sklearn.preprocessing import StandardScaler\n",
    "#instanciation de l'objet\n",
    "sc = StandardScaler()\n",
    "#transformation – centrage-réduction\n",
    "data_sc = sc.fit_transform(data)\n",
    "print(data_sc)\n"
   ]
  },
  {
   "cell_type": "code",
   "execution_count": 30,
   "id": "a25de3eb",
   "metadata": {
    "execution": {
     "iopub.execute_input": "2022-10-23T18:20:12.629155Z",
     "iopub.status.busy": "2022-10-23T18:20:12.628513Z",
     "iopub.status.idle": "2022-10-23T18:20:12.634446Z",
     "shell.execute_reply": "2022-10-23T18:20:12.633716Z"
    },
    "papermill": {
     "duration": 0.022509,
     "end_time": "2022-10-23T18:20:12.636314",
     "exception": false,
     "start_time": "2022-10-23T18:20:12.613805",
     "status": "completed"
    },
    "tags": []
   },
   "outputs": [
    {
     "data": {
      "text/plain": [
       "array([[-0.42386353, -0.44112227, -0.84320364, ...,  1.22167046,\n",
       "         1.00910662,  0.8618055 ],\n",
       "       [ 3.2495981 ,  1.75970468,  0.43280154, ..., -0.82569345,\n",
       "         0.74563338,  0.77834292],\n",
       "       [-0.37242442, -0.44112227, -0.20520105, ..., -0.82569345,\n",
       "        -0.70346948, -0.64052081],\n",
       "       ...,\n",
       "       [-0.23956224, -0.44112227,  0.43280154, ..., -0.82569345,\n",
       "        -0.38353768,  0.5279552 ],\n",
       "       [-0.61826787,  0.6592912 , -0.20520105, ..., -0.82569345,\n",
       "         1.85598491,  0.77834292],\n",
       "       [-0.58775916, -0.44112227,  0.43280154, ..., -0.82569345,\n",
       "        -0.70346948, -1.39168397]])"
      ]
     },
     "execution_count": 30,
     "metadata": {},
     "output_type": "execute_result"
    }
   ],
   "source": [
    "data_sc"
   ]
  },
  {
   "cell_type": "markdown",
   "id": "9821e905",
   "metadata": {
    "papermill": {
     "duration": 0.013104,
     "end_time": "2022-10-23T18:20:12.663708",
     "exception": false,
     "start_time": "2022-10-23T18:20:12.650604",
     "status": "completed"
    },
    "tags": []
   },
   "source": [
    "Moving on to clustering our data to check for patterns.\n",
    "To get the primary values, we're gonna run some PCA"
   ]
  },
  {
   "cell_type": "code",
   "execution_count": 31,
   "id": "fc86cbff",
   "metadata": {
    "execution": {
     "iopub.execute_input": "2022-10-23T18:20:12.691579Z",
     "iopub.status.busy": "2022-10-23T18:20:12.690880Z",
     "iopub.status.idle": "2022-10-23T18:20:12.696807Z",
     "shell.execute_reply": "2022-10-23T18:20:12.695708Z"
    },
    "papermill": {
     "duration": 0.023444,
     "end_time": "2022-10-23T18:20:12.699990",
     "exception": false,
     "start_time": "2022-10-23T18:20:12.676546",
     "status": "completed"
    },
    "tags": []
   },
   "outputs": [
    {
     "name": "stdout",
     "output_type": "stream",
     "text": [
      "[1. 1. 1. 1. 1. 1. 1. 1. 1. 1. 1. 1. 1. 1. 1.]\n"
     ]
    }
   ],
   "source": [
    "print(np.std(data_sc,axis=0,ddof=0))"
   ]
  },
  {
   "cell_type": "code",
   "execution_count": 32,
   "id": "bcc79475",
   "metadata": {
    "execution": {
     "iopub.execute_input": "2022-10-23T18:20:12.729112Z",
     "iopub.status.busy": "2022-10-23T18:20:12.728162Z",
     "iopub.status.idle": "2022-10-23T18:20:12.856273Z",
     "shell.execute_reply": "2022-10-23T18:20:12.855009Z"
    },
    "papermill": {
     "duration": 0.144727,
     "end_time": "2022-10-23T18:20:12.858527",
     "exception": false,
     "start_time": "2022-10-23T18:20:12.713800",
     "status": "completed"
    },
    "tags": []
   },
   "outputs": [
    {
     "name": "stdout",
     "output_type": "stream",
     "text": [
      "PCA(svd_solver='full')\n"
     ]
    }
   ],
   "source": [
    "from sklearn.decomposition import PCA\n",
    "\n",
    "acp = PCA(svd_solver='full')\n",
    "\n",
    "print(acp)\n"
   ]
  },
  {
   "cell_type": "code",
   "execution_count": 33,
   "id": "55db7b58",
   "metadata": {
    "execution": {
     "iopub.execute_input": "2022-10-23T18:20:12.886470Z",
     "iopub.status.busy": "2022-10-23T18:20:12.886119Z",
     "iopub.status.idle": "2022-10-23T18:20:12.914569Z",
     "shell.execute_reply": "2022-10-23T18:20:12.913194Z"
    },
    "papermill": {
     "duration": 0.046151,
     "end_time": "2022-10-23T18:20:12.918136",
     "exception": false,
     "start_time": "2022-10-23T18:20:12.871985",
     "status": "completed"
    },
    "tags": []
   },
   "outputs": [
    {
     "name": "stdout",
     "output_type": "stream",
     "text": [
      "15\n",
      "[2.70252792e-01 1.42751742e-01 1.05299324e-01 7.99720874e-02\n",
      " 7.57712491e-02 6.55296544e-02 5.56187491e-02 4.62706617e-02\n",
      " 4.00572718e-02 2.92286647e-02 2.68166766e-02 2.47256339e-02\n",
      " 2.27517897e-02 1.49537039e-02 2.76497368e-33]\n",
      "[4.05379189e+00 2.14127613e+00 1.57948985e+00 1.19958131e+00\n",
      " 1.13656874e+00 9.82944815e-01 8.34281236e-01 6.94059926e-01\n",
      " 6.00859077e-01 4.38429971e-01 4.02250148e-01 3.70884509e-01\n",
      " 3.41276845e-01 2.24305559e-01 4.14746052e-32]\n"
     ]
    }
   ],
   "source": [
    "coord = acp.fit_transform(data_sc)\n",
    "\n",
    "print(acp.n_components_) \n",
    "print(acp.explained_variance_ratio_)\n",
    "\n",
    "eigval = (n-1)/n*acp.explained_variance_\n",
    "print(eigval)"
   ]
  },
  {
   "cell_type": "code",
   "execution_count": 34,
   "id": "f0da033d",
   "metadata": {
    "execution": {
     "iopub.execute_input": "2022-10-23T18:20:12.993453Z",
     "iopub.status.busy": "2022-10-23T18:20:12.991765Z",
     "iopub.status.idle": "2022-10-23T18:20:13.215717Z",
     "shell.execute_reply": "2022-10-23T18:20:13.214982Z"
    },
    "papermill": {
     "duration": 0.263974,
     "end_time": "2022-10-23T18:20:13.217775",
     "exception": false,
     "start_time": "2022-10-23T18:20:12.953801",
     "status": "completed"
    },
    "tags": []
   },
   "outputs": [
    {
     "data": {
      "image/png": "[encoded data removed]",
      "text/plain": [
       "<Figure size 432x288 with 1 Axes>"
      ]
     },
     "metadata": {
      "needs_background": "light"
     },
     "output_type": "display_data"
    }
   ],
   "source": [
    "plt.plot(np.arange(1,p+1),eigval)\n",
    "plt.title(\"Valeurs propres associées aux axes factoriels\")\n",
    "plt.ylabel(\"Eigen values\")\n",
    "plt.xlabel(\"Factor number\")\n",
    "plt.show()"
   ]
  },
  {
   "cell_type": "code",
   "execution_count": 35,
   "id": "8edf94bf",
   "metadata": {
    "execution": {
     "iopub.execute_input": "2022-10-23T18:20:13.248831Z",
     "iopub.status.busy": "2022-10-23T18:20:13.247790Z",
     "iopub.status.idle": "2022-10-23T18:20:13.449540Z",
     "shell.execute_reply": "2022-10-23T18:20:13.448508Z"
    },
    "papermill": {
     "duration": 0.219486,
     "end_time": "2022-10-23T18:20:13.452056",
     "exception": false,
     "start_time": "2022-10-23T18:20:13.232570",
     "status": "completed"
    },
    "tags": []
   },
   "outputs": [
    {
     "data": {
      "image/png": "[encoded data removed]",
      "text/plain": [
       "<Figure size 432x288 with 1 Axes>"
      ]
     },
     "metadata": {
      "needs_background": "light"
     },
     "output_type": "display_data"
    }
   ],
   "source": [
    "plt.plot(np.arange(1,p+1),np.cumsum(acp.explained_variance_ratio_))\n",
    "plt.title(\"Le cumul de variance restituée selon le nombre de facteurs \")\n",
    "plt.ylabel(\"Cumsum explained variance ratio\")\n",
    "plt.xlabel(\"Factor number\")\n",
    "plt.show()\n"
   ]
  },
  {
   "cell_type": "markdown",
   "id": "51d862ff",
   "metadata": {
    "papermill": {
     "duration": 0.01394,
     "end_time": "2022-10-23T18:20:13.480881",
     "exception": false,
     "start_time": "2022-10-23T18:20:13.466941",
     "status": "completed"
    },
    "tags": []
   },
   "source": [
    "We're gonna check the number of columns we're gonna keep "
   ]
  },
  {
   "cell_type": "code",
   "execution_count": null,
   "id": "3a59dceb",
   "metadata": {
    "papermill": {
     "duration": 0.01406,
     "end_time": "2022-10-23T18:20:13.509348",
     "exception": false,
     "start_time": "2022-10-23T18:20:13.495288",
     "status": "completed"
    },
    "tags": []
   },
   "outputs": [],
   "source": []
  }
 ],
 "metadata": {
  "kernelspec": {
   "display_name": "Python 3",
   "language": "python",
   "name": "python3"
  },
  "language_info": {
   "codemirror_mode": {
    "name": "ipython",
    "version": 3
   },
   "file_extension": ".py",
   "mimetype": "text/x-python",
   "name": "python",
   "nbconvert_exporter": "python",
   "pygments_lexer": "ipython3",
   "version": "3.7.12"
  },
  "papermill": {
   "default_parameters": {},
   "duration": 14.725274,
   "end_time": "2022-10-23T18:20:14.246109",
   "environment_variables": {},
   "exception": null,
   "input_path": "__notebook__.ipynb",
   "output_path": "__notebook__.ipynb",
   "parameters": {},
   "start_time": "2022-10-23T18:19:59.520835",
   "version": "2.3.4"
  }
 },
 "nbformat": 4,
 "nbformat_minor": 5
}
