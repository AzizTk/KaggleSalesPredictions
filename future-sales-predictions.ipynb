{
 "cells": [
  {
   "cell_type": "markdown",
   "id": "fbf06f8c",
   "metadata": {
    "papermill": {
     "duration": 0.024936,
     "end_time": "2022-10-10T22:26:59.030689",
     "exception": false,
     "start_time": "2022-10-10T22:26:59.005753",
     "status": "completed"
    },
    "tags": []
   },
   "source": [
    "Hello again :D, This is another try in Kaggle, This one however is a bit more advanced than usual after checking out the data sets as well as the predictions needed. "
   ]
  },
  {
   "cell_type": "markdown",
   "id": "edb2bb0d",
   "metadata": {
    "papermill": {
     "duration": 0.019096,
     "end_time": "2022-10-10T22:26:59.069512",
     "exception": false,
     "start_time": "2022-10-10T22:26:59.050416",
     "status": "completed"
    },
    "tags": []
   },
   "source": [
    "<font size=\"5\">**Data loading and preprocessing, utility function definition**</font>"
   ]
  },
  {
   "cell_type": "code",
   "execution_count": 1,
   "id": "96ffc7a0",
   "metadata": {
    "execution": {
     "iopub.execute_input": "2022-10-10T22:26:59.112328Z",
     "iopub.status.busy": "2022-10-10T22:26:59.111271Z",
     "iopub.status.idle": "2022-10-10T22:27:00.339096Z",
     "shell.execute_reply": "2022-10-10T22:27:00.337663Z"
    },
    "papermill": {
     "duration": 1.252906,
     "end_time": "2022-10-10T22:27:00.342008",
     "exception": false,
     "start_time": "2022-10-10T22:26:59.089102",
     "status": "completed"
    },
    "tags": []
   },
   "outputs": [],
   "source": [
    "import gc\n",
    "import itertools\n",
    "import matplotlib.pyplot as plt\n",
    "import numpy as np\n",
    "import pandas as pd\n",
    "import seaborn as sns"
   ]
  },
  {
   "cell_type": "code",
   "execution_count": 2,
   "id": "423827e3",
   "metadata": {
    "execution": {
     "iopub.execute_input": "2022-10-10T22:27:00.392644Z",
     "iopub.status.busy": "2022-10-10T22:27:00.392217Z",
     "iopub.status.idle": "2022-10-10T22:27:00.407581Z",
     "shell.execute_reply": "2022-10-10T22:27:00.406270Z"
    },
    "papermill": {
     "duration": 0.039346,
     "end_time": "2022-10-10T22:27:00.409717",
     "exception": false,
     "start_time": "2022-10-10T22:27:00.370371",
     "status": "completed"
    },
    "tags": []
   },
   "outputs": [],
   "source": [
    "def reduce_mem_usage(df, silent=True, allow_categorical=True, float_dtype=\"float32\"):\n",
    "    \"\"\" \n",
    "    Iterates through all the columns of a dataframe and downcasts the data type\n",
    "     to reduce memory usage. Can also factorize categorical columns to integer dtype.\n",
    "    \"\"\"\n",
    "    def _downcast_numeric(series, allow_categorical=allow_categorical):\n",
    "        \"\"\"\n",
    "        Downcast a numeric series into either the smallest possible int dtype or a specified float dtype.\n",
    "        \"\"\"\n",
    "        if pd.api.types.is_sparse(series.dtype) is True:\n",
    "            return series\n",
    "        elif pd.api.types.is_numeric_dtype(series.dtype) is False:\n",
    "            if pd.api.types.is_datetime64_any_dtype(series.dtype):\n",
    "                return series\n",
    "            else:\n",
    "                if allow_categorical:\n",
    "                    return series\n",
    "                else:\n",
    "                    codes, uniques = series.factorize()\n",
    "                    series = pd.Series(data=codes, index=series.index)\n",
    "                    series = _downcast_numeric(series)\n",
    "                    return series\n",
    "        else:\n",
    "            series = pd.to_numeric(series, downcast=\"integer\")\n",
    "        if pd.api.types.is_float_dtype(series.dtype):\n",
    "            series = series.astype(float_dtype)\n",
    "        return series\n",
    "\n",
    "    if silent is False:\n",
    "        start_mem = np.sum(df.memory_usage()) / 1024 ** 2\n",
    "        print(\"Memory usage of dataframe is {:.2f} MB\".format(start_mem))\n",
    "    if df.ndim == 1:\n",
    "        df = _downcast_numeric(df)\n",
    "    else:\n",
    "        for col in df.columns:\n",
    "            df.loc[:, col] = _downcast_numeric(df.loc[:,col])\n",
    "    if silent is False:\n",
    "        end_mem = np.sum(df.memory_usage()) / 1024 ** 2\n",
    "        print(\"Memory usage after optimization is: {:.2f} MB\".format(end_mem))\n",
    "        print(\"Decreased by {:.1f}%\".format(100 * (start_mem - end_mem) / start_mem))\n",
    "\n",
    "    return df\n",
    "\n",
    "\n",
    "def shrink_mem_new_cols(matrix, oldcols=None, allow_categorical=False):\n",
    "    # Calls reduce_mem_usage on columns which have not yet been optimized\n",
    "    if oldcols is not None:\n",
    "        newcols = matrix.columns.difference(oldcols)\n",
    "    else:\n",
    "        newcols = matrix.columns\n",
    "    matrix.loc[:,newcols] = reduce_mem_usage(matrix.loc[:,newcols], allow_categorical=allow_categorical)\n",
    "    oldcols = matrix.columns  # This is used to track which columns have already been downcast\n",
    "    return matrix, oldcols\n",
    "\n",
    "\n",
    "def list_if_not(s, dtype=str):\n",
    "    # Puts a variable in a list if it is not already a list\n",
    "    if type(s) not in (dtype, list):\n",
    "        raise TypeError\n",
    "    if (s != \"\") & (type(s) is not list):\n",
    "        s = [s]\n",
    "    return s"
   ]
  },
  {
   "cell_type": "markdown",
   "id": "53e98426",
   "metadata": {
    "papermill": {
     "duration": 0.018953,
     "end_time": "2022-10-10T22:27:00.447980",
     "exception": false,
     "start_time": "2022-10-10T22:27:00.429027",
     "status": "completed"
    },
    "tags": []
   },
   "source": [
    "Importing Data"
   ]
  },
  {
   "cell_type": "code",
   "execution_count": 3,
   "id": "329e21f9",
   "metadata": {
    "execution": {
     "iopub.execute_input": "2022-10-10T22:27:00.488458Z",
     "iopub.status.busy": "2022-10-10T22:27:00.487984Z",
     "iopub.status.idle": "2022-10-10T22:27:03.482028Z",
     "shell.execute_reply": "2022-10-10T22:27:03.480960Z"
    },
    "papermill": {
     "duration": 3.017486,
     "end_time": "2022-10-10T22:27:03.484755",
     "exception": false,
     "start_time": "2022-10-10T22:27:00.467269",
     "status": "completed"
    },
    "tags": []
   },
   "outputs": [],
   "source": [
    "items = pd.read_csv(\"../input/competitive-data-science-predict-future-sales/items.csv\")\n",
    "shops = pd.read_csv(\"../input/competitive-data-science-predict-future-sales/shops.csv\")\n",
    "train = pd.read_csv(\"../input/competitive-data-science-predict-future-sales/sales_train.csv\")\n",
    "test = pd.read_csv(\"../input/competitive-data-science-predict-future-sales/test.csv\")"
   ]
  },
  {
   "cell_type": "markdown",
   "id": "d286fd0c",
   "metadata": {
    "papermill": {
     "duration": 0.019038,
     "end_time": "2022-10-10T22:27:03.524493",
     "exception": false,
     "start_time": "2022-10-10T22:27:03.505455",
     "status": "completed"
    },
    "tags": []
   },
   "source": [
    "Converting to dtypes "
   ]
  },
  {
   "cell_type": "code",
   "execution_count": 4,
   "id": "7bafe32d",
   "metadata": {
    "execution": {
     "iopub.execute_input": "2022-10-10T22:27:03.564865Z",
     "iopub.status.busy": "2022-10-10T22:27:03.564456Z",
     "iopub.status.idle": "2022-10-10T22:27:04.010276Z",
     "shell.execute_reply": "2022-10-10T22:27:04.009054Z"
    },
    "papermill": {
     "duration": 0.470057,
     "end_time": "2022-10-10T22:27:04.013678",
     "exception": false,
     "start_time": "2022-10-10T22:27:03.543621",
     "status": "completed"
    },
    "tags": []
   },
   "outputs": [],
   "source": [
    "train[\"date\"] = pd.to_datetime(train[\"date\"], format=\"%d.%m.%Y\")"
   ]
  },
  {
   "cell_type": "markdown",
   "id": "897f420c",
   "metadata": {
    "papermill": {
     "duration": 0.020018,
     "end_time": "2022-10-10T22:27:04.052794",
     "exception": false,
     "start_time": "2022-10-10T22:27:04.032776",
     "status": "completed"
    },
    "tags": []
   },
   "source": [
    "<font size = 5 ><b>DATA CLEANING</b> </font>"
   ]
  },
  {
   "cell_type": "code",
   "execution_count": 5,
   "id": "20570f8c",
   "metadata": {
    "execution": {
     "iopub.execute_input": "2022-10-10T22:27:04.092990Z",
     "iopub.status.busy": "2022-10-10T22:27:04.092566Z",
     "iopub.status.idle": "2022-10-10T22:27:04.521717Z",
     "shell.execute_reply": "2022-10-10T22:27:04.520574Z"
    },
    "papermill": {
     "duration": 0.452384,
     "end_time": "2022-10-10T22:27:04.524376",
     "exception": false,
     "start_time": "2022-10-10T22:27:04.071992",
     "status": "completed"
    },
    "tags": []
   },
   "outputs": [],
   "source": [
    "## Merge some duplicate shops\n",
    "train[\"shop_id\"] = train[\"shop_id\"].replace({0: 57, 1: 58, 11: 10, 40: 39})\n",
    "# Keep only shops that are in the test set\n",
    "train = train.loc[train.shop_id.isin(test[\"shop_id\"].unique()), :]\n",
    "# Drop training items with extreme or negative prices or sales counts\n",
    "train = train[(train[\"item_price\"] > 0) & (train[\"item_price\"] < 50000)]\n",
    "train = train[(train[\"item_cnt_day\"] > 0) & (train[\"item_cnt_day\"] < 1000)]\n"
   ]
  },
  {
   "cell_type": "markdown",
   "id": "0954f95f",
   "metadata": {
    "papermill": {
     "duration": 0.018866,
     "end_time": "2022-10-10T22:27:04.562417",
     "exception": false,
     "start_time": "2022-10-10T22:27:04.543551",
     "status": "completed"
    },
    "tags": []
   },
   "source": [
    "The test data is every combination of shops and items that had a sale in the test month,the target as the total month's sales made for each of these shop-item combinations. I created a  training matrix that is made to replicate this structure for every month in the training data period. The test items are concatenated to the end of the training data so that features can be generated for the test period."
   ]
  },
  {
   "cell_type": "code",
   "execution_count": 6,
   "id": "10fa86d1",
   "metadata": {
    "execution": {
     "iopub.execute_input": "2022-10-10T22:27:04.602467Z",
     "iopub.status.busy": "2022-10-10T22:27:04.601525Z",
     "iopub.status.idle": "2022-10-10T22:27:04.613411Z",
     "shell.execute_reply": "2022-10-10T22:27:04.612192Z"
    },
    "papermill": {
     "duration": 0.034545,
     "end_time": "2022-10-10T22:27:04.615790",
     "exception": false,
     "start_time": "2022-10-10T22:27:04.581245",
     "status": "completed"
    },
    "tags": []
   },
   "outputs": [],
   "source": [
    "def create_testlike_train(sales_train, test=None):\n",
    "    indexlist = []\n",
    "    for i in sales_train.date_block_num.unique():\n",
    "        x = itertools.product(\n",
    "            [i],\n",
    "            sales_train.loc[sales_train.date_block_num == i].shop_id.unique(),\n",
    "            sales_train.loc[sales_train.date_block_num == i].item_id.unique(),\n",
    "        )\n",
    "        indexlist.append(np.array(list(x)))\n",
    "    df = pd.DataFrame(\n",
    "        data=np.concatenate(indexlist, axis=0),\n",
    "        columns=[\"date_block_num\", \"shop_id\", \"item_id\"],\n",
    "    )\n",
    "\n",
    "    # Add revenue column to sales_train\n",
    "    sales_train[\"item_revenue_day\"] = sales_train[\"item_price\"] * sales_train[\"item_cnt_day\"]\n",
    "    # Aggregate item_id / shop_id item_cnts and revenue at the month level\n",
    "    sales_train_grouped = sales_train.groupby([\"date_block_num\", \"shop_id\", \"item_id\"]).agg(\n",
    "        item_cnt_month=pd.NamedAgg(column=\"item_cnt_day\", aggfunc=\"sum\"),\n",
    "        item_revenue_month=pd.NamedAgg(column=\"item_revenue_day\", aggfunc=\"sum\"),\n",
    "    )\n",
    "\n",
    "    # Merge the grouped data with the index\n",
    "    df = df.merge(\n",
    "        sales_train_grouped, how=\"left\", on=[\"date_block_num\", \"shop_id\", \"item_id\"],\n",
    "    )\n",
    "\n",
    "    if test is not None:\n",
    "        test[\"date_block_num\"] = 34\n",
    "        test[\"date_block_num\"] = test[\"date_block_num\"].astype(np.int8)\n",
    "        test[\"shop_id\"] = test.shop_id.astype(np.int8)\n",
    "        test[\"item_id\"] = test.item_id.astype(np.int16)\n",
    "        test = test.drop(columns=\"ID\")\n",
    "\n",
    "        df = pd.concat([df, test[[\"date_block_num\", \"shop_id\", \"item_id\"]]])\n",
    "\n",
    "    # Fill empty item_cnt entries with 0\n",
    "    df.item_cnt_month = df.item_cnt_month.fillna(0)\n",
    "    df.item_revenue_month = df.item_revenue_month.fillna(0)\n",
    "\n",
    "    return df"
   ]
  },
  {
   "cell_type": "code",
   "execution_count": 7,
   "id": "2cab4da6",
   "metadata": {
    "execution": {
     "iopub.execute_input": "2022-10-10T22:27:04.655906Z",
     "iopub.status.busy": "2022-10-10T22:27:04.655508Z",
     "iopub.status.idle": "2022-10-10T22:27:16.692320Z",
     "shell.execute_reply": "2022-10-10T22:27:16.691145Z"
    },
    "papermill": {
     "duration": 12.06017,
     "end_time": "2022-10-10T22:27:16.695168",
     "exception": false,
     "start_time": "2022-10-10T22:27:04.634998",
     "status": "completed"
    },
    "tags": []
   },
   "outputs": [],
   "source": [
    "matrix = create_testlike_train(train, test)\n",
    "del(test)"
   ]
  },
  {
   "cell_type": "markdown",
   "id": "d4b05a30",
   "metadata": {
    "papermill": {
     "duration": 0.018828,
     "end_time": "2022-10-10T22:27:16.733346",
     "exception": false,
     "start_time": "2022-10-10T22:27:16.714518",
     "status": "completed"
    },
    "tags": []
   },
   "source": [
    "We need to reduce memory usage through the function previously created, preventing memory overflows & leaks through errors in the kaggle notebook"
   ]
  },
  {
   "cell_type": "code",
   "execution_count": 8,
   "id": "3563a61f",
   "metadata": {
    "execution": {
     "iopub.execute_input": "2022-10-10T22:27:16.773909Z",
     "iopub.status.busy": "2022-10-10T22:27:16.773479Z",
     "iopub.status.idle": "2022-10-10T22:27:18.283308Z",
     "shell.execute_reply": "2022-10-10T22:27:18.281988Z"
    },
    "papermill": {
     "duration": 1.533914,
     "end_time": "2022-10-10T22:27:18.286680",
     "exception": false,
     "start_time": "2022-10-10T22:27:16.752766",
     "status": "completed"
    },
    "tags": []
   },
   "outputs": [
    {
     "name": "stdout",
     "output_type": "stream",
     "text": [
      "Memory usage of dataframe is 405.44 MB\n",
      "Memory usage after optimization is: 152.04 MB\n",
      "Decreased by 62.5%\n"
     ]
    }
   ],
   "source": [
    "matrix = reduce_mem_usage(matrix, silent=False)\n",
    "oldcols = matrix.columns"
   ]
  },
  {
   "cell_type": "code",
   "execution_count": 9,
   "id": "c319c0f1",
   "metadata": {
    "execution": {
     "iopub.execute_input": "2022-10-10T22:27:18.328745Z",
     "iopub.status.busy": "2022-10-10T22:27:18.328065Z",
     "iopub.status.idle": "2022-10-10T22:27:18.350313Z",
     "shell.execute_reply": "2022-10-10T22:27:18.349468Z"
    },
    "papermill": {
     "duration": 0.04589,
     "end_time": "2022-10-10T22:27:18.352706",
     "exception": false,
     "start_time": "2022-10-10T22:27:18.306816",
     "status": "completed"
    },
    "tags": []
   },
   "outputs": [
    {
     "data": {
      "text/html": [
       "<div>\n",
       "<style scoped>\n",
       "    .dataframe tbody tr th:only-of-type {\n",
       "        vertical-align: middle;\n",
       "    }\n",
       "\n",
       "    .dataframe tbody tr th {\n",
       "        vertical-align: top;\n",
       "    }\n",
       "\n",
       "    .dataframe thead th {\n",
       "        text-align: right;\n",
       "    }\n",
       "</style>\n",
       "<table border=\"1\" class=\"dataframe\">\n",
       "  <thead>\n",
       "    <tr style=\"text-align: right;\">\n",
       "      <th></th>\n",
       "      <th>item_name</th>\n",
       "      <th>item_id</th>\n",
       "      <th>item_category_id</th>\n",
       "    </tr>\n",
       "  </thead>\n",
       "  <tbody>\n",
       "    <tr>\n",
       "      <th>3565</th>\n",
       "      <td>Fuse [PS3, английская версия]</td>\n",
       "      <td>3565</td>\n",
       "      <td>19</td>\n",
       "    </tr>\n",
       "    <tr>\n",
       "      <th>3566</th>\n",
       "      <td>Fuse [Xbox 360, английская версия]</td>\n",
       "      <td>3566</td>\n",
       "      <td>23</td>\n",
       "    </tr>\n",
       "    <tr>\n",
       "      <th>3567</th>\n",
       "      <td>G Data Internet Security 2013 (1ПК / 1 год) (G...</td>\n",
       "      <td>3567</td>\n",
       "      <td>76</td>\n",
       "    </tr>\n",
       "    <tr>\n",
       "      <th>3568</th>\n",
       "      <td>G Data Internet Security 2013 (3ПК / 1 год) (G...</td>\n",
       "      <td>3568</td>\n",
       "      <td>76</td>\n",
       "    </tr>\n",
       "    <tr>\n",
       "      <th>3569</th>\n",
       "      <td>GABIN  The Best Of Gabin  2CD</td>\n",
       "      <td>3569</td>\n",
       "      <td>55</td>\n",
       "    </tr>\n",
       "  </tbody>\n",
       "</table>\n",
       "</div>"
      ],
      "text/plain": [
       "                                              item_name  item_id  \\\n",
       "3565                      Fuse [PS3, английская версия]     3565   \n",
       "3566                 Fuse [Xbox 360, английская версия]     3566   \n",
       "3567  G Data Internet Security 2013 (1ПК / 1 год) (G...     3567   \n",
       "3568  G Data Internet Security 2013 (3ПК / 1 год) (G...     3568   \n",
       "3569                      GABIN  The Best Of Gabin  2CD     3569   \n",
       "\n",
       "      item_category_id  \n",
       "3565                19  \n",
       "3566                23  \n",
       "3567                76  \n",
       "3568                76  \n",
       "3569                55  "
      ]
     },
     "execution_count": 9,
     "metadata": {},
     "output_type": "execute_result"
    }
   ],
   "source": [
    "items.query(\"item_id>3564\").head(5)"
   ]
  },
  {
   "cell_type": "markdown",
   "id": "84fc65a0",
   "metadata": {
    "papermill": {
     "duration": 0.019492,
     "end_time": "2022-10-10T22:27:18.391858",
     "exception": false,
     "start_time": "2022-10-10T22:27:18.372366",
     "status": "completed"
    },
    "tags": []
   },
   "source": [
    "I noticed that items in the table are ordered alphabetically according to the item_name field, So similar items are listed together. We can use this ordering to group together related items "
   ]
  },
  {
   "cell_type": "markdown",
   "id": "7f72fc4e",
   "metadata": {
    "papermill": {
     "duration": 0.019631,
     "end_time": "2022-10-10T22:27:18.431226",
     "exception": false,
     "start_time": "2022-10-10T22:27:18.411595",
     "status": "completed"
    },
    "tags": []
   },
   "source": [
    "We can run measure similarities between items and group them together, using a py package called fuzzywuzzy, and asign items to a group if their match value are above a certain threshold."
   ]
  },
  {
   "cell_type": "code",
   "execution_count": 10,
   "id": "8713e6c9",
   "metadata": {
    "execution": {
     "iopub.execute_input": "2022-10-10T22:27:18.474154Z",
     "iopub.status.busy": "2022-10-10T22:27:18.473139Z",
     "iopub.status.idle": "2022-10-10T22:27:28.741282Z",
     "shell.execute_reply": "2022-10-10T22:27:28.738842Z"
    },
    "papermill": {
     "duration": 10.294349,
     "end_time": "2022-10-10T22:27:28.746150",
     "exception": false,
     "start_time": "2022-10-10T22:27:18.451801",
     "status": "completed"
    },
    "tags": []
   },
   "outputs": [],
   "source": [
    "import re\n",
    "\n",
    "from fuzzywuzzy import fuzz\n",
    "\n",
    "\n",
    "def add_item_name_groups(matrix, train, items, sim_thresh, feature_name=\"item_name_group\"):\n",
    "    def partialmatchgroups(items, sim_thresh=sim_thresh):\n",
    "        def strip_brackets(string):\n",
    "            string = re.sub(r\"\\(.*?\\)\", \"\", string)\n",
    "            string = re.sub(r\"\\[.*?\\]\", \"\", string)\n",
    "            return string\n",
    "\n",
    "        items = items.copy()\n",
    "        items[\"nc\"] = items.item_name.apply(strip_brackets)\n",
    "        items[\"ncnext\"] = np.concatenate((items[\"nc\"].to_numpy()[1:], np.array([\"\"])))\n",
    "\n",
    "        def partialcompare(s):\n",
    "            return fuzz.partial_ratio(s[\"nc\"], s[\"ncnext\"])\n",
    "\n",
    "        items[\"partialmatch\"] = items.apply(partialcompare, axis=1)\n",
    "        # Assign groups\n",
    "        grp = 0\n",
    "        for i in range(items.shape[0]):\n",
    "            items.loc[i, \"partialmatchgroup\"] = grp\n",
    "            if items.loc[i, \"partialmatch\"] < sim_thresh:\n",
    "                grp += 1\n",
    "        items = items.drop(columns=[\"nc\", \"ncnext\", \"partialmatch\"])\n",
    "        return items\n",
    "\n",
    "    items = partialmatchgroups(items)\n",
    "    items = items.rename(columns={\"partialmatchgroup\": feature_name})\n",
    "    items = items.drop(columns=\"partialmatchgroup\", errors=\"ignore\")\n",
    "\n",
    "    items[feature_name] = items[feature_name].apply(str)\n",
    "    items[feature_name] = items[feature_name].factorize()[0]\n",
    "    matrix = matrix.merge(items[[\"item_id\", feature_name]], on=\"item_id\", how=\"left\")\n",
    "    train = train.merge(items[[\"item_id\", feature_name]], on=\"item_id\", how=\"left\")\n",
    "    return matrix, train\n",
    "\n",
    "\n",
    "matrix, train = add_item_name_groups(matrix, train, items, 65)\n"
   ]
  },
  {
   "cell_type": "markdown",
   "id": "79b9bcdc",
   "metadata": {
    "papermill": {
     "duration": 0.023252,
     "end_time": "2022-10-10T22:27:28.795382",
     "exception": false,
     "start_time": "2022-10-10T22:27:28.772130",
     "status": "completed"
    },
    "tags": []
   },
   "source": [
    "There are certain music items that would be quite difficult to use the last function on, you know, to put into similar groups. The idea is to assign music items into groups according to the artist.\n",
    "3 common patterns exist to indicate the artist's name which are:\n",
    "-His name is all in uppercase,seperated by dot & a space.\n",
    "For non-musical stuff, the items will be grouped up according to the first word."
   ]
  },
  {
   "cell_type": "code",
   "execution_count": 11,
   "id": "7d5c5b31",
   "metadata": {
    "execution": {
     "iopub.execute_input": "2022-10-10T22:27:28.844994Z",
     "iopub.status.busy": "2022-10-10T22:27:28.843949Z",
     "iopub.status.idle": "2022-10-10T22:27:32.686100Z",
     "shell.execute_reply": "2022-10-10T22:27:32.684709Z"
    },
    "papermill": {
     "duration": 3.87013,
     "end_time": "2022-10-10T22:27:32.689020",
     "exception": false,
     "start_time": "2022-10-10T22:27:28.818890",
     "status": "completed"
    },
    "tags": []
   },
   "outputs": [],
   "source": [
    "from nltk.corpus import stopwords\n",
    "\n",
    "\n",
    "def add_first_word_features(matrix, items=items, feature_name=\"artist_name_or_first_word\"):\n",
    "    # This extracts artist names for music categories and adds them as a feature.\n",
    "    def extract_artist(st):\n",
    "        st = st.strip()\n",
    "        if st.startswith(\"V/A\"):\n",
    "            artist = \"V/A\"\n",
    "        elif st.startswith(\"СБ\"):\n",
    "            artist = \"СБ\"\n",
    "        else:\n",
    "            # Retrieves artist names using the double space or all uppercase pattern\n",
    "            mus_artist_dubspace = re.compile(r\".{2,}?(?=\\s{2,})\")\n",
    "            match_dubspace = mus_artist_dubspace.match(st)\n",
    "            mus_artist_capsonly = re.compile(r\"^([^a-zа-я]+\\s)+\")\n",
    "            match_capsonly = mus_artist_capsonly.match(st)\n",
    "            candidates = [match_dubspace, match_capsonly]\n",
    "            candidates = [m[0] for m in candidates if m is not None]\n",
    "            # Sometimes one of the patterns catches some extra words so choose the shortest one\n",
    "            if len(candidates):\n",
    "                artist = min(candidates, key=len)\n",
    "            else:\n",
    "                # If neither of the previous patterns found something, use the dot-space pattern\n",
    "                mus_artist_dotspace = re.compile(r\".{2,}?(?=\\.\\s)\")\n",
    "                match = mus_artist_dotspace.match(st)\n",
    "                if match:\n",
    "                    artist = match[0]\n",
    "                else:\n",
    "                    artist = \"\"\n",
    "        artist = artist.upper()\n",
    "        artist = re.sub(r\"[^A-ZА-Я ]||\\bTHE\\b\", \"\", artist)\n",
    "        artist = re.sub(r\"\\s{2,}\", \" \", artist)\n",
    "        artist = artist.strip()\n",
    "        return artist\n",
    "\n",
    "    items = items.copy()\n",
    "    all_stopwords = stopwords.words(\"russian\")\n",
    "    all_stopwords = all_stopwords + stopwords.words(\"english\")\n",
    "\n",
    "    def first_word(string):\n",
    "        # This cleans the string of special characters, excess spaces and stopwords then extracts the first word\n",
    "        string = re.sub(r\"[^\\w\\s]\", \"\", string)\n",
    "        string = re.sub(r\"\\s{2,}\", \" \", string)\n",
    "        tokens = string.lower().split()\n",
    "        tokens = [t for t in tokens if t not in all_stopwords]\n",
    "        token = tokens[0] if len(tokens) > 0 else \"\"\n",
    "        return token\n",
    "\n",
    "    music_categories = [55, 56, 57, 58, 59, 60]\n",
    "    items.loc[items.item_category_id.isin(music_categories), feature_name] = items.loc[\n",
    "        items.item_category_id.isin(music_categories), \"item_name\"\n",
    "    ].apply(extract_artist)\n",
    "    items.loc[items[feature_name] == \"\", feature_name] = \"other music\"\n",
    "    items.loc[~items.item_category_id.isin(music_categories), feature_name] = items.loc[\n",
    "        ~items.item_category_id.isin(music_categories), \"item_name\"\n",
    "    ].apply(first_word)\n",
    "    items.loc[items[feature_name] == \"\", feature_name] = \"other non-music\"\n",
    "    items[feature_name] = items[feature_name].factorize()[0]\n",
    "    matrix = matrix.merge(items[[\"item_id\", feature_name]], on=\"item_id\", how=\"left\",)\n",
    "    return matrix\n",
    "\n",
    "\n",
    "matrix = add_first_word_features(\n",
    "    matrix, items=items, feature_name=\"artist_name_or_first_word\"\n",
    ")"
   ]
  },
  {
   "cell_type": "markdown",
   "id": "92aaea39",
   "metadata": {
    "papermill": {
     "duration": 0.019631,
     "end_time": "2022-10-10T22:27:32.728634",
     "exception": false,
     "start_time": "2022-10-10T22:27:32.709003",
     "status": "completed"
    },
    "tags": []
   },
   "source": [
    "Similarities also exists in the item_name field, the most notable one is their length mostly because similar items tend to have the same length.\n",
    "We're gonna use that as a feature."
   ]
  },
  {
   "cell_type": "code",
   "execution_count": 12,
   "id": "19e0b29f",
   "metadata": {
    "execution": {
     "iopub.execute_input": "2022-10-10T22:27:32.773222Z",
     "iopub.status.busy": "2022-10-10T22:27:32.772347Z",
     "iopub.status.idle": "2022-10-10T22:27:35.713277Z",
     "shell.execute_reply": "2022-10-10T22:27:35.711463Z"
    },
    "papermill": {
     "duration": 2.969582,
     "end_time": "2022-10-10T22:27:35.718187",
     "exception": false,
     "start_time": "2022-10-10T22:27:32.748605",
     "status": "completed"
    },
    "tags": []
   },
   "outputs": [],
   "source": [
    "import re\n",
    "def clean_item_name(string):\n",
    "    # Removes bracketed terms, special characters and extra whitespace\n",
    "    string = re.sub(r\"\\[.*?\\]\", \"\", string)\n",
    "    string = re.sub(r\"\\(.*?\\)\", \"\", string)\n",
    "    string = re.sub(r\"[^A-ZА-Яa-zа-я0-9 ]\", \"\", string)\n",
    "    string = re.sub(r\"\\s{2,}\", \" \", string)\n",
    "    string = string.lower()\n",
    "    return string\n",
    "\n",
    "items[\"item_name_cleaned_length\"] = items[\"item_name\"].apply(clean_item_name).apply(len)\n",
    "items[\"item_name_length\"] = items[\"item_name\"].apply(len)\n",
    "matrix = matrix.merge(items[['item_id', 'item_name_length', 'item_name_cleaned_length']], how='left', on='item_id')\n",
    "items = items.drop(columns=['item_name_length', 'item_name_cleaned_length'])"
   ]
  },
  {
   "cell_type": "code",
   "execution_count": 13,
   "id": "693e025a",
   "metadata": {
    "execution": {
     "iopub.execute_input": "2022-10-10T22:27:35.765068Z",
     "iopub.status.busy": "2022-10-10T22:27:35.764136Z",
     "iopub.status.idle": "2022-10-10T22:27:37.796589Z",
     "shell.execute_reply": "2022-10-10T22:27:37.795099Z"
    },
    "papermill": {
     "duration": 2.05755,
     "end_time": "2022-10-10T22:27:37.799520",
     "exception": false,
     "start_time": "2022-10-10T22:27:35.741970",
     "status": "completed"
    },
    "tags": []
   },
   "outputs": [
    {
     "name": "stdout",
     "output_type": "stream",
     "text": [
      "Created name features\n"
     ]
    }
   ],
   "source": [
    "print(\"Created name features\")\n",
    "matrix, oldcols = shrink_mem_new_cols(matrix, oldcols)"
   ]
  },
  {
   "cell_type": "markdown",
   "id": "cef2ff8c",
   "metadata": {
    "papermill": {
     "duration": 0.019564,
     "end_time": "2022-10-10T22:27:37.839609",
     "exception": false,
     "start_time": "2022-10-10T22:27:37.820045",
     "status": "completed"
    },
    "tags": []
   },
   "source": [
    "Time of sales are also important\n",
    "We can use the number of days since the first & last sale of each item to make a sales-per-day feature(\"item_cnt_day_avg\"). This way we can use that function to correct sales count for items that haven't reached a month old so their count is faulty."
   ]
  },
  {
   "cell_type": "code",
   "execution_count": 14,
   "id": "cefc02dd",
   "metadata": {
    "execution": {
     "iopub.execute_input": "2022-10-10T22:27:37.881674Z",
     "iopub.status.busy": "2022-10-10T22:27:37.881013Z",
     "iopub.status.idle": "2022-10-10T22:27:37.910142Z",
     "shell.execute_reply": "2022-10-10T22:27:37.908830Z"
    },
    "papermill": {
     "duration": 0.053481,
     "end_time": "2022-10-10T22:27:37.913054",
     "exception": false,
     "start_time": "2022-10-10T22:27:37.859573",
     "status": "completed"
    },
    "tags": []
   },
   "outputs": [],
   "source": [
    "def add_time_features(m, train, correct_item_cnt_day=False):\n",
    "    from pandas.tseries.offsets import Day, MonthBegin, MonthEnd\n",
    "\n",
    "    def item_shop_age_months(m):\n",
    "        m[\"item_age\"] = m.groupby(\"item_id\")[\"date_block_num\"].transform(\n",
    "            lambda x: x - x.min()\n",
    "        )\n",
    "        # Sales tend to plateau after 12 months\n",
    "        m[\"new_item\"] = m[\"item_age\"] == 0\n",
    "        m[\"new_item\"] = m[\"new_item\"].astype(\"int8\")\n",
    "        m[\"shop_age\"] = (\n",
    "            m.groupby(\"shop_id\")[\"date_block_num\"]\n",
    "            .transform(lambda x: x - x.min())\n",
    "            .astype(\"int8\")\n",
    "        )\n",
    "        return m\n",
    "\n",
    "    # Add dummy values for the test month so that features are created correctly\n",
    "    dummies = m.loc[m.date_block_num == 34, [\"date_block_num\", \"shop_id\", \"item_id\"]]\n",
    "    dummies = dummies.assign(\n",
    "        date=pd.to_datetime(\"2015-11-30\"), item_price=1, item_cnt_day=0, item_revenue_day=0,\n",
    "    )\n",
    "    train = pd.concat([train, dummies])\n",
    "    del dummies\n",
    "\n",
    "    month_last_day = train.groupby(\"date_block_num\").date.max().rename(\"month_last_day\")\n",
    "    month_last_day[~month_last_day.dt.is_month_end] = (\n",
    "        month_last_day[~month_last_day.dt.is_month_end] + MonthEnd()\n",
    "    )\n",
    "    month_first_day = train.groupby(\"date_block_num\").date.min().rename(\"month_first_day\")\n",
    "    month_first_day[~month_first_day.dt.is_month_start] = (\n",
    "        month_first_day[~month_first_day.dt.is_month_start] - MonthBegin()\n",
    "    )\n",
    "    month_length = (month_last_day - month_first_day + Day()).rename(\"month_length\")\n",
    "    first_shop_date = train.groupby(\"shop_id\").date.min().rename(\"first_shop_date\")\n",
    "    first_item_date = train.groupby(\"item_id\").date.min().rename(\"first_item_date\")\n",
    "    first_shop_item_date = (\n",
    "        train.groupby([\"shop_id\", \"item_id\"]).date.min().rename(\"first_shop_item_date\")\n",
    "    )\n",
    "    first_item_name_group_date = (\n",
    "        train.groupby(\"item_name_group\").date.min().rename(\"first_name_group_date\")\n",
    "    )\n",
    "\n",
    "    m = m.merge(month_first_day, left_on=\"date_block_num\", right_index=True, how=\"left\")\n",
    "    m = m.merge(month_last_day, left_on=\"date_block_num\", right_index=True, how=\"left\")\n",
    "    m = m.merge(month_length, left_on=\"date_block_num\", right_index=True, how=\"left\")\n",
    "    m = m.merge(first_shop_date, left_on=\"shop_id\", right_index=True, how=\"left\")\n",
    "    m = m.merge(first_item_date, left_on=\"item_id\", right_index=True, how=\"left\")\n",
    "    m = m.merge(\n",
    "        first_shop_item_date, left_on=[\"shop_id\", \"item_id\"], right_index=True, how=\"left\"\n",
    "    )\n",
    "    m = m.merge(\n",
    "        first_item_name_group_date, left_on=\"item_name_group\", right_index=True, how=\"left\"\n",
    "    )\n",
    "\n",
    "    # Calculate how long the item was sold for in each month and use this to calculate average sales per day\n",
    "    m[\"shop_open_days\"] = m[\"month_last_day\"] - m[\"first_shop_date\"] + Day()\n",
    "    m[\"item_first_sale_days\"] = m[\"month_last_day\"] - m[\"first_item_date\"] + Day()\n",
    "    m[\"item_in_shop_days\"] = (\n",
    "        m[[\"shop_open_days\", \"item_first_sale_days\", \"month_length\"]].min(axis=1).dt.days\n",
    "    )\n",
    "    m = m.drop(columns=\"item_first_sale_days\")\n",
    "    m[\"item_cnt_day_avg\"] = m[\"item_cnt_month\"] / m[\"item_in_shop_days\"]\n",
    "    m[\"month_length\"] = m[\"month_length\"].dt.days\n",
    "\n",
    "    # Calculate the time differences from the beginning of the month so they can be used as features without lagging\n",
    "    m[\"shop_open_days\"] = m[\"month_first_day\"] - m[\"first_shop_date\"]\n",
    "    m[\"first_item_sale_days\"] = m[\"month_first_day\"] - m[\"first_item_date\"]\n",
    "    m[\"first_shop_item_sale_days\"] = m[\"month_first_day\"] - m[\"first_shop_item_date\"]\n",
    "    m[\"first_name_group_sale_days\"] = m[\"month_first_day\"] - m[\"first_name_group_date\"]\n",
    "    m[\"shop_open_days\"] = m[\"shop_open_days\"].dt.days.fillna(0).clip(lower=0)\n",
    "    m[\"first_item_sale_days\"] = (\n",
    "        m[\"first_item_sale_days\"].dt.days.fillna(0).clip(lower=0).replace(0, 9999)\n",
    "    )\n",
    "    m[\"first_shop_item_sale_days\"] = (\n",
    "        m[\"first_shop_item_sale_days\"].dt.days.fillna(0).clip(lower=0).replace(0, 9999)\n",
    "    )\n",
    "    m[\"first_name_group_sale_days\"] = (\n",
    "        m[\"first_name_group_sale_days\"].dt.days.fillna(0).clip(lower=0).replace(0, 9999)\n",
    "    )\n",
    "\n",
    "    # Add days since last sale\n",
    "    def last_sale_days(matrix):\n",
    "        last_shop_item_dates = []\n",
    "        for dbn in range(1, 35):\n",
    "            lsid_temp = (\n",
    "                train.query(f\"date_block_num<{dbn}\")\n",
    "                .groupby([\"shop_id\", \"item_id\"])\n",
    "                .date.max()\n",
    "                .rename(\"last_shop_item_sale_date\")\n",
    "                .reset_index()\n",
    "            )\n",
    "            lsid_temp[\"date_block_num\"] = dbn\n",
    "            last_shop_item_dates.append(lsid_temp)\n",
    "\n",
    "        last_shop_item_dates = pd.concat(last_shop_item_dates)\n",
    "        matrix = matrix.merge(\n",
    "            last_shop_item_dates, on=[\"date_block_num\", \"shop_id\", \"item_id\"], how=\"left\"\n",
    "        )\n",
    "\n",
    "        def days_since_last_feat(m, feat_name, date_feat_name, missingval):\n",
    "            m[feat_name] = (m[\"month_first_day\"] - m[date_feat_name]).dt.days\n",
    "            m.loc[m[feat_name] > 2000, feat_name] = missingval\n",
    "            m.loc[m[feat_name].isna(), feat_name] = missingval\n",
    "            return m\n",
    "\n",
    "        matrix = days_since_last_feat(\n",
    "            matrix, \"last_shop_item_sale_days\", \"last_shop_item_sale_date\", 9999\n",
    "        )\n",
    "\n",
    "        matrix = matrix.drop(columns=[\"last_shop_item_sale_date\"])\n",
    "        return matrix\n",
    "\n",
    "    m = last_sale_days(m)\n",
    "    # Month id feature\n",
    "    m[\"month\"] = m[\"month_first_day\"].dt.month\n",
    "\n",
    "    m = m.drop(\n",
    "        columns=[\n",
    "            \"first_day\",\n",
    "            \"month_first_day\",\n",
    "            \"month_last_day\",\n",
    "            \"first_shop_date\",\n",
    "            \"first_item_date\",\n",
    "            \"first_name_group_date\",\n",
    "            \"item_in_shop_days\",\n",
    "            \"first_shop_item_date\",\n",
    "            \"month_length\",\n",
    "        ],\n",
    "        errors=\"ignore\",\n",
    "    )\n",
    "\n",
    "    m = item_shop_age_months(m)\n",
    "\n",
    "    if correct_item_cnt_day == True:\n",
    "        m[\"item_cnt_month_original\"] = m[\"item_cnt_month\"]\n",
    "        m[\"item_cnt_month\"] = m[\"item_cnt_day_avg\"] * m[\"month_length\"]\n",
    "\n",
    "    return m\n",
    "\n",
    "        "
   ]
  },
  {
   "cell_type": "code",
   "execution_count": 15,
   "id": "890571e8",
   "metadata": {
    "execution": {
     "iopub.execute_input": "2022-10-10T22:27:37.956284Z",
     "iopub.status.busy": "2022-10-10T22:27:37.955868Z",
     "iopub.status.idle": "2022-10-10T22:28:24.542582Z",
     "shell.execute_reply": "2022-10-10T22:28:24.538623Z"
    },
    "papermill": {
     "duration": 46.629814,
     "end_time": "2022-10-10T22:28:24.563994",
     "exception": false,
     "start_time": "2022-10-10T22:27:37.934180",
     "status": "completed"
    },
    "tags": []
   },
   "outputs": [
    {
     "name": "stdout",
     "output_type": "stream",
     "text": [
      "Time features created\n"
     ]
    }
   ],
   "source": [
    "matrix = add_time_features(matrix, train, False)\n",
    "print(\"Time features created\")"
   ]
  },
  {
   "cell_type": "markdown",
   "id": "83c3b88a",
   "metadata": {
    "papermill": {
     "duration": 0.020092,
     "end_time": "2022-10-10T22:28:24.604507",
     "exception": false,
     "start_time": "2022-10-10T22:28:24.584415",
     "status": "completed"
    },
    "tags": []
   },
   "source": [
    "Checking price as a feature, what we can use is the price of the item in the last month in which it was sold, and compare it to other items in the same category"
   ]
  },
  {
   "cell_type": "code",
   "execution_count": 16,
   "id": "878927c1",
   "metadata": {
    "execution": {
     "iopub.execute_input": "2022-10-10T22:28:24.648843Z",
     "iopub.status.busy": "2022-10-10T22:28:24.648434Z",
     "iopub.status.idle": "2022-10-10T22:28:24.659620Z",
     "shell.execute_reply": "2022-10-10T22:28:24.658232Z"
    },
    "papermill": {
     "duration": 0.03594,
     "end_time": "2022-10-10T22:28:24.661923",
     "exception": false,
     "start_time": "2022-10-10T22:28:24.625983",
     "status": "completed"
    },
    "tags": []
   },
   "outputs": [],
   "source": [
    "def add_price_features(matrix, train):\n",
    "    # Get mean prices per month from train dataframe\n",
    "    price_features = train.groupby([\"date_block_num\", \"item_id\"]).item_price.mean()\n",
    "    price_features = pd.DataFrame(price_features)\n",
    "    price_features = price_features.reset_index()\n",
    "    # Calculate normalized differenced from mean category price per month\n",
    "    price_features = price_features.merge(\n",
    "        items[[\"item_id\", \"item_category_id\"]], how=\"left\", on=\"item_id\"\n",
    "    )\n",
    "    price_features[\"norm_diff_cat_price\"] = price_features.groupby(\n",
    "        [\"date_block_num\", \"item_category_id\"]\n",
    "    )[\"item_price\"].transform(lambda x: (x - x.mean()) / x.mean())\n",
    "    # Retain only the necessary features\n",
    "    price_features = price_features[\n",
    "        [\n",
    "            \"date_block_num\",\n",
    "            \"item_id\",\n",
    "            \"item_price\",\n",
    "            \"norm_diff_cat_price\",\n",
    "        ]\n",
    "    ]\n",
    "\n",
    "    features = [\n",
    "        \"item_price\",\n",
    "        \"norm_diff_cat_price\",\n",
    "    ]\n",
    "    newnames = [\"last_\" + f for f in features]\n",
    "    aggs = {f: \"last\" for f in features}\n",
    "    renames = {f: \"last_\" + f for f in features}\n",
    "    features = []\n",
    "    for dbn in range(1, 35):\n",
    "        f_temp = (\n",
    "            price_features.query(f\"date_block_num<{dbn}\")\n",
    "            .groupby(\"item_id\")\n",
    "            .agg(aggs)\n",
    "            .rename(columns=renames)\n",
    "        )\n",
    "        f_temp[\"date_block_num\"] = dbn\n",
    "        features.append(f_temp)\n",
    "    features = pd.concat(features).reset_index()\n",
    "    matrix = matrix.merge(features, on=[\"date_block_num\", \"item_id\"], how=\"left\")\n",
    "    return matrix"
   ]
  },
  {
   "cell_type": "code",
   "execution_count": 17,
   "id": "d52d8287",
   "metadata": {
    "execution": {
     "iopub.execute_input": "2022-10-10T22:28:24.705017Z",
     "iopub.status.busy": "2022-10-10T22:28:24.703996Z",
     "iopub.status.idle": "2022-10-10T22:28:29.330178Z",
     "shell.execute_reply": "2022-10-10T22:28:29.328988Z"
    },
    "papermill": {
     "duration": 4.651183,
     "end_time": "2022-10-10T22:28:29.333618",
     "exception": false,
     "start_time": "2022-10-10T22:28:24.682435",
     "status": "completed"
    },
    "tags": []
   },
   "outputs": [],
   "source": [
    "matrix = add_price_features(matrix, train)\n",
    "del(train)"
   ]
  },
  {
   "cell_type": "markdown",
   "id": "b217c867",
   "metadata": {
    "papermill": {
     "duration": 0.019369,
     "end_time": "2022-10-10T22:28:29.373075",
     "exception": false,
     "start_time": "2022-10-10T22:28:29.353706",
     "status": "completed"
    },
    "tags": []
   },
   "source": [
    "I'm gonna create a category called supercategory to lighten & order the data a little. This category will add an item and its genre together e.g: supercategory(\"games\",\"music\") and platform(\"PS4\",\"mp3\")"
   ]
  },
  {
   "cell_type": "code",
   "execution_count": 18,
   "id": "e4ccad78",
   "metadata": {
    "execution": {
     "iopub.execute_input": "2022-10-10T22:28:29.414588Z",
     "iopub.status.busy": "2022-10-10T22:28:29.414018Z",
     "iopub.status.idle": "2022-10-10T22:28:32.050561Z",
     "shell.execute_reply": "2022-10-10T22:28:32.049451Z"
    },
    "papermill": {
     "duration": 2.660222,
     "end_time": "2022-10-10T22:28:32.053140",
     "exception": false,
     "start_time": "2022-10-10T22:28:29.392918",
     "status": "completed"
    },
    "tags": []
   },
   "outputs": [],
   "source": [
    "matrix = matrix.merge(items[['item_id', 'item_category_id']], on='item_id', how='left')\n",
    "\n",
    "platform_map = {\n",
    "    0: 0, 1: 1, 2: 2, 3: 3, 4: 4, 5: 5, 6: 6, 7: 7, 8: 8, 9: 8, 10: 1, 11: 2,\n",
    "    12: 3, 13: 4, 14: 5, 15: 6, 16: 7, 17: 8, 18: 1, 19: 2, 20: 3, 21: 4, 22: 5,\n",
    "    23: 6, 24: 7, 25: 8, 26: 9, 27: 10, 28: 0, 29: 0, 30: 0, 31: 0, 32: 8, 33: 11,\n",
    "    34: 11, 35: 3, 36: 0, 37: 12, 38: 12, 39: 12, 40: 13, 41: 13, 42: 14, 43: 15,\n",
    "    44: 15, 45: 15, 46: 14, 47: 14, 48: 14, 49: 14, 50: 14, 51: 14, 52: 14, 53: 14,\n",
    "    54: 8, 55: 16, 56: 16, 57: 17, 58: 18, 59: 13, 60: 16, 61: 8, 62: 8, 63: 8, 64: 8,\n",
    "    65: 8, 66: 8, 67: 8, 68: 8, 69: 8, 70: 8, 71: 8, 72: 8, 73: 0, 74: 10, 75: 0,\n",
    "    76: 0, 77: 0, 78: 0, 79: 8, 80: 8, 81: 8, 82: 8, 83: 8,\n",
    "}\n",
    "matrix['platform_id'] = matrix['item_category_id'].map(platform_map)\n",
    "\n",
    "supercat_map = {\n",
    "    0: 0, 1: 1, 2: 1, 3: 1, 4: 1, 5: 1, 6: 1, 7: 1, 8: 2, 9: 2, 10: 1, 11: 1, 12: 1,\n",
    "    13: 1, 14: 1, 15: 1, 16: 1, 17: 1, 18: 3, 19: 3, 20: 3, 21: 3, 22: 3, 23: 3,\n",
    "    24: 3, 25: 0, 26: 2, 27: 3, 28: 3, 29: 3, 30: 3, 31: 3, 32: 2, 33: 2, 34: 2,\n",
    "    35: 2, 36: 2, 37: 4, 38: 4, 39: 4, 40: 4, 41: 4, 42: 5, 43: 5, 44: 5, 45: 5,\n",
    "    46: 5, 47: 5, 48: 5, 49: 5, 50: 5, 51: 5, 52: 5, 53: 5, 54: 5, 55: 6, 56: 6,\n",
    "    57: 6, 58: 6, 59: 6, 60: 6, 61: 0, 62: 0, 63: 0, 64: 0, 65: 0, 66: 0, 67: 0,\n",
    "    68: 0, 69: 0, 70: 0, 71: 0, 72: 0, 73: 7, 74: 7, 75: 7, 76: 7, 77: 7, 78: 7,\n",
    "    79: 2, 80: 2, 81: 0, 82: 0, 83: 0\n",
    "}\n",
    "matrix['supercategory_id'] = matrix['item_category_id'].map(supercat_map)"
   ]
  },
  {
   "cell_type": "markdown",
   "id": "7b3c89ac",
   "metadata": {
    "papermill": {
     "duration": 0.019706,
     "end_time": "2022-10-10T22:28:32.092950",
     "exception": false,
     "start_time": "2022-10-10T22:28:32.073244",
     "status": "completed"
    },
    "tags": []
   },
   "source": [
    "The next part I took from https://www.kaggle.com/dlarionov/feature-engineering-xgboost, to categorise shop city :p"
   ]
  },
  {
   "cell_type": "code",
   "execution_count": 19,
   "id": "424519da",
   "metadata": {
    "execution": {
     "iopub.execute_input": "2022-10-10T22:28:32.136442Z",
     "iopub.status.busy": "2022-10-10T22:28:32.135596Z",
     "iopub.status.idle": "2022-10-10T22:28:34.409566Z",
     "shell.execute_reply": "2022-10-10T22:28:34.407998Z"
    },
    "papermill": {
     "duration": 2.299598,
     "end_time": "2022-10-10T22:28:34.412857",
     "exception": false,
     "start_time": "2022-10-10T22:28:32.113259",
     "status": "completed"
    },
    "tags": []
   },
   "outputs": [],
   "source": [
    "def add_city_codes(matrix, shops):\n",
    "    shops.loc[\n",
    "        shops.shop_name == 'Сергиев Посад ТЦ \"7Я\"', \"shop_name\"\n",
    "    ] = 'СергиевПосад ТЦ \"7Я\"'\n",
    "    shops[\"city\"] = shops[\"shop_name\"].str.split(\" \").map(lambda x: x[0])\n",
    "    shops.loc[shops.city == \"!Якутск\", \"city\"] = \"Якутск\"\n",
    "    shops[\"city_code\"] = shops[\"city\"].factorize()[0]\n",
    "    shop_labels = shops[[\"shop_id\", \"city_code\"]]\n",
    "    matrix = matrix.merge(shop_labels, on='shop_id', how='left')\n",
    "    return matrix\n",
    "\n",
    "matrix = add_city_codes(matrix, shops)\n",
    "del(shops)"
   ]
  },
  {
   "cell_type": "markdown",
   "id": "32046e73",
   "metadata": {
    "papermill": {
     "duration": 0.020406,
     "end_time": "2022-10-10T22:28:34.453783",
     "exception": false,
     "start_time": "2022-10-10T22:28:34.433377",
     "status": "completed"
    },
    "tags": []
   },
   "source": [
    "This model is gonna be a clustering one. \n",
    "Shop & item categories will be grouped into clusters according to their sales. This next function will perform & plot the results of a PCA decomposition & clustering of the shops & items categories.\n",
    "\n",
    "We're gonna need a silhouette score that's gonna be our metric for cluster quality, this will determine the number of clusters.\n",
    "\n",
    "For shop & item categories, most the differences occur on a single dimension, that indicates that the differences are mainly magnitude rather than proportional. \n",
    "\n",
    "The item component score plots show that the clustering is mainly into a large cluster containing the large majority of items, and a few clusters containing outlier items."
   ]
  },
  {
   "cell_type": "code",
   "execution_count": 20,
   "id": "86fa8cbc",
   "metadata": {
    "execution": {
     "iopub.execute_input": "2022-10-10T22:28:34.495869Z",
     "iopub.status.busy": "2022-10-10T22:28:34.495490Z",
     "iopub.status.idle": "2022-10-10T22:28:34.671697Z",
     "shell.execute_reply": "2022-10-10T22:28:34.670484Z"
    },
    "papermill": {
     "duration": 0.200761,
     "end_time": "2022-10-10T22:28:34.674706",
     "exception": false,
     "start_time": "2022-10-10T22:28:34.473945",
     "status": "completed"
    },
    "tags": []
   },
   "outputs": [],
   "source": [
    "import matplotlib.pyplot as plt\n",
    "import seaborn as sns\n",
    "from sklearn.cluster import AgglomerativeClustering\n",
    "from sklearn.decomposition import PCA\n",
    "from sklearn.metrics import silhouette_score\n",
    "\n",
    "\n",
    "def cluster_feature(matrix, target_feature, clust_feature, level_feature, n_components=4, n_clusters=5, aggfunc=\"mean\", exclude=None):\n",
    "    start_month = 20\n",
    "    end_month = 32\n",
    "    pt = matrix.query(f\"date_block_num>{start_month} & date_block_num<={end_month}\")\n",
    "    if exclude is not None:\n",
    "        pt = matrix[~matrix[clust_feature].isin(exclude)]\n",
    "    pt = pt.pivot_table(values=target_feature, columns=clust_feature, index=level_feature, fill_value=0, aggfunc=aggfunc)\n",
    "    pt = pt.transpose()\n",
    "    pca = PCA(n_components=10)\n",
    "    components = pca.fit_transform(pt)\n",
    "    components = pd.DataFrame(components)\n",
    "    # Plot PCA explained variance\n",
    "    sns.set_theme()\n",
    "    features = list(range(pca.n_components_))\n",
    "    fig = plt.figure(figsize=(10,4))\n",
    "    ax = fig.add_subplot(121)\n",
    "#     ax.bar(features, pca.explained_variance_ratio_, color=\"black\")\n",
    "    sns.barplot(x=features, y=pca.explained_variance_ratio_, ax=ax)\n",
    "    plt.title(\"Variance by PCA components\")\n",
    "    plt.xlabel(\"component\")\n",
    "    plt.ylabel(\"explained variance\")\n",
    "    plt.xticks(features)\n",
    "\n",
    "    scorelist = []\n",
    "    nrange = range(2, 10)\n",
    "    for n in nrange:\n",
    "        clusterer = AgglomerativeClustering(n_clusters=n)\n",
    "        labels = clusterer.fit_predict(components)\n",
    "        silscore = silhouette_score(pt, labels)\n",
    "        scorelist.append(silscore)\n",
    "    ax = fig.add_subplot(122)\n",
    "    sns.lineplot(x=nrange, y=scorelist, ax=ax)\n",
    "    plt.title(\"Clustering quality by number of clusters\")\n",
    "    plt.xlabel(\"n clusters\")\n",
    "    plt.ylabel(\"silhouette score\")\n",
    "\n",
    "    pca = PCA(n_components=n_components)\n",
    "    components = pca.fit_transform(pt)\n",
    "    components = pd.DataFrame(components)\n",
    "    clusterer = AgglomerativeClustering(n_clusters=n_clusters, linkage=\"average\")\n",
    "    labels = clusterer.fit_predict(components)\n",
    "    x = components[0]\n",
    "    y = components[1]\n",
    "    fig = plt.figure(figsize=(10, 4))\n",
    "    ax = fig.add_subplot(111)\n",
    "    sns.scatterplot(x=x, y=y, hue=labels, palette=sns.color_palette(\"hls\", n_clusters), ax=ax)\n",
    "    plt.title(\"Items by cluster\")\n",
    "    plt.xlabel(\"component 1 score\")\n",
    "    plt.ylabel(\"component 2 score\")\n",
    "    for i, txt in enumerate(pt.index.to_list()):\n",
    "        ax.annotate(str(txt), (x[i], y[i]))\n",
    "    groups = {}\n",
    "    for i, s in enumerate(pt.index):\n",
    "        groups[s] = labels[i]\n",
    "    return groups\n",
    "    "
   ]
  },
  {
   "cell_type": "markdown",
   "id": "dc072d67",
   "metadata": {
    "papermill": {
     "duration": 0.01974,
     "end_time": "2022-10-10T22:28:34.715099",
     "exception": false,
     "start_time": "2022-10-10T22:28:34.695359",
     "status": "completed"
    },
    "tags": []
   },
   "source": [
    "Now we've got clustered categories according to their mean sales in each month of the year. \n",
    "\n",
    "Let's print it out & see what we got"
   ]
  },
  {
   "cell_type": "code",
   "execution_count": 21,
   "id": "f22a38c2",
   "metadata": {
    "execution": {
     "iopub.execute_input": "2022-10-10T22:28:34.758042Z",
     "iopub.status.busy": "2022-10-10T22:28:34.757015Z",
     "iopub.status.idle": "2022-10-10T22:28:39.532769Z",
     "shell.execute_reply": "2022-10-10T22:28:39.531889Z"
    },
    "papermill": {
     "duration": 4.800037,
     "end_time": "2022-10-10T22:28:39.535178",
     "exception": false,
     "start_time": "2022-10-10T22:28:34.735141",
     "status": "completed"
    },
    "tags": []
   },
   "outputs": [
    {
     "data": {
      "image/png": "[encoded data removed]",
      "text/plain": [
       "<Figure size 720x288 with 2 Axes>"
      ]
     },
     "metadata": {},
     "output_type": "display_data"
    },
    {
     "data": {
      "image/png": "[encoded data removed]",
      "text/plain": [
       "<Figure size 720x288 with 1 Axes>"
      ]
     },
     "metadata": {},
     "output_type": "display_data"
    }
   ],
   "source": [
    "category_group_dict = cluster_feature(matrix, 'item_cnt_month', 'item_category_id', 'date_block_num', n_components=2, n_clusters=4, aggfunc=\"mean\", exclude =[])\n",
    "matrix['category_cluster'] = matrix['item_category_id'].map(category_group_dict)"
   ]
  },
  {
   "cell_type": "markdown",
   "id": "32c7633f",
   "metadata": {
    "papermill": {
     "duration": 0.020738,
     "end_time": "2022-10-10T22:28:39.577362",
     "exception": false,
     "start_time": "2022-10-10T22:28:39.556624",
     "status": "completed"
    },
    "tags": []
   },
   "source": [
    "Shops are clustered through the  sum of sales of each item category.\n",
    "\n",
    "The principale component plots shows that shops mainly fiffer in the magnitude of their sales, with shop 31 having a high volume of sales. \n",
    "Shop 12 & 55 sell items online so that explains the values on the plot.\n"
   ]
  },
  {
   "cell_type": "code",
   "execution_count": 22,
   "id": "fe43b575",
   "metadata": {
    "execution": {
     "iopub.execute_input": "2022-10-10T22:28:39.621836Z",
     "iopub.status.busy": "2022-10-10T22:28:39.621050Z",
     "iopub.status.idle": "2022-10-10T22:28:43.701860Z",
     "shell.execute_reply": "2022-10-10T22:28:43.700579Z"
    },
    "papermill": {
     "duration": 4.105945,
     "end_time": "2022-10-10T22:28:43.704511",
     "exception": false,
     "start_time": "2022-10-10T22:28:39.598566",
     "status": "completed"
    },
    "tags": []
   },
   "outputs": [
    {
     "data": {
      "image/png": "[encoded data removed]",
      "text/plain": [
       "<Figure size 720x288 with 2 Axes>"
      ]
     },
     "metadata": {},
     "output_type": "display_data"
    },
    {
     "data": {
      "image/png": "[encoded data removed]",
      "text/plain": [
       "<Figure size 720x288 with 1 Axes>"
      ]
     },
     "metadata": {},
     "output_type": "display_data"
    }
   ],
   "source": [
    "shop_group_dict = cluster_feature(matrix, 'item_cnt_month', 'shop_id', 'item_category_id', n_components=4, n_clusters=4, aggfunc=\"mean\", exclude=[36])\n",
    "shop_group_dict[36] = shop_group_dict[37]  # Shop36 added separately because it only has one month of data\n",
    "matrix['shop_cluster'] = matrix['shop_id'].map(shop_group_dict)"
   ]
  },
  {
   "cell_type": "code",
   "execution_count": 23,
   "id": "0138e663",
   "metadata": {
    "execution": {
     "iopub.execute_input": "2022-10-10T22:28:43.751980Z",
     "iopub.status.busy": "2022-10-10T22:28:43.751552Z",
     "iopub.status.idle": "2022-10-10T22:28:51.164011Z",
     "shell.execute_reply": "2022-10-10T22:28:51.162964Z"
    },
    "papermill": {
     "duration": 7.439325,
     "end_time": "2022-10-10T22:28:51.166652",
     "exception": false,
     "start_time": "2022-10-10T22:28:43.727327",
     "status": "completed"
    },
    "tags": []
   },
   "outputs": [],
   "source": [
    "gc.collect()\n",
    "matrix, oldcols = shrink_mem_new_cols(matrix, oldcols) \n",
    "#Using this function periodically to downcast dtypes \n",
    "#to save memory."
   ]
  },
  {
   "cell_type": "markdown",
   "id": "39db01b5",
   "metadata": {
    "papermill": {
     "duration": 0.021933,
     "end_time": "2022-10-10T22:28:51.211037",
     "exception": false,
     "start_time": "2022-10-10T22:28:51.189104",
     "status": "completed"
    },
    "tags": []
   },
   "source": [
    "The number of unique item feature counts the number of unique items sharing the same value of a grouping feature or set of features as the current item in the current month, e.g. number of new items in the same category.\n",
    "\n",
    "This could considered to be a kind of data leakage feature, as the set of items in each month (and therefore the test set) is determined by whether each item recorded a sale or not in the month being predicted, which isn't known in advance."
   ]
  },
  {
   "cell_type": "code",
   "execution_count": 24,
   "id": "fa9e87a4",
   "metadata": {
    "execution": {
     "iopub.execute_input": "2022-10-10T22:28:51.258232Z",
     "iopub.status.busy": "2022-10-10T22:28:51.257830Z",
     "iopub.status.idle": "2022-10-10T22:30:01.438589Z",
     "shell.execute_reply": "2022-10-10T22:30:01.437253Z"
    },
    "papermill": {
     "duration": 70.208405,
     "end_time": "2022-10-10T22:30:01.442058",
     "exception": false,
     "start_time": "2022-10-10T22:28:51.233653",
     "status": "completed"
    },
    "tags": []
   },
   "outputs": [],
   "source": [
    "def uniques(matrix, groupers, name, limitation=None):\n",
    "    if limitation is not None:\n",
    "        s = (\n",
    "            matrix.query(limitation)\n",
    "            .groupby(groupers)\n",
    "            .item_id.nunique()\n",
    "            .rename(name)\n",
    "            .reset_index()\n",
    "        )\n",
    "    else:\n",
    "        s = matrix.groupby(groupers).item_id.nunique().rename(name).reset_index()\n",
    "    matrix = matrix.merge(s, on=groupers, how=\"left\")\n",
    "    matrix[name] = matrix[name].fillna(0)\n",
    "    return matrix\n",
    "\n",
    "\n",
    "matrix = uniques(matrix, [\"date_block_num\"], \"unique_items_month\")\n",
    "\n",
    "matrix = uniques(matrix, [\"date_block_num\", \"item_name_group\"], \"name_group_unique_month\")\n",
    "matrix = uniques(\n",
    "    matrix,\n",
    "    [\"date_block_num\", \"item_category_id\", \"item_name_group\"],\n",
    "    \"name_group_cat_unique_month\",\n",
    ")\n",
    "matrix = uniques(\n",
    "    matrix,\n",
    "    [\"date_block_num\", \"item_name_group\"],\n",
    "    \"name_group_new_unique_month\",\n",
    "    limitation=\"new_item==True\",\n",
    ")\n",
    "matrix = uniques(\n",
    "    matrix,\n",
    "    [\"date_block_num\", \"item_category_id\", \"item_name_group\"],\n",
    "    \"name_group_new_cat_unique_month\",\n",
    "    limitation=\"new_item==True\",\n",
    ")\n",
    "\n",
    "matrix = uniques(\n",
    "    matrix, [\"date_block_num\", \"artist_name_or_first_word\"], \"first_word_unique_month\"\n",
    ")\n",
    "matrix = uniques(\n",
    "    matrix,\n",
    "    [\"date_block_num\", \"item_category_id\", \"artist_name_or_first_word\"],\n",
    "    \"first_word_cat_unique_month\",\n",
    ")\n",
    "matrix = uniques(\n",
    "    matrix,\n",
    "    [\"date_block_num\", \"artist_name_or_first_word\"],\n",
    "    \"first_word_new_unique_month\",\n",
    "    limitation=\"new_item==True\",\n",
    ")\n",
    "matrix = uniques(\n",
    "    matrix,\n",
    "    [\"date_block_num\", \"item_category_id\", \"artist_name_or_first_word\"],\n",
    "    \"first_word_new_cat_unique_month\",\n",
    "    limitation=\"new_item==True\",\n",
    ")\n",
    "\n",
    "matrix = uniques(matrix, [\"date_block_num\", \"item_category_id\"], \"unique_items_cat\")\n",
    "matrix = uniques(\n",
    "    matrix,\n",
    "    [\"date_block_num\", \"item_category_id\"],\n",
    "    \"new_items_cat\",\n",
    "    limitation=\"new_item==True\",\n",
    ")\n",
    "matrix = uniques(matrix, [\"date_block_num\"], \"new_items_month\", limitation=\"new_item==True\")\n",
    "\n",
    "matrix[\"cat_items_proportion\"] = matrix[\"unique_items_cat\"] / matrix[\"unique_items_month\"]\n",
    "matrix[\"name_group_new_proportion_month\"] = (\n",
    "    matrix[\"name_group_new_unique_month\"] / matrix[\"name_group_unique_month\"]\n",
    ")\n",
    "\n",
    "matrix = matrix.drop(columns=[\"unique_items_month\", \"name_group_unique_month\"])"
   ]
  },
  {
   "cell_type": "code",
   "execution_count": 25,
   "id": "892c8ceb",
   "metadata": {
    "execution": {
     "iopub.execute_input": "2022-10-10T22:30:01.488823Z",
     "iopub.status.busy": "2022-10-10T22:30:01.488404Z",
     "iopub.status.idle": "2022-10-10T22:30:07.516157Z",
     "shell.execute_reply": "2022-10-10T22:30:07.514902Z"
    },
    "papermill": {
     "duration": 6.054003,
     "end_time": "2022-10-10T22:30:07.518809",
     "exception": false,
     "start_time": "2022-10-10T22:30:01.464806",
     "status": "completed"
    },
    "tags": []
   },
   "outputs": [],
   "source": [
    "matrix, oldcols= shrink_mem_new_cols(matrix, oldcols)"
   ]
  },
  {
   "cell_type": "markdown",
   "id": "6b683324",
   "metadata": {
    "papermill": {
     "duration": 0.022082,
     "end_time": "2022-10-10T22:30:07.564016",
     "exception": false,
     "start_time": "2022-10-10T22:30:07.541934",
     "status": "completed"
    },
    "tags": []
   },
   "source": [
    "We're gonna use panda's pct_change method to calculate the proportional change in the mean sales count for the groups in a specific time."
   ]
  },
  {
   "cell_type": "code",
   "execution_count": 26,
   "id": "63150099",
   "metadata": {
    "execution": {
     "iopub.execute_input": "2022-10-10T22:30:07.611448Z",
     "iopub.status.busy": "2022-10-10T22:30:07.610794Z",
     "iopub.status.idle": "2022-10-10T22:30:07.622825Z",
     "shell.execute_reply": "2022-10-10T22:30:07.621335Z"
    },
    "papermill": {
     "duration": 0.03901,
     "end_time": "2022-10-10T22:30:07.625597",
     "exception": false,
     "start_time": "2022-10-10T22:30:07.586587",
     "status": "completed"
    },
    "tags": []
   },
   "outputs": [],
   "source": [
    "def add_pct_change(\n",
    "    matrix,\n",
    "    group_feats,\n",
    "    target=\"item_cnt_month\",\n",
    "    aggfunc=\"mean\",\n",
    "    periods=1,\n",
    "    lag=1,\n",
    "    clip_value=None,\n",
    "):\n",
    "    periods = list_if_not(periods, int)\n",
    "    group_feats = list_if_not(group_feats)\n",
    "    group_feats_full = [\"date_block_num\"] + group_feats\n",
    "    dat = matrix.pivot_table(\n",
    "        index=group_feats + [\"date_block_num\"],\n",
    "        values=target,\n",
    "        aggfunc=aggfunc,\n",
    "        fill_value=0,\n",
    "        dropna=False,\n",
    "    ).astype(\"float32\")\n",
    "    for g in group_feats:\n",
    "        firsts = matrix.groupby(g).date_block_num.min().rename(\"firsts\")\n",
    "        dat = dat.merge(firsts, left_on=g, right_index=True, how=\"left\")\n",
    "        dat.loc[dat.index.get_level_values(\"date_block_num\") < dat[\"firsts\"], target] = float(\n",
    "            \"nan\"\n",
    "        )\n",
    "        del dat[\"firsts\"]\n",
    "    for period in periods:\n",
    "        feat_name = \"_\".join(\n",
    "            group_feats + [target] + [aggfunc] + [\"delta\"] + [str(period)] + [f\"lag_{lag}\"]\n",
    "        )\n",
    "        print(f\"Adding feature {feat_name}\")\n",
    "        dat = (\n",
    "            dat.groupby(group_feats)[target]\n",
    "            .transform(lambda x: x.pct_change(periods=period, fill_method=\"pad\"))\n",
    "            .rename(feat_name)\n",
    "        )\n",
    "        if clip_value is not None:\n",
    "            dat = dat.clip(lower=-clip_value, upper=clip_value)\n",
    "    dat = dat.reset_index()\n",
    "    dat[\"date_block_num\"] += lag\n",
    "    matrix = matrix.merge(dat, on=[\"date_block_num\"] + group_feats, how=\"left\")\n",
    "    matrix[feat_name] = reduce_mem_usage(matrix[feat_name])\n",
    "    return matrix"
   ]
  },
  {
   "cell_type": "code",
   "execution_count": 27,
   "id": "49135d20",
   "metadata": {
    "execution": {
     "iopub.execute_input": "2022-10-10T22:30:07.672400Z",
     "iopub.status.busy": "2022-10-10T22:30:07.671934Z",
     "iopub.status.idle": "2022-10-10T22:31:09.509708Z",
     "shell.execute_reply": "2022-10-10T22:31:09.508462Z"
    },
    "papermill": {
     "duration": 61.864402,
     "end_time": "2022-10-10T22:31:09.512309",
     "exception": false,
     "start_time": "2022-10-10T22:30:07.647907",
     "status": "completed"
    },
    "tags": []
   },
   "outputs": [
    {
     "name": "stdout",
     "output_type": "stream",
     "text": [
      "Adding feature item_id_item_cnt_month_mean_delta_1_lag_1\n",
      "Adding feature item_category_id_item_cnt_month_mean_delta_1_lag_1\n",
      "Adding feature item_name_group_item_cnt_month_mean_delta_1_lag_1\n",
      "Adding feature item_category_id_item_cnt_month_mean_delta_1_lag_12\n"
     ]
    },
    {
     "data": {
      "text/plain": [
       "5"
      ]
     },
     "execution_count": 27,
     "metadata": {},
     "output_type": "execute_result"
    }
   ],
   "source": [
    "matrix = add_pct_change(matrix, [\"item_id\"], \"item_cnt_month\", clip_value=3)\n",
    "matrix = add_pct_change(matrix, [\"item_category_id\"], \"item_cnt_month\", clip_value=3)\n",
    "matrix = add_pct_change(matrix, [\"item_name_group\"], \"item_cnt_month\", clip_value=3)\n",
    "#  feature lagged by 12 months, intended to capture seasonal trends\n",
    "matrix = add_pct_change(matrix, [\"item_category_id\"], \"item_cnt_month\", lag=12, clip_value=3,)\n",
    "gc.collect()"
   ]
  },
  {
   "cell_type": "code",
   "execution_count": 28,
   "id": "cda199c1",
   "metadata": {
    "execution": {
     "iopub.execute_input": "2022-10-10T22:31:09.561459Z",
     "iopub.status.busy": "2022-10-10T22:31:09.560039Z",
     "iopub.status.idle": "2022-10-10T22:31:10.432737Z",
     "shell.execute_reply": "2022-10-10T22:31:10.431172Z"
    },
    "papermill": {
     "duration": 0.900304,
     "end_time": "2022-10-10T22:31:10.435771",
     "exception": false,
     "start_time": "2022-10-10T22:31:09.535467",
     "status": "completed"
    },
    "tags": []
   },
   "outputs": [],
   "source": [
    "matrix, oldcols= shrink_mem_new_cols(matrix, oldcols)"
   ]
  },
  {
   "cell_type": "markdown",
   "id": "86d00585",
   "metadata": {
    "papermill": {
     "duration": 0.022181,
     "end_time": "2022-10-10T22:31:10.480883",
     "exception": false,
     "start_time": "2022-10-10T22:31:10.458702",
     "status": "completed"
    },
    "tags": []
   },
   "source": [
    "We're gonna create windowed aggregated features which are features aggregated over a specific window to reduce noise. Available windows are expanding (i.e. all preceding timepoints), rolling (i.e. fixed number of equally weighted timepoints) and exponentially weighted mean.\n",
    "\n",
    "A note about feature names: these are set automatically according to the pattern < grouping features > - < aggregated features > - < monthly aggregation function > - < window type > , where < window type > is either \"rolling - < window aggregation function > - win - < window length in months >\" for square rolling windows, \"expanding - < window aggregation function >\" for expanding windows, and \"ewm_hl - < decay rate in terms of half-life > for exponential weighted means, all connected by underscores.\n"
   ]
  },
  {
   "cell_type": "code",
   "execution_count": 29,
   "id": "7a2b7b6f",
   "metadata": {
    "execution": {
     "iopub.execute_input": "2022-10-10T22:31:10.527737Z",
     "iopub.status.busy": "2022-10-10T22:31:10.527299Z",
     "iopub.status.idle": "2022-10-10T22:31:10.994315Z",
     "shell.execute_reply": "2022-10-10T22:31:10.993430Z"
    },
    "papermill": {
     "duration": 0.493522,
     "end_time": "2022-10-10T22:31:10.996878",
     "exception": false,
     "start_time": "2022-10-10T22:31:10.503356",
     "status": "completed"
    },
    "tags": []
   },
   "outputs": [
    {
     "data": {
      "image/png": "[encoded data removed]",
      "text/plain": [
       "<Figure size 864x360 with 1 Axes>"
      ]
     },
     "metadata": {},
     "output_type": "display_data"
    }
   ],
   "source": [
    "shop_id = 16\n",
    "item_id = 482\n",
    "im = matrix.query(f\"shop_id=={shop_id} & item_id=={item_id}\")[['date_block_num', 'item_cnt_month']]\n",
    "im['moving average'] = im['item_cnt_month'].ewm(halflife=1).mean()\n",
    "im['expanding mean'] = im['item_cnt_month'].expanding().mean()\n",
    "im['rolling 12 month mean'] = im['item_cnt_month'].rolling(window=12, min_periods=1).mean()\n",
    "im = im.set_index('date_block_num')\n",
    "ax = im.plot(figsize=(12,5), marker='.', title='Time series averaging methods')"
   ]
  },
  {
   "cell_type": "code",
   "execution_count": 30,
   "id": "091f70a0",
   "metadata": {
    "execution": {
     "iopub.execute_input": "2022-10-10T22:31:11.048494Z",
     "iopub.status.busy": "2022-10-10T22:31:11.047710Z",
     "iopub.status.idle": "2022-10-10T22:31:11.066924Z",
     "shell.execute_reply": "2022-10-10T22:31:11.066050Z"
    },
    "papermill": {
     "duration": 0.048028,
     "end_time": "2022-10-10T22:31:11.069306",
     "exception": false,
     "start_time": "2022-10-10T22:31:11.021278",
     "status": "completed"
    },
    "tags": []
   },
   "outputs": [],
   "source": [
    "def add_rolling_stats(\n",
    "    matrix,\n",
    "    features,\n",
    "    window=12,\n",
    "    kind=\"rolling\",\n",
    "    argfeat=\"item_cnt_month\",\n",
    "    aggfunc=\"mean\",\n",
    "    rolling_aggfunc=\"mean\",\n",
    "    dtype=\"float16\",\n",
    "    reshape_source=True,\n",
    "    lag_offset=0,\n",
    "):\n",
    "    def rolling_stat(\n",
    "        matrix,\n",
    "        source,\n",
    "        feats,\n",
    "        feat_name,\n",
    "        window=12,\n",
    "        argfeat=\"item_cnt_month\",\n",
    "        aggfunc=\"mean\",\n",
    "        dtype=dtype,\n",
    "        lag_offset=0,\n",
    "    ):\n",
    "        # Calculate a statistic on a windowed section of a source table,  grouping on specific features\n",
    "        store = []\n",
    "        for i in range(2 + lag_offset, 35 + lag_offset):\n",
    "            if len(feats) > 0:\n",
    "                mes = (\n",
    "                    source[source.date_block_num.isin(range(max([i - window, 0]), i))]\n",
    "                    .groupby(feats)[argfeat]\n",
    "                    .agg(aggfunc)\n",
    "                    .astype(dtype)\n",
    "                    .rename(feat_name)\n",
    "                    .reset_index()\n",
    "                )\n",
    "            else:\n",
    "                mes = {}\n",
    "                mes[feat_name] = (\n",
    "                    source.loc[\n",
    "                        source.date_block_num.isin(range(max([i - window, 0]), i)), argfeat\n",
    "                    ]\n",
    "                    .agg(aggfunc)\n",
    "                    .astype(dtype)\n",
    "                )\n",
    "                mes = pd.DataFrame(data=mes, index=[i])\n",
    "            mes[\"date_block_num\"] = i - lag_offset\n",
    "            store.append(mes)\n",
    "        store = pd.concat(store)\n",
    "        matrix = matrix.merge(store, on=feats + [\"date_block_num\"], how=\"left\")\n",
    "        return matrix\n",
    "\n",
    "    \"\"\" An issue when using windowed functions is that missing values from months when items recorded no sales are skipped rather than being correctly\n",
    "    treated as zeroes. Creating a pivot_table fills in the zeros.\"\"\"\n",
    "    if (reshape_source == True) or (kind == \"ewm\"):\n",
    "        source = matrix.pivot_table(\n",
    "            index=features + [\"date_block_num\"],\n",
    "            values=argfeat,\n",
    "            aggfunc=aggfunc,\n",
    "            fill_value=0,\n",
    "            dropna=False,\n",
    "        ).astype(dtype)\n",
    "        for g in features:\n",
    "            firsts = matrix.groupby(g).date_block_num.min().rename(\"firsts\")\n",
    "            source = source.merge(firsts, left_on=g, right_index=True, how=\"left\")\n",
    "            # Set values before the items first appearance to nan so they are ignored rather than being treated as zero sales.\n",
    "            source.loc[\n",
    "                source.index.get_level_values(\"date_block_num\") < source[\"firsts\"], argfeat\n",
    "            ] = float(\"nan\")\n",
    "            del source[\"firsts\"]\n",
    "        source = source.reset_index()\n",
    "    else:\n",
    "        source = matrix\n",
    "\n",
    "    if kind == \"rolling\":\n",
    "        feat_name = (\n",
    "            f\"{'_'.join(features)}_{argfeat}_{aggfunc}_rolling_{rolling_aggfunc}_win_{window}\"\n",
    "        )\n",
    "        print(f'Creating feature \"{feat_name}\"')\n",
    "        return rolling_stat(\n",
    "            matrix,\n",
    "            source,\n",
    "            features,\n",
    "            feat_name,\n",
    "            window=window,\n",
    "            argfeat=argfeat,\n",
    "            aggfunc=rolling_aggfunc,\n",
    "            dtype=dtype,\n",
    "            lag_offset=lag_offset,\n",
    "        )\n",
    "    elif kind == \"expanding\":\n",
    "        feat_name = f\"{'_'.join(features)}_{argfeat}_{aggfunc}_expanding_{rolling_aggfunc}\"\n",
    "        print(f'Creating feature \"{feat_name}\"')\n",
    "        return rolling_stat(\n",
    "            matrix,\n",
    "            source,\n",
    "            features,\n",
    "            feat_name,\n",
    "            window=100,\n",
    "            argfeat=argfeat,\n",
    "            aggfunc=aggfunc,\n",
    "            dtype=dtype,\n",
    "            lag_offset=lag_offset,\n",
    "        )\n",
    "    elif kind == \"ewm\":\n",
    "        feat_name = f\"{'_'.join(features)}_{argfeat}_{aggfunc}_ewm_hl_{window}\"\n",
    "        print(f'Creating feature \"{feat_name}\"')\n",
    "        source[feat_name] = (\n",
    "            source.groupby(features)[argfeat]\n",
    "            .ewm(halflife=window, min_periods=1)\n",
    "            .agg(rolling_aggfunc)\n",
    "            .to_numpy(dtype=dtype)\n",
    "        )\n",
    "        del source[argfeat]\n",
    "        #         source = source.reset_index()\n",
    "        source[\"date_block_num\"] += 1 - lag_offset\n",
    "        return matrix.merge(source, on=[\"date_block_num\"] + features, how=\"left\")"
   ]
  },
  {
   "cell_type": "markdown",
   "id": "7a9d0ab4",
   "metadata": {
    "papermill": {
     "duration": 0.023668,
     "end_time": "2022-10-10T22:31:11.117266",
     "exception": false,
     "start_time": "2022-10-10T22:31:11.093598",
     "status": "completed"
    },
    "tags": []
   },
   "source": [
    "Creating rolling mean features. \n",
    "The combination of grouping features and window types will be selected by calling upon a large number of features and pruning them with the scikit-learn RCEFV function"
   ]
  },
  {
   "cell_type": "code",
   "execution_count": 31,
   "id": "365fa422",
   "metadata": {
    "execution": {
     "iopub.execute_input": "2022-10-10T22:31:11.167664Z",
     "iopub.status.busy": "2022-10-10T22:31:11.167004Z",
     "iopub.status.idle": "2022-10-10T23:00:43.123544Z",
     "shell.execute_reply": "2022-10-10T23:00:43.122166Z"
    },
    "papermill": {
     "duration": 1771.985522,
     "end_time": "2022-10-10T23:00:43.126823",
     "exception": false,
     "start_time": "2022-10-10T22:31:11.141301",
     "status": "completed"
    },
    "tags": []
   },
   "outputs": [
    {
     "name": "stdout",
     "output_type": "stream",
     "text": [
      "Creating feature \"shop_id_artist_name_or_first_word_item_category_id_item_age_item_cnt_month_mean_rolling_mean_win_12\"\n",
      "Creating feature \"shop_id_artist_name_or_first_word_item_category_id_new_item_item_cnt_month_mean_expanding_mean\"\n",
      "Creating feature \"shop_id_artist_name_or_first_word_new_item_item_cnt_month_mean_expanding_mean\"\n",
      "Creating feature \"shop_id_category_cluster_item_cnt_month_mean_rolling_mean_win_12\"\n",
      "Creating feature \"shop_id_item_category_id_item_age_item_cnt_month_mean_expanding_mean\"\n",
      "Creating feature \"shop_id_item_category_id_item_age_item_cnt_month_mean_rolling_mean_win_12\"\n",
      "Creating feature \"shop_id_item_category_id_item_cnt_month_mean_ewm_hl_1\"\n",
      "Creating feature \"shop_id_item_category_id_new_item_item_cnt_month_mean_expanding_mean\"\n",
      "Creating feature \"shop_id_item_category_id_new_item_item_cnt_month_mean_rolling_mean_win_12\"\n",
      "Creating feature \"shop_id_item_cnt_month_mean_rolling_mean_win_12\"\n",
      "Creating feature \"shop_id_item_id_item_cnt_month_mean_ewm_hl_1\"\n",
      "Creating feature \"shop_id_item_id_item_cnt_month_mean_rolling_mean_win_12\"\n",
      "Creating feature \"shop_id_item_name_group_item_category_id_new_item_item_cnt_month_mean_rolling_mean_win_12\"\n",
      "Creating feature \"shop_id_item_name_group_new_item_item_cnt_month_mean_expanding_mean\"\n",
      "Creating feature \"shop_id_supercategory_id_new_item_item_cnt_month_mean_rolling_mean_win_12\"\n",
      "Creating feature \"shop_cluster_item_id_item_cnt_month_mean_ewm_hl_1\"\n",
      "Creating feature \"shop_cluster_item_category_id_item_age_item_cnt_month_mean_expanding_mean\"\n",
      "Creating feature \"shop_cluster_item_name_group_new_item_item_cnt_month_mean_rolling_mean_win_12\"\n",
      "Creating feature \"category_cluster_item_age_item_cnt_month_mean_expanding_mean\"\n",
      "Creating feature \"category_cluster_new_item_item_cnt_month_mean_expanding_mean\"\n",
      "Creating feature \"item_id_item_cnt_month_mean_rolling_mean_win_12\"\n",
      "Creating feature \"artist_name_or_first_word_item_cnt_month_mean_rolling_mean_win_12\"\n",
      "Creating feature \"artist_name_or_first_word_item_cnt_month_mean_ewm_hl_1\"\n",
      "Creating feature \"artist_name_or_first_word_item_age_item_cnt_month_mean_rolling_mean_win_12\"\n",
      "Creating feature \"artist_name_or_first_word_item_category_id_item_age_item_cnt_month_mean_rolling_mean_win_12\"\n",
      "Creating feature \"artist_name_or_first_word_new_item_item_cnt_month_mean_expanding_mean\"\n",
      "Creating feature \"item_category_id_item_age_item_cnt_month_mean_expanding_mean\"\n",
      "Creating feature \"item_category_id_item_cnt_month_mean_rolling_mean_win_12\"\n",
      "Creating feature \"item_category_id_item_cnt_month_mean_ewm_hl_1\"\n",
      "Creating feature \"item_category_id_new_item_item_cnt_month_mean_expanding_mean\"\n",
      "Creating feature \"item_name_group_item_age_item_cnt_month_mean_rolling_mean_win_12\"\n",
      "Creating feature \"item_name_group_item_cnt_month_mean_ewm_hl_1\"\n",
      "Creating feature \"item_name_group_item_cnt_month_mean_rolling_mean_win_12\"\n",
      "Creating feature \"platform_id_item_cnt_month_mean_rolling_mean_win_12\"\n",
      "Creating feature \"platform_id_item_cnt_month_mean_ewm_hl_1\"\n"
     ]
    }
   ],
   "source": [
    "matrix = add_rolling_stats(\n",
    "    matrix,\n",
    "    [\"shop_id\", \"artist_name_or_first_word\", \"item_category_id\", \"item_age\"],\n",
    "    window=12,\n",
    "    reshape_source=False,\n",
    ")\n",
    "matrix = add_rolling_stats(\n",
    "    matrix,\n",
    "    [\"shop_id\", \"artist_name_or_first_word\", \"item_category_id\", \"new_item\"],\n",
    "    kind=\"expanding\",\n",
    "    reshape_source=False,\n",
    ")\n",
    "matrix = add_rolling_stats(\n",
    "    matrix,\n",
    "    [\"shop_id\", \"artist_name_or_first_word\", \"new_item\"],\n",
    "    kind=\"expanding\",\n",
    "    reshape_source=False,\n",
    ")\n",
    "matrix = add_rolling_stats(matrix, [\"shop_id\", \"category_cluster\"], window=12)\n",
    "matrix = add_rolling_stats(\n",
    "    matrix,\n",
    "    [\"shop_id\", \"item_category_id\", \"item_age\"],\n",
    "    kind=\"expanding\",\n",
    "    reshape_source=False,\n",
    ")\n",
    "matrix = add_rolling_stats(\n",
    "    matrix, [\"shop_id\", \"item_category_id\", \"item_age\"], window=12, reshape_source=False\n",
    ")\n",
    "matrix = add_rolling_stats(matrix, [\"shop_id\", \"item_category_id\"], kind=\"ewm\", window=1)\n",
    "matrix = add_rolling_stats(\n",
    "    matrix,\n",
    "    [\"shop_id\", \"item_category_id\", \"new_item\"],\n",
    "    kind=\"expanding\",\n",
    "    reshape_source=False,\n",
    ")\n",
    "matrix = add_rolling_stats(\n",
    "    matrix, [\"shop_id\", \"item_category_id\", \"new_item\"], window=12, reshape_source=False\n",
    ")\n",
    "matrix = add_rolling_stats(matrix, [\"shop_id\"], window=12)\n",
    "matrix = add_rolling_stats(matrix, [\"shop_id\", \"item_id\"], kind=\"ewm\", window=1)\n",
    "matrix = add_rolling_stats(matrix, [\"shop_id\", \"item_id\"], window=12)\n",
    "matrix = add_rolling_stats(\n",
    "    matrix,\n",
    "    [\"shop_id\", \"item_name_group\", \"item_category_id\", \"new_item\"],\n",
    "    window=12,\n",
    "    reshape_source=False,\n",
    ")\n",
    "matrix = add_rolling_stats(\n",
    "    matrix, [\"shop_id\", \"item_name_group\", \"new_item\"], kind=\"expanding\", reshape_source=False\n",
    ")\n",
    "matrix = add_rolling_stats(\n",
    "    matrix, [\"shop_id\", \"supercategory_id\", \"new_item\"], window=12, reshape_source=False\n",
    ")\n",
    "\n",
    "matrix = add_rolling_stats(matrix, [\"shop_cluster\", \"item_id\"], kind=\"ewm\", window=1)\n",
    "matrix = add_rolling_stats(\n",
    "    matrix,\n",
    "    [\"shop_cluster\", \"item_category_id\", \"item_age\"],\n",
    "    kind=\"expanding\",\n",
    "    reshape_source=False,\n",
    ")\n",
    "matrix = add_rolling_stats(\n",
    "    matrix, [\"shop_cluster\", \"item_name_group\", \"new_item\"], window=12, reshape_source=False\n",
    ")\n",
    "\n",
    "matrix = add_rolling_stats(\n",
    "    matrix, [\"category_cluster\", \"item_age\"], kind=\"expanding\", reshape_source=False\n",
    ")\n",
    "matrix = add_rolling_stats(\n",
    "    matrix, [\"category_cluster\", \"new_item\"], kind=\"expanding\", reshape_source=False\n",
    ")\n",
    "\n",
    "matrix = add_rolling_stats(matrix, [\"item_id\"], window=12)\n",
    "\n",
    "matrix = add_rolling_stats(matrix, [\"artist_name_or_first_word\"], window=12)\n",
    "matrix = add_rolling_stats(matrix, [\"artist_name_or_first_word\"], kind=\"ewm\", window=1)\n",
    "matrix = add_rolling_stats(\n",
    "    matrix, [\"artist_name_or_first_word\", \"item_age\"], window=12, reshape_source=False\n",
    ")\n",
    "matrix = add_rolling_stats(\n",
    "    matrix,\n",
    "    [\"artist_name_or_first_word\", \"item_category_id\", \"item_age\"],\n",
    "    window=12,\n",
    "    reshape_source=False,\n",
    ")\n",
    "matrix = add_rolling_stats(\n",
    "    matrix, [\"artist_name_or_first_word\", \"new_item\"], kind=\"expanding\", reshape_source=False\n",
    ")\n",
    "\n",
    "matrix = add_rolling_stats(\n",
    "    matrix, [\"item_category_id\", \"item_age\"], kind=\"expanding\", reshape_source=False\n",
    ")\n",
    "matrix = add_rolling_stats(matrix, [\"item_category_id\"], window=12)\n",
    "matrix = add_rolling_stats(matrix, [\"item_category_id\"], kind=\"ewm\", window=1)\n",
    "matrix = add_rolling_stats(\n",
    "    matrix, [\"item_category_id\", \"new_item\"], kind=\"expanding\", reshape_source=False\n",
    ")\n",
    "\n",
    "matrix = add_rolling_stats(\n",
    "    matrix, [\"item_name_group\", \"item_age\"], window=12, reshape_source=False\n",
    ")\n",
    "matrix = add_rolling_stats(matrix, [\"item_name_group\"], kind=\"ewm\", window=1)\n",
    "matrix = add_rolling_stats(matrix, [\"item_name_group\"], window=12)\n",
    "\n",
    "matrix = add_rolling_stats(matrix, [\"platform_id\"], window=12)\n",
    "matrix = add_rolling_stats(matrix, [\"platform_id\"], kind=\"ewm\", window=1)"
   ]
  },
  {
   "cell_type": "code",
   "execution_count": 32,
   "id": "e6f9cf06",
   "metadata": {
    "execution": {
     "iopub.execute_input": "2022-10-10T23:00:43.182135Z",
     "iopub.status.busy": "2022-10-10T23:00:43.181684Z",
     "iopub.status.idle": "2022-10-10T23:00:57.485999Z",
     "shell.execute_reply": "2022-10-10T23:00:57.484621Z"
    },
    "papermill": {
     "duration": 14.335424,
     "end_time": "2022-10-10T23:00:57.488874",
     "exception": false,
     "start_time": "2022-10-10T23:00:43.153450",
     "status": "completed"
    },
    "tags": []
   },
   "outputs": [],
   "source": [
    "gc.collect()\n",
    "matrix, oldcols = shrink_mem_new_cols(matrix, oldcols)"
   ]
  },
  {
   "cell_type": "markdown",
   "id": "41cfa0e1",
   "metadata": {
    "papermill": {
     "duration": 0.025957,
     "end_time": "2022-10-10T23:00:57.544197",
     "exception": false,
     "start_time": "2022-10-10T23:00:57.518240",
     "status": "completed"
    },
    "tags": []
   },
   "source": [
    "We're gonna calculate windowed mean sales features with day resolution accuracy"
   ]
  },
  {
   "cell_type": "code",
   "execution_count": 33,
   "id": "b83d6336",
   "metadata": {
    "execution": {
     "iopub.execute_input": "2022-10-10T23:00:57.599417Z",
     "iopub.status.busy": "2022-10-10T23:00:57.598740Z",
     "iopub.status.idle": "2022-10-10T23:03:17.960408Z",
     "shell.execute_reply": "2022-10-10T23:03:17.958912Z"
    },
    "papermill": {
     "duration": 140.392843,
     "end_time": "2022-10-10T23:03:17.963515",
     "exception": false,
     "start_time": "2022-10-10T23:00:57.570672",
     "status": "completed"
    },
    "tags": []
   },
   "outputs": [
    {
     "name": "stdout",
     "output_type": "stream",
     "text": [
      "Creating feature \"shop_id_item_id_item_cnt_month_sum_rolling_sum_win_12\"\n",
      "Creating feature \"item_id_item_cnt_month_sum_expanding_sum\"\n"
     ]
    }
   ],
   "source": [
    "matrix = add_rolling_stats(\n",
    "    matrix,\n",
    "    [\"shop_id\", \"item_id\"],\n",
    "    aggfunc=\"sum\",\n",
    "    rolling_aggfunc=\"sum\",\n",
    "    kind=\"rolling\",\n",
    "    window=12,\n",
    "    reshape_source=False,\n",
    ")\n",
    "matrix = add_rolling_stats(\n",
    "    matrix,\n",
    "    [\"item_id\"],\n",
    "    aggfunc=\"sum\",\n",
    "    rolling_aggfunc=\"sum\",\n",
    "    kind=\"expanding\",\n",
    "    reshape_source=False,\n",
    ")\n",
    "matrix[\"1year\"]=365\n",
    "matrix[\"item_id_day_mean_expanding\"] = matrix[\n",
    "    \"item_id_item_cnt_month_sum_expanding_sum\"\n",
    "]/ matrix[[\"first_item_sale_days\"]].min(axis=1)\n",
    "matrix[\"shop_id_item_id_day_mean_win_12\"] = matrix[\n",
    "    \"shop_id_item_id_item_cnt_month_sum_rolling_sum_win_12\"\n",
    "] / matrix[[\"first_item_sale_days\", \"shop_open_days\", \"1year\"]].min(axis=1)\n",
    "matrix.loc[matrix.new_item == True, \"item_id_day_mean_expanding\",] = float(\"nan\")\n",
    "matrix = matrix.drop(columns=[\"1year\", \"item_id_item_cnt_month_sum_expanding_sum\"])"
   ]
  },
  {
   "cell_type": "code",
   "execution_count": 34,
   "id": "e61f8674",
   "metadata": {
    "execution": {
     "iopub.execute_input": "2022-10-10T23:03:18.018341Z",
     "iopub.status.busy": "2022-10-10T23:03:18.017912Z",
     "iopub.status.idle": "2022-10-10T23:04:43.799937Z",
     "shell.execute_reply": "2022-10-10T23:04:43.798974Z"
    },
    "papermill": {
     "duration": 85.812517,
     "end_time": "2022-10-10T23:04:43.802513",
     "exception": false,
     "start_time": "2022-10-10T23:03:17.989996",
     "status": "completed"
    },
    "tags": []
   },
   "outputs": [
    {
     "name": "stdout",
     "output_type": "stream",
     "text": [
      "Creating feature \"shop_id_item_name_group_item_revenue_month_mean_rolling_mean_win_12\"\n"
     ]
    }
   ],
   "source": [
    "matrix = add_rolling_stats(\n",
    "    matrix,\n",
    "    [\"shop_id\", \"item_name_group\"],\n",
    "    window=12,\n",
    "    argfeat=\"item_revenue_month\",\n",
    "    dtype=\"float32\",\n",
    ")"
   ]
  },
  {
   "cell_type": "markdown",
   "id": "2012f6bc",
   "metadata": {
    "papermill": {
     "duration": 0.026242,
     "end_time": "2022-10-10T23:04:43.855983",
     "exception": false,
     "start_time": "2022-10-10T23:04:43.829741",
     "status": "completed"
    },
    "tags": []
   },
   "source": [
    "Windowed mean unique item features & ratio of new items per category with mean over previous year"
   ]
  },
  {
   "cell_type": "code",
   "execution_count": 35,
   "id": "864333bf",
   "metadata": {
    "execution": {
     "iopub.execute_input": "2022-10-10T23:04:43.910716Z",
     "iopub.status.busy": "2022-10-10T23:04:43.910152Z",
     "iopub.status.idle": "2022-10-10T23:05:24.160278Z",
     "shell.execute_reply": "2022-10-10T23:05:24.159114Z"
    },
    "papermill": {
     "duration": 40.281059,
     "end_time": "2022-10-10T23:05:24.163119",
     "exception": false,
     "start_time": "2022-10-10T23:04:43.882060",
     "status": "completed"
    },
    "tags": []
   },
   "outputs": [
    {
     "name": "stdout",
     "output_type": "stream",
     "text": [
      "Creating feature \"item_category_id_new_items_cat_mean_rolling_mean_win_12\"\n",
      "Creating feature \"item_name_group_name_group_new_unique_month_mean_rolling_mean_win_12\"\n"
     ]
    }
   ],
   "source": [
    "matrix = add_rolling_stats(\n",
    "    matrix,\n",
    "    [\"item_category_id\"],\n",
    "    argfeat=\"new_items_cat\",\n",
    "    window=12,\n",
    "    reshape_source=True,\n",
    "    lag_offset=1,\n",
    ")\n",
    "matrix = add_rolling_stats(\n",
    "    matrix,\n",
    "    [\"item_name_group\"],\n",
    "    argfeat=\"name_group_new_unique_month\",\n",
    "    window=12,\n",
    "    reshape_source=True,\n",
    "    lag_offset=1,\n",
    ")\n",
    "matrix[\"new_items_cat_1_12_ratio\"] = (\n",
    "    matrix[\"new_items_cat\"]\n",
    "    / matrix[\"item_category_id_new_items_cat_mean_rolling_mean_win_12\"]\n",
    ")"
   ]
  },
  {
   "cell_type": "code",
   "execution_count": 36,
   "id": "faebb3d4",
   "metadata": {
    "execution": {
     "iopub.execute_input": "2022-10-10T23:05:24.334348Z",
     "iopub.status.busy": "2022-10-10T23:05:24.333913Z",
     "iopub.status.idle": "2022-10-10T23:05:26.856820Z",
     "shell.execute_reply": "2022-10-10T23:05:26.855833Z"
    },
    "papermill": {
     "duration": 2.668685,
     "end_time": "2022-10-10T23:05:26.859462",
     "exception": false,
     "start_time": "2022-10-10T23:05:24.190777",
     "status": "completed"
    },
    "tags": []
   },
   "outputs": [],
   "source": [
    "gc.collect()\n",
    "matrix, oldcols = shrink_mem_new_cols(matrix, oldcols)"
   ]
  },
  {
   "cell_type": "markdown",
   "id": "d905a0e5",
   "metadata": {
    "papermill": {
     "duration": 0.026515,
     "end_time": "2022-10-10T23:05:26.912757",
     "exception": false,
     "start_time": "2022-10-10T23:05:26.886242",
     "status": "completed"
    },
    "tags": []
   },
   "source": [
    "<font size=\"+2\"><b>Lagged features and mean encodings</b></font>\n",
    "\n",
    "\n",
    "Values for the same shop-item combination from previous months"
   ]
  },
  {
   "cell_type": "code",
   "execution_count": 37,
   "id": "5032abfb",
   "metadata": {
    "execution": {
     "iopub.execute_input": "2022-10-10T23:05:26.968352Z",
     "iopub.status.busy": "2022-10-10T23:05:26.967254Z",
     "iopub.status.idle": "2022-10-10T23:05:26.974577Z",
     "shell.execute_reply": "2022-10-10T23:05:26.973763Z"
    },
    "papermill": {
     "duration": 0.037128,
     "end_time": "2022-10-10T23:05:26.976599",
     "exception": false,
     "start_time": "2022-10-10T23:05:26.939471",
     "status": "completed"
    },
    "tags": []
   },
   "outputs": [],
   "source": [
    "def simple_lag_feature(matrix, lag_feature, lags):\n",
    "    for lag in lags:\n",
    "        newname = lag_feature + f\"_lag_{lag}\"\n",
    "        print(f\"Adding feature {newname}\")\n",
    "        targetseries = matrix.loc[:, [\"date_block_num\", \"item_id\", \"shop_id\"] + [lag_feature]]\n",
    "        targetseries[\"date_block_num\"] += lag\n",
    "        targetseries = targetseries.rename(columns={lag_feature: newname})\n",
    "        matrix = matrix.merge(\n",
    "            targetseries, on=[\"date_block_num\", \"item_id\", \"shop_id\"], how=\"left\"\n",
    "        )\n",
    "        matrix.loc[\n",
    "            (matrix.item_age >= lag) & (matrix.shop_age >= lag) & (matrix[newname].isna()),\n",
    "            newname,\n",
    "        ] = 0\n",
    "    return matrix"
   ]
  },
  {
   "cell_type": "code",
   "execution_count": 38,
   "id": "56eb92e9",
   "metadata": {
    "execution": {
     "iopub.execute_input": "2022-10-10T23:05:27.031918Z",
     "iopub.status.busy": "2022-10-10T23:05:27.031017Z",
     "iopub.status.idle": "2022-10-10T23:08:03.009532Z",
     "shell.execute_reply": "2022-10-10T23:08:03.008080Z"
    },
    "papermill": {
     "duration": 156.008857,
     "end_time": "2022-10-10T23:08:03.012094",
     "exception": false,
     "start_time": "2022-10-10T23:05:27.003237",
     "status": "completed"
    },
    "tags": []
   },
   "outputs": [
    {
     "name": "stdout",
     "output_type": "stream",
     "text": [
      "Adding feature item_cnt_month_lag_1\n",
      "Adding feature item_cnt_month_lag_2\n",
      "Adding feature item_cnt_month_lag_3\n",
      "Adding feature item_cnt_day_avg_lag_1\n",
      "Adding feature item_cnt_day_avg_lag_2\n",
      "Adding feature item_cnt_day_avg_lag_3\n",
      "Adding feature item_revenue_month_lag_1\n",
      "Lag features created\n"
     ]
    }
   ],
   "source": [
    "matrix = simple_lag_feature(matrix, 'item_cnt_month', lags=[1,2,3])\n",
    "matrix = simple_lag_feature(matrix, 'item_cnt_day_avg', lags=[1, 2, 3])\n",
    "matrix = simple_lag_feature(matrix, 'item_revenue_month', lags=[1])\n",
    "gc.collect()\n",
    "print(\"Lag features created\")\n"
   ]
  },
  {
   "cell_type": "markdown",
   "id": "c06e1c14",
   "metadata": {
    "papermill": {
     "duration": 0.027237,
     "end_time": "2022-10-10T23:08:03.066965",
     "exception": false,
     "start_time": "2022-10-10T23:08:03.039728",
     "status": "completed"
    },
    "tags": []
   },
   "source": [
    "Lagging the mean or sum value of a target feature of each level of a categorical of features or combinations of them"
   ]
  },
  {
   "cell_type": "code",
   "execution_count": 39,
   "id": "1fc90393",
   "metadata": {
    "execution": {
     "iopub.execute_input": "2022-10-10T23:08:03.123549Z",
     "iopub.status.busy": "2022-10-10T23:08:03.122896Z",
     "iopub.status.idle": "2022-10-10T23:08:03.133139Z",
     "shell.execute_reply": "2022-10-10T23:08:03.132010Z"
    },
    "papermill": {
     "duration": 0.04122,
     "end_time": "2022-10-10T23:08:03.135509",
     "exception": false,
     "start_time": "2022-10-10T23:08:03.094289",
     "status": "completed"
    },
    "tags": []
   },
   "outputs": [],
   "source": [
    "def create_apply_ME(\n",
    "    matrix, grouping_fields, lags=[1], target=\"item_cnt_day_avg\", aggfunc=\"mean\"\n",
    "):\n",
    "    grouping_fields = list_if_not(grouping_fields)\n",
    "    for lag in lags:\n",
    "        newname = \"_\".join(grouping_fields + [target] + [aggfunc] + [f\"lag_{lag}\"])\n",
    "        print(f\"Adding feature {newname}\")\n",
    "        me_series = (\n",
    "            matrix.groupby([\"date_block_num\"] + grouping_fields)[target]\n",
    "            .agg(aggfunc)\n",
    "            .rename(newname)\n",
    "            .reset_index()\n",
    "        )\n",
    "        me_series[\"date_block_num\"] += lag\n",
    "        matrix = matrix.merge(me_series, on=[\"date_block_num\"] + grouping_fields, how=\"left\")\n",
    "        del me_series\n",
    "        matrix[newname] = matrix[newname].fillna(0)\n",
    "        for g in grouping_fields:\n",
    "            firsts = matrix.groupby(g).date_block_num.min().rename(\"firsts\")\n",
    "            matrix = matrix.merge(firsts, left_on=g, right_index=True, how=\"left\")\n",
    "            matrix.loc[\n",
    "                matrix[\"date_block_num\"] < (matrix[\"firsts\"] + (lag)), newname\n",
    "            ] = float(\"nan\")\n",
    "            del matrix[\"firsts\"]\n",
    "        matrix[newname] = reduce_mem_usage(matrix[newname])\n",
    "    return matrix"
   ]
  },
  {
   "cell_type": "code",
   "execution_count": 40,
   "id": "740287ad",
   "metadata": {
    "execution": {
     "iopub.execute_input": "2022-10-10T23:08:03.193648Z",
     "iopub.status.busy": "2022-10-10T23:08:03.192254Z",
     "iopub.status.idle": "2022-10-10T23:10:26.328378Z",
     "shell.execute_reply": "2022-10-10T23:10:26.327260Z"
    },
    "papermill": {
     "duration": 143.167411,
     "end_time": "2022-10-10T23:10:26.331138",
     "exception": false,
     "start_time": "2022-10-10T23:08:03.163727",
     "status": "completed"
    },
    "tags": []
   },
   "outputs": [
    {
     "name": "stdout",
     "output_type": "stream",
     "text": [
      "Adding feature item_name_group_item_cnt_month_mean_lag_1\n",
      "Adding feature item_name_group_item_cnt_month_sum_lag_1\n",
      "Adding feature item_id_item_cnt_month_mean_lag_1\n",
      "Adding feature item_id_item_cnt_day_avg_mean_lag_1\n",
      "Adding feature platform_id_item_cnt_day_avg_mean_lag_1\n",
      "Adding feature item_name_group_item_cnt_day_avg_mean_lag_1\n",
      "Adding feature platform_id_item_cnt_month_mean_lag_1\n",
      "Adding feature supercategory_id_item_cnt_day_avg_mean_lag_1\n",
      "Adding feature item_category_id_new_item_item_cnt_month_mean_lag_1\n",
      "Adding feature shop_id_item_category_id_item_cnt_month_mean_lag_1\n",
      "Adding feature shop_cluster_item_id_item_cnt_month_mean_lag_1\n",
      "Adding feature shop_cluster_item_id_item_cnt_day_avg_mean_lag_1\n",
      "Adding feature city_code_item_id_item_cnt_day_avg_mean_lag_1\n",
      "Adding feature city_code_item_name_group_item_cnt_day_avg_mean_lag_1\n"
     ]
    }
   ],
   "source": [
    "matrix = create_apply_ME(matrix, [\"item_name_group\"], target=\"item_cnt_month\")\n",
    "matrix = create_apply_ME(matrix, [\"item_name_group\"], target=\"item_cnt_month\", aggfunc=\"sum\")\n",
    "matrix = create_apply_ME(matrix, [\"item_id\"], target=\"item_cnt_month\")\n",
    "matrix = create_apply_ME(matrix, [\"item_id\"])\n",
    "matrix = create_apply_ME(matrix, [\"platform_id\"])\n",
    "matrix = create_apply_ME(matrix, [\"item_name_group\"])\n",
    "matrix = create_apply_ME(matrix, [\"platform_id\"], target=\"item_cnt_month\")\n",
    "matrix = create_apply_ME(matrix, [\"supercategory_id\"])\n",
    "matrix = create_apply_ME(matrix, [\"item_category_id\", \"new_item\"], target=\"item_cnt_month\")\n",
    "matrix = create_apply_ME(matrix, [\"shop_id\", \"item_category_id\"], target=\"item_cnt_month\")\n",
    "matrix = create_apply_ME(matrix, [\"shop_cluster\", \"item_id\"], target=\"item_cnt_month\")\n",
    "matrix = create_apply_ME(matrix, [\"shop_cluster\", \"item_id\"])\n",
    "matrix = create_apply_ME(matrix, [\"city_code\", \"item_id\"])\n",
    "matrix = create_apply_ME(matrix, [\"city_code\", \"item_name_group\"])"
   ]
  },
  {
   "cell_type": "markdown",
   "id": "404a6692",
   "metadata": {
    "papermill": {
     "duration": 0.028421,
     "end_time": "2022-10-10T23:10:26.388404",
     "exception": false,
     "start_time": "2022-10-10T23:10:26.359983",
     "status": "completed"
    },
    "tags": []
   },
   "source": [
    "Ratios between lag 1 & rolling 12 month means, to capture decreases from previous means\n"
   ]
  },
  {
   "cell_type": "code",
   "execution_count": 41,
   "id": "baeb9065",
   "metadata": {
    "execution": {
     "iopub.execute_input": "2022-10-10T23:10:26.447222Z",
     "iopub.status.busy": "2022-10-10T23:10:26.446591Z",
     "iopub.status.idle": "2022-10-10T23:10:26.487669Z",
     "shell.execute_reply": "2022-10-10T23:10:26.486240Z"
    },
    "papermill": {
     "duration": 0.073755,
     "end_time": "2022-10-10T23:10:26.490499",
     "exception": false,
     "start_time": "2022-10-10T23:10:26.416744",
     "status": "completed"
    },
    "tags": []
   },
   "outputs": [],
   "source": [
    "matrix[\"item_id_item_cnt_1_12_ratio\"] = (\n",
    "    matrix[\"item_id_item_cnt_month_mean_lag_1\"]\n",
    "    / matrix[\"item_id_item_cnt_month_mean_rolling_mean_win_12\"]\n",
    ")\n",
    "matrix[\"shop_id_item_id_item_cnt_1_12_ratio\"] = (\n",
    "    matrix[\"item_cnt_day_avg_lag_1\"] / matrix[\"shop_id_item_id_day_mean_win_12\"]\n",
    ")"
   ]
  },
  {
   "cell_type": "code",
   "execution_count": 42,
   "id": "8bc0580a",
   "metadata": {
    "execution": {
     "iopub.execute_input": "2022-10-10T23:10:26.549053Z",
     "iopub.status.busy": "2022-10-10T23:10:26.548630Z",
     "iopub.status.idle": "2022-10-10T23:10:30.069001Z",
     "shell.execute_reply": "2022-10-10T23:10:30.067831Z"
    },
    "papermill": {
     "duration": 3.55244,
     "end_time": "2022-10-10T23:10:30.071672",
     "exception": false,
     "start_time": "2022-10-10T23:10:26.519232",
     "status": "completed"
    },
    "tags": []
   },
   "outputs": [],
   "source": [
    "surplus_columns = [\n",
    "        \"item_revenue_month\",\n",
    "        \"item_cnt_day_avg\",\n",
    "        \"item_name_group\",\n",
    "        \"artist_name_or_first_word\",\n",
    "        \"item_age\",\n",
    "        \"shop_open_days\",\n",
    "        \"shop_age\",\n",
    "        \"platform_id\",\n",
    "        \"supercategory_id\",\n",
    "        \"city_code\",\n",
    "        \"category_cluster\",\n",
    "        \"shop_cluster\",\n",
    "        \"new_items_cat\",\n",
    "        \"shop_id_item_id_day_mean_win_12\",\n",
    "        \"item_id_item_cnt_month_mean_rolling_mean_win_12\",\n",
    "]\n",
    "matrix = matrix.drop(columns=surplus_columns)"
   ]
  },
  {
   "cell_type": "code",
   "execution_count": 43,
   "id": "a3b06430",
   "metadata": {
    "execution": {
     "iopub.execute_input": "2022-10-10T23:10:30.129312Z",
     "iopub.status.busy": "2022-10-10T23:10:30.128883Z",
     "iopub.status.idle": "2022-10-10T23:10:41.649297Z",
     "shell.execute_reply": "2022-10-10T23:10:41.648082Z"
    },
    "papermill": {
     "duration": 11.552425,
     "end_time": "2022-10-10T23:10:41.652049",
     "exception": false,
     "start_time": "2022-10-10T23:10:30.099624",
     "status": "completed"
    },
    "tags": []
   },
   "outputs": [
    {
     "name": "stdout",
     "output_type": "stream",
     "text": [
      "Saved matrixcheckpoint\n",
      "Mean encoding features created\n"
     ]
    }
   ],
   "source": [
    "matrix, oldcols = shrink_mem_new_cols(matrix, oldcols)\n",
    "matrix.to_pickle(\"matrixcheckpoint.pkl\")\n",
    "print(\"Saved matrixcheckpoint\")\n",
    "gc.collect()\n",
    "print(\"Mean encoding features created\")\n"
   ]
  },
  {
   "cell_type": "markdown",
   "id": "aa3e4a15",
   "metadata": {
    "papermill": {
     "duration": 0.027982,
     "end_time": "2022-10-10T23:10:41.708435",
     "exception": false,
     "start_time": "2022-10-10T23:10:41.680453",
     "status": "completed"
    },
    "tags": []
   },
   "source": [
    "We can discord some of the columns that were used to generate the features."
   ]
  },
  {
   "cell_type": "markdown",
   "id": "e21e9477",
   "metadata": {
    "papermill": {
     "duration": 0.027708,
     "end_time": "2022-10-10T23:10:41.764502",
     "exception": false,
     "start_time": "2022-10-10T23:10:41.736794",
     "status": "completed"
    },
    "tags": []
   },
   "source": [
    "Using One Hot Encoding for words in the item_name field that predict item sales. \n",
    "\n",
    "To select k word features from the 1000's of words found in item names, words are discarded if they are not in the names of a threshold number of items, or are not in the names of new items in the test or validation months. Remaining words are then selected by the scikit-learn SelectKBest function according to their correlation with the target."
   ]
  },
  {
   "cell_type": "code",
   "execution_count": 44,
   "id": "8d92ccdc",
   "metadata": {
    "execution": {
     "iopub.execute_input": "2022-10-10T23:10:41.822208Z",
     "iopub.status.busy": "2022-10-10T23:10:41.821811Z",
     "iopub.status.idle": "2022-10-10T23:10:41.847526Z",
     "shell.execute_reply": "2022-10-10T23:10:41.845904Z"
    },
    "papermill": {
     "duration": 0.058417,
     "end_time": "2022-10-10T23:10:41.850507",
     "exception": false,
     "start_time": "2022-10-10T23:10:41.792090",
     "status": "completed"
    },
    "tags": []
   },
   "outputs": [],
   "source": [
    "import re\n",
    "import warnings\n",
    "\n",
    "warnings.filterwarnings(\"ignore\", module=\"sklearn\")\n",
    "\n",
    "from nltk.corpus import stopwords\n",
    "from sklearn.feature_extraction.text import CountVectorizer\n",
    "from sklearn.feature_selection import SelectKBest, f_regression\n",
    "\n",
    "\n",
    "def name_token_feats(matrix, items, k=50, item_n_threshold=5, target_month_start=33):\n",
    "    def name_correction(st):\n",
    "        st = re.sub(r\"[^\\w\\s]\", \"\", st)\n",
    "        st = re.sub(r\"\\s{2,}\", \" \", st)\n",
    "        st = st.lower().strip()\n",
    "        return st\n",
    "\n",
    "    items[\"item_name_clean\"] = items[\"item_name\"].apply(name_correction)\n",
    "\n",
    "    def create_item_id_bow_matrix(items):\n",
    "        all_stopwords = stopwords.words(\"russian\")\n",
    "        all_stopwords = all_stopwords + stopwords.words(\"english\")\n",
    "\n",
    "        vectorizer = CountVectorizer(stop_words=all_stopwords)\n",
    "        X = vectorizer.fit_transform(items.loc[:, \"item_name_clean\"])\n",
    "        X = pd.DataFrame.sparse.from_spmatrix(X)\n",
    "        print(f\"{len(vectorizer.vocabulary_)} words found in all items\")\n",
    "        featuremap = {\n",
    "            col: \"word_\" + token\n",
    "            for col, token in zip(\n",
    "                range(len(vectorizer.vocabulary_)), vectorizer.get_feature_names()\n",
    "            )\n",
    "        }\n",
    "        X = X.rename(columns=featuremap)\n",
    "        return X\n",
    "\n",
    "    items_bow = create_item_id_bow_matrix(items)\n",
    "    items_bow = items_bow.clip(0, 1)  # Made the word counts binary\n",
    "    common_word_mask = items_bow.sum(axis=0) > item_n_threshold\n",
    "    target_items = matrix.query(\n",
    "        f\"date_block_num>={target_month_start} & new_item==True\"\n",
    "    ).item_id.unique()\n",
    "    target_item_mask = items_bow.loc[target_items, :].sum(axis=0) > 1\n",
    "    items_bow = items_bow.loc[:, common_word_mask & target_item_mask]\n",
    "    print(f\"{items_bow.shape[1]} words of interest\")\n",
    "    mxbow = matrix[[\"date_block_num\", \"item_id\", \"item_cnt_month\"]].query(\"date_block_num<34\")\n",
    "    mxbow = mxbow.merge(items_bow, left_on=\"item_id\", right_index=True, how=\"left\")\n",
    "    X = mxbow.drop(columns=[\"date_block_num\", \"item_id\", \"item_cnt_month\"])\n",
    "    y = mxbow[\"item_cnt_month\"].clip(0, 20)\n",
    "    selektor = SelectKBest(f_regression, k=k)\n",
    "    selektor.fit(X, y)\n",
    "    tokencols = X.columns[selektor.get_support()]\n",
    "    print(f\"{k} word features selected\")\n",
    "    return items_bow[tokencols]"
   ]
  },
  {
   "cell_type": "code",
   "execution_count": 45,
   "id": "2f6ec664",
   "metadata": {
    "execution": {
     "iopub.execute_input": "2022-10-10T23:10:41.911612Z",
     "iopub.status.busy": "2022-10-10T23:10:41.911158Z",
     "iopub.status.idle": "2022-10-10T23:14:39.921173Z",
     "shell.execute_reply": "2022-10-10T23:14:39.919885Z"
    },
    "papermill": {
     "duration": 238.045445,
     "end_time": "2022-10-10T23:14:39.924571",
     "exception": false,
     "start_time": "2022-10-10T23:10:41.879126",
     "status": "completed"
    },
    "tags": []
   },
   "outputs": [
    {
     "name": "stdout",
     "output_type": "stream",
     "text": [
      "19134 words found in all items\n",
      "449 words of interest\n",
      "50 word features selected\n"
     ]
    }
   ],
   "source": [
    "items = pd.read_csv(\"../input/competitive-data-science-predict-future-sales/items.csv\")\n",
    "word_frame = name_token_feats(matrix, items, k=50, item_n_threshold=5)\n",
    "matrix = matrix.merge(word_frame, left_on='item_id', right_index=True, how=\"left\")\n",
    "#Note: I used LightGBM but it didnt seem to work with sparse features\n",
    "#Note 2: Converting them to int seemed to solve it\n",
    "sparsecols = [c for c in matrix.columns if pd.api.types.is_sparse(matrix[c].dtype)]\n",
    "matrix[sparsecols] = matrix[sparsecols].sparse.to_dense().astype('int8'\n",
    "                                                                )"
   ]
  },
  {
   "cell_type": "markdown",
   "id": "653053c9",
   "metadata": {
    "papermill": {
     "duration": 0.027389,
     "end_time": "2022-10-10T23:14:39.980219",
     "exception": false,
     "start_time": "2022-10-10T23:14:39.952830",
     "status": "completed"
    },
    "tags": []
   },
   "source": [
    "I ran out of memory on kaggle's notebook so i'm saving the final feature frame and resetting the notebook's kernel"
   ]
  },
  {
   "cell_type": "code",
   "execution_count": 46,
   "id": "62e25f0e",
   "metadata": {
    "execution": {
     "iopub.execute_input": "2022-10-10T23:14:40.038045Z",
     "iopub.status.busy": "2022-10-10T23:14:40.037351Z",
     "iopub.status.idle": "2022-10-10T23:14:50.944613Z",
     "shell.execute_reply": "2022-10-10T23:14:50.943036Z"
    },
    "papermill": {
     "duration": 10.940134,
     "end_time": "2022-10-10T23:14:50.948068",
     "exception": false,
     "start_time": "2022-10-10T23:14:40.007934",
     "status": "completed"
    },
    "tags": []
   },
   "outputs": [
    {
     "name": "stdout",
     "output_type": "stream",
     "text": [
      "All features generated, dataframe saved\n"
     ]
    }
   ],
   "source": [
    "gc.collect()\n",
    "matrix.to_pickle(\"checkpoint_final.pkl\")\n",
    "print(\"All features generated, dataframe saved\")"
   ]
  },
  {
   "cell_type": "code",
   "execution_count": 47,
   "id": "15aa3b36",
   "metadata": {
    "execution": {
     "iopub.execute_input": "2022-10-10T23:14:52.879907Z",
     "iopub.status.busy": "2022-10-10T23:14:52.879202Z",
     "iopub.status.idle": "2022-10-10T23:14:53.196609Z",
     "shell.execute_reply": "2022-10-10T23:14:53.195352Z"
    },
    "papermill": {
     "duration": 0.379349,
     "end_time": "2022-10-10T23:14:53.202248",
     "exception": false,
     "start_time": "2022-10-10T23:14:52.822899",
     "status": "completed"
    },
    "tags": []
   },
   "outputs": [],
   "source": [
    "%reset -f"
   ]
  },
  {
   "cell_type": "markdown",
   "id": "71282316",
   "metadata": {
    "papermill": {
     "duration": 0.053732,
     "end_time": "2022-10-10T23:14:53.289507",
     "exception": false,
     "start_time": "2022-10-10T23:14:53.235775",
     "status": "completed"
    },
    "tags": []
   },
   "source": [
    "<font size= +2>\n",
    "<b>Time for Model fitting</b></font>"
   ]
  },
  {
   "cell_type": "code",
   "execution_count": 48,
   "id": "c9822c14",
   "metadata": {
    "execution": {
     "iopub.execute_input": "2022-10-10T23:14:53.399779Z",
     "iopub.status.busy": "2022-10-10T23:14:53.399351Z",
     "iopub.status.idle": "2022-10-10T23:14:53.405624Z",
     "shell.execute_reply": "2022-10-10T23:14:53.404344Z"
    },
    "papermill": {
     "duration": 0.058747,
     "end_time": "2022-10-10T23:14:53.409775",
     "exception": false,
     "start_time": "2022-10-10T23:14:53.351028",
     "status": "completed"
    },
    "tags": []
   },
   "outputs": [],
   "source": [
    "import pandas as pd"
   ]
  },
  {
   "cell_type": "code",
   "execution_count": 49,
   "id": "8ce88cea",
   "metadata": {
    "execution": {
     "iopub.execute_input": "2022-10-10T23:14:53.502776Z",
     "iopub.status.busy": "2022-10-10T23:14:53.502022Z",
     "iopub.status.idle": "2022-10-10T23:14:58.309411Z",
     "shell.execute_reply": "2022-10-10T23:14:58.308071Z"
    },
    "papermill": {
     "duration": 4.86429,
     "end_time": "2022-10-10T23:14:58.312515",
     "exception": false,
     "start_time": "2022-10-10T23:14:53.448225",
     "status": "completed"
    },
    "tags": []
   },
   "outputs": [],
   "source": [
    "matrix = pd.read_pickle(\"checkpoint_final.pkl\")\n",
    "matrix['item_cnt_month']= matrix['item_cnt_month'].clip(0,20)"
   ]
  },
  {
   "cell_type": "markdown",
   "id": "bb70ac4c",
   "metadata": {
    "papermill": {
     "duration": 0.030663,
     "end_time": "2022-10-10T23:14:58.378462",
     "exception": false,
     "start_time": "2022-10-10T23:14:58.347799",
     "status": "completed"
    },
    "tags": []
   },
   "source": [
    "Create a fct that fits and returns a lightgbm regressor with or without early stopping"
   ]
  },
  {
   "cell_type": "code",
   "execution_count": 50,
   "id": "6f01d714",
   "metadata": {
    "execution": {
     "iopub.execute_input": "2022-10-10T23:14:58.443998Z",
     "iopub.status.busy": "2022-10-10T23:14:58.443579Z",
     "iopub.status.idle": "2022-10-10T23:14:59.532503Z",
     "shell.execute_reply": "2022-10-10T23:14:59.531298Z"
    },
    "papermill": {
     "duration": 1.12711,
     "end_time": "2022-10-10T23:14:59.535855",
     "exception": false,
     "start_time": "2022-10-10T23:14:58.408745",
     "status": "completed"
    },
    "tags": []
   },
   "outputs": [
    {
     "data": {
      "text/html": [
       "<style type='text/css'>\n",
       ".datatable table.frame { margin-bottom: 0; }\n",
       ".datatable table.frame thead { border-bottom: none; }\n",
       ".datatable table.frame tr.coltypes td {  color: #FFFFFF;  line-height: 6px;  padding: 0 0.5em;}\n",
       ".datatable .bool    { background: #DDDD99; }\n",
       ".datatable .object  { background: #565656; }\n",
       ".datatable .int     { background: #5D9E5D; }\n",
       ".datatable .float   { background: #4040CC; }\n",
       ".datatable .str     { background: #CC4040; }\n",
       ".datatable .time    { background: #40CC40; }\n",
       ".datatable .row_index {  background: var(--jp-border-color3);  border-right: 1px solid var(--jp-border-color0);  color: var(--jp-ui-font-color3);  font-size: 9px;}\n",
       ".datatable .frame tbody td { text-align: left; }\n",
       ".datatable .frame tr.coltypes .row_index {  background: var(--jp-border-color0);}\n",
       ".datatable th:nth-child(2) { padding-left: 12px; }\n",
       ".datatable .hellipsis {  color: var(--jp-cell-editor-border-color);}\n",
       ".datatable .vellipsis {  background: var(--jp-layout-color0);  color: var(--jp-cell-editor-border-color);}\n",
       ".datatable .na {  color: var(--jp-cell-editor-border-color);  font-size: 80%;}\n",
       ".datatable .sp {  opacity: 0.25;}\n",
       ".datatable .footer { font-size: 9px; }\n",
       ".datatable .frame_dimensions {  background: var(--jp-border-color3);  border-top: 1px solid var(--jp-border-color0);  color: var(--jp-ui-font-color3);  display: inline-block;  opacity: 0.6;  padding: 1px 10px 1px 5px;}\n",
       "</style>\n"
      ],
      "text/plain": [
       "<IPython.core.display.HTML object>"
      ]
     },
     "metadata": {},
     "output_type": "display_data"
    }
   ],
   "source": [
    "import warnings \n",
    "warnings.filterwarnings(\"ignore\", module=\"lightgbm\")\n",
    "\n",
    "import lightgbm as lgbm\n",
    "\n",
    "def fit_booster(\n",
    "    X_train,\n",
    "    y_train,\n",
    "    X_test=None,\n",
    "    y_test=None,\n",
    "    params=None,\n",
    "    test_run=False,\n",
    "    categoricals=[],\n",
    "    dropcols=[],\n",
    "    early_stopping=True,\n",
    "):\n",
    "    if params is None:\n",
    "        params = {\"learning_rate\": 0.1, \"subsample_for_bin\": 300000, \"n_estimators\": 50}\n",
    "        \n",
    "    early_stopping_rounds = None\n",
    "    if early_stopping == True:\n",
    "        early_stopping_rounds = 30\n",
    "    \n",
    "    if test_run:\n",
    "        eval_set = [(X_train, y_train)]\n",
    "        \n",
    "    else:\n",
    "        eval_set = [(X_train, y_train), (X_test, y_test)]\n",
    "    \n",
    "    booster = lgbm.LGBMRegressor(**params)\n",
    "    \n",
    "    categoricals = [c for c in categoricals if c in X_train.columns]\n",
    "    \n",
    "    \n",
    "    booster.fit(\n",
    "        X_train,\n",
    "        y_train,\n",
    "        eval_set=eval_set,\n",
    "        eval_metric=[\"rmse\"],\n",
    "        verbose=100,\n",
    "        categorical_feature=categoricals,\n",
    "        early_stopping_rounds=early_stopping_rounds,\n",
    "        )\n",
    "    \n",
    "    return booster"
   ]
  },
  {
   "cell_type": "markdown",
   "id": "48162068",
   "metadata": {
    "papermill": {
     "duration": 0.028929,
     "end_time": "2022-10-10T23:14:59.594220",
     "exception": false,
     "start_time": "2022-10-10T23:14:59.565291",
     "status": "completed"
    },
    "tags": []
   },
   "source": [
    "Split train and validation sets from the feature matrix, month 33 used as validation set"
   ]
  },
  {
   "cell_type": "code",
   "execution_count": 51,
   "id": "871a945e",
   "metadata": {
    "execution": {
     "iopub.execute_input": "2022-10-10T23:14:59.657375Z",
     "iopub.status.busy": "2022-10-10T23:14:59.656683Z",
     "iopub.status.idle": "2022-10-10T23:15:20.207838Z",
     "shell.execute_reply": "2022-10-10T23:15:20.206760Z"
    },
    "papermill": {
     "duration": 20.586866,
     "end_time": "2022-10-10T23:15:20.210659",
     "exception": false,
     "start_time": "2022-10-10T23:14:59.623793",
     "status": "completed"
    },
    "tags": []
   },
   "outputs": [],
   "source": [
    "keep_from_month = 2  # The first couple of months are dropped because of distortions to their features (e.g. wrong item age)\n",
    "test_month = 33\n",
    "dropcols = [\n",
    "    \"shop_id\",\n",
    "    \"item_id\",\n",
    "    \"new_item\",\n",
    "]  # The features are dropped to reduce overfitting\n",
    "\n",
    "valid = matrix.drop(columns=dropcols).loc[matrix.date_block_num == test_month, :]\n",
    "train = matrix.drop(columns=dropcols).loc[matrix.date_block_num < test_month, :]\n",
    "train = train[train.date_block_num >= keep_from_month]\n",
    "X_train = train.drop(columns=\"item_cnt_month\")\n",
    "y_train = train.item_cnt_month\n",
    "X_valid = valid.drop(columns=\"item_cnt_month\")\n",
    "y_valid = valid.item_cnt_month\n",
    "del matrix"
   ]
  },
  {
   "cell_type": "markdown",
   "id": "0bc92a98",
   "metadata": {
    "papermill": {
     "duration": 0.027719,
     "end_time": "2022-10-10T23:15:20.267220",
     "exception": false,
     "start_time": "2022-10-10T23:15:20.239501",
     "status": "completed"
    },
    "tags": []
   },
   "source": [
    "These hyperparameters were found by using the hyperparameter optimization framework Optuna to optimize hyperparameters for the validation set."
   ]
  },
  {
   "cell_type": "code",
   "execution_count": 52,
   "id": "f22a3a52",
   "metadata": {
    "execution": {
     "iopub.execute_input": "2022-10-10T23:15:20.325770Z",
     "iopub.status.busy": "2022-10-10T23:15:20.324879Z",
     "iopub.status.idle": "2022-10-10T23:15:20.330196Z",
     "shell.execute_reply": "2022-10-10T23:15:20.329448Z"
    },
    "papermill": {
     "duration": 0.037043,
     "end_time": "2022-10-10T23:15:20.332370",
     "exception": false,
     "start_time": "2022-10-10T23:15:20.295327",
     "status": "completed"
    },
    "tags": []
   },
   "outputs": [],
   "source": [
    "params = {\n",
    "        \"num_leaves\": 966,\n",
    "        \"num_leaves\": 966,\n",
    "    \"cat_smooth\": 45.01680827234465,\n",
    "    \"min_child_samples\": 27,\n",
    "    \"min_child_weight\": 0.021144950289224463,\n",
    "    \"max_bin\": 214,\n",
    "    \"learning_rate\": 0.01,\n",
    "    \"subsample_for_bin\": 300000,\n",
    "    \"min_data_in_bin\": 7,\n",
    "    \"colsample_bytree\": 0.8,\n",
    "    \"subsample\": 0.6,\n",
    "    \"subsample_freq\": 5,\n",
    "    \"n_estimators\": 8000,\n",
    "        \n",
    "}"
   ]
  },
  {
   "cell_type": "markdown",
   "id": "577cd1ac",
   "metadata": {
    "papermill": {
     "duration": 0.02793,
     "end_time": "2022-10-10T23:15:20.389024",
     "exception": false,
     "start_time": "2022-10-10T23:15:20.361094",
     "status": "completed"
    },
    "tags": []
   },
   "source": [
    "Fitting the booster using early stopping with validation set"
   ]
  },
  {
   "cell_type": "code",
   "execution_count": 53,
   "id": "9210213a",
   "metadata": {
    "execution": {
     "iopub.execute_input": "2022-10-10T23:15:20.448442Z",
     "iopub.status.busy": "2022-10-10T23:15:20.447752Z",
     "iopub.status.idle": "2022-10-10T23:41:59.710646Z",
     "shell.execute_reply": "2022-10-10T23:41:59.709196Z"
    },
    "papermill": {
     "duration": 1599.296192,
     "end_time": "2022-10-10T23:41:59.713504",
     "exception": false,
     "start_time": "2022-10-10T23:15:20.417312",
     "status": "completed"
    },
    "tags": []
   },
   "outputs": [
    {
     "name": "stdout",
     "output_type": "stream",
     "text": [
      "[100]\ttraining's rmse: 0.82953\ttraining's l2: 0.68812\tvalid_1's rmse: 0.782433\tvalid_1's l2: 0.612201\n",
      "[200]\ttraining's rmse: 0.717629\ttraining's l2: 0.514992\tvalid_1's rmse: 0.725132\tvalid_1's l2: 0.525816\n",
      "[300]\ttraining's rmse: 0.67577\ttraining's l2: 0.456665\tvalid_1's rmse: 0.714491\tvalid_1's l2: 0.510498\n",
      "[400]\ttraining's rmse: 0.651478\ttraining's l2: 0.424424\tvalid_1's rmse: 0.710882\tvalid_1's l2: 0.505354\n",
      "[500]\ttraining's rmse: 0.634096\ttraining's l2: 0.402078\tvalid_1's rmse: 0.709792\tvalid_1's l2: 0.503805\n",
      "[600]\ttraining's rmse: 0.620977\ttraining's l2: 0.385613\tvalid_1's rmse: 0.708831\tvalid_1's l2: 0.502442\n",
      "[700]\ttraining's rmse: 0.609989\ttraining's l2: 0.372086\tvalid_1's rmse: 0.708269\tvalid_1's l2: 0.501644\n"
     ]
    }
   ],
   "source": [
    "categoricals = [\n",
    "        \"item_category_id\",\n",
    "        \"month\",\n",
    "] #These will be set as categorical featurs by LightGBM\n",
    "\n",
    "\n",
    "lgbooster = fit_booster(\n",
    "    X_train,\n",
    "    y_train,\n",
    "    X_valid,\n",
    "    y_valid,\n",
    "    params=params,\n",
    "    test_run=False,\n",
    "    categoricals=categoricals,\n",
    "    )"
   ]
  },
  {
   "cell_type": "code",
   "execution_count": 54,
   "id": "bffafbd0",
   "metadata": {
    "execution": {
     "iopub.execute_input": "2022-10-10T23:41:59.774467Z",
     "iopub.status.busy": "2022-10-10T23:41:59.773976Z",
     "iopub.status.idle": "2022-10-10T23:42:01.947062Z",
     "shell.execute_reply": "2022-10-10T23:42:01.946233Z"
    },
    "papermill": {
     "duration": 2.209908,
     "end_time": "2022-10-10T23:42:01.953259",
     "exception": false,
     "start_time": "2022-10-10T23:41:59.743351",
     "status": "completed"
    },
    "tags": []
   },
   "outputs": [
    {
     "data": {
      "image/png": "[encoded data removed]",
      "text/plain": [
       "<Figure size 720x3600 with 1 Axes>"
      ]
     },
     "metadata": {},
     "output_type": "display_data"
    }
   ],
   "source": [
    "_ = lgbm.plot_importance(lgbooster, figsize=(10,50), height=0.7, importance_type=\"gain\", max_num_features=50)"
   ]
  },
  {
   "cell_type": "code",
   "execution_count": 55,
   "id": "f3693d85",
   "metadata": {
    "execution": {
     "iopub.execute_input": "2022-10-10T23:42:02.028536Z",
     "iopub.status.busy": "2022-10-10T23:42:02.027267Z",
     "iopub.status.idle": "2022-10-10T23:42:04.399976Z",
     "shell.execute_reply": "2022-10-10T23:42:04.398777Z"
    },
    "papermill": {
     "duration": 2.414069,
     "end_time": "2022-10-10T23:42:04.403700",
     "exception": false,
     "start_time": "2022-10-10T23:42:01.989631",
     "status": "completed"
    },
    "tags": []
   },
   "outputs": [],
   "source": [
    "import joblib\n",
    "_ = joblib.dump(lgbooster, \"trained_lgbooster.pkl\")"
   ]
  },
  {
   "cell_type": "markdown",
   "id": "60aa3a37",
   "metadata": {
    "papermill": {
     "duration": 0.04286,
     "end_time": "2022-10-10T23:42:04.497008",
     "exception": false,
     "start_time": "2022-10-10T23:42:04.454148",
     "status": "completed"
    },
    "tags": []
   },
   "source": [
    "Creating test submission now, splitting the test items from the data matrix and using the model for prediction."
   ]
  },
  {
   "cell_type": "code",
   "execution_count": 56,
   "id": "1080fe0e",
   "metadata": {
    "execution": {
     "iopub.execute_input": "2022-10-10T23:42:04.572705Z",
     "iopub.status.busy": "2022-10-10T23:42:04.571485Z",
     "iopub.status.idle": "2022-10-10T23:42:32.282919Z",
     "shell.execute_reply": "2022-10-10T23:42:32.275250Z"
    },
    "papermill": {
     "duration": 27.754597,
     "end_time": "2022-10-10T23:42:32.287939",
     "exception": false,
     "start_time": "2022-10-10T23:42:04.533342",
     "status": "completed"
    },
    "tags": []
   },
   "outputs": [],
   "source": [
    "matrix = pd.read_pickle(\"checkpoint_final.pkl\")\n",
    "matrix['item_cnt_month'] = matrix['item_cnt_month'].clip(0,20)\n",
    "keep_from_month = 2\n",
    "test_month = 34\n",
    "test = matrix.loc[matrix.date_block_num==test_month, :]\n",
    "X_test = test.drop(columns=\"item_cnt_month\")\n",
    "y_test = test.item_cnt_month\n",
    "del(matrix)"
   ]
  },
  {
   "cell_type": "code",
   "execution_count": 57,
   "id": "8adb519a",
   "metadata": {
    "execution": {
     "iopub.execute_input": "2022-10-10T23:42:32.385321Z",
     "iopub.status.busy": "2022-10-10T23:42:32.384909Z",
     "iopub.status.idle": "2022-10-10T23:42:48.093596Z",
     "shell.execute_reply": "2022-10-10T23:42:48.092644Z"
    },
    "papermill": {
     "duration": 15.757527,
     "end_time": "2022-10-10T23:42:48.096184",
     "exception": false,
     "start_time": "2022-10-10T23:42:32.338657",
     "status": "completed"
    },
    "tags": []
   },
   "outputs": [],
   "source": [
    "X_test[\"item_cnt_month\"] = lgbooster.predict(X_test.drop(columns=dropcols)).clip(0, 20)\n",
    "# Merge the predictions with the provided template\n",
    "test_orig = pd.read_csv(\"../input/competitive-data-science-predict-future-sales/test.csv\")\n",
    "test = test_orig.merge(\n",
    "    X_test[[\"shop_id\", \"item_id\", \"item_cnt_month\"]],\n",
    "    on=[\"shop_id\", \"item_id\"],\n",
    "    how=\"inner\",\n",
    "    copy=True,\n",
    ")\n",
    "# Verify that the indices of the submission match the original\n",
    "assert test_orig.equals(test[[\"ID\", \"shop_id\", \"item_id\"]])\n",
    "test[[\"ID\", \"item_cnt_month\"]].to_csv(\"submission.csv\", index=False)"
   ]
  },
  {
   "cell_type": "code",
   "execution_count": 58,
   "id": "08f1ce48",
   "metadata": {
    "execution": {
     "iopub.execute_input": "2022-10-10T23:42:48.168768Z",
     "iopub.status.busy": "2022-10-10T23:42:48.168040Z",
     "iopub.status.idle": "2022-10-10T23:42:48.479045Z",
     "shell.execute_reply": "2022-10-10T23:42:48.478129Z"
    },
    "papermill": {
     "duration": 0.350707,
     "end_time": "2022-10-10T23:42:48.482469",
     "exception": false,
     "start_time": "2022-10-10T23:42:48.131762",
     "status": "completed"
    },
    "tags": []
   },
   "outputs": [
    {
     "name": "stdout",
     "output_type": "stream",
     "text": [
      "Finished everything!\n"
     ]
    }
   ],
   "source": [
    "from os import remove\n",
    "remove(\"checkpoint_final.pkl\")\n",
    "remove(\"matrixcheckpoint.pkl\")\n",
    "print(\"Finished everything!\")"
   ]
  },
  {
   "cell_type": "markdown",
   "id": "07605c8c",
   "metadata": {
    "papermill": {
     "duration": 0.035003,
     "end_time": "2022-10-10T23:42:48.553608",
     "exception": false,
     "start_time": "2022-10-10T23:42:48.518605",
     "status": "completed"
    },
    "tags": []
   },
   "source": [
    "Okay, this project took me 2 months to develop, and the idea "
   ]
  }
 ],
 "metadata": {
  "kernelspec": {
   "display_name": "Python 3",
   "language": "python",
   "name": "python3"
  },
  "language_info": {
   "codemirror_mode": {
    "name": "ipython",
    "version": 3
   },
   "file_extension": ".py",
   "mimetype": "text/x-python",
   "name": "python",
   "nbconvert_exporter": "python",
   "pygments_lexer": "ipython3",
   "version": "3.7.12"
  },
  "papermill": {
   "default_parameters": {},
   "duration": 4560.648156,
   "end_time": "2022-10-10T23:42:50.336704",
   "environment_variables": {},
   "exception": null,
   "input_path": "__notebook__.ipynb",
   "output_path": "__notebook__.ipynb",
   "parameters": {},
   "start_time": "2022-10-10T22:26:49.688548",
   "version": "2.3.4"
  }
 },
 "nbformat": 4,
 "nbformat_minor": 5
}
