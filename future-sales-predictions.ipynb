{
 "cells": [
  {
   "cell_type": "markdown",
   "id": "7cc76d2e",
   "metadata": {
    "papermill": {
     "duration": 0.006322,
     "end_time": "2022-10-06T19:42:47.933351",
     "exception": false,
     "start_time": "2022-10-06T19:42:47.927029",
     "status": "completed"
    },
    "tags": []
   },
   "source": [
    "Hello again :D, This is another try in Kaggle, This one however is a bit more advanced than usual after checking out the data sets as well as the predictions needed. "
   ]
  },
  {
   "cell_type": "markdown",
   "id": "79c75f84",
   "metadata": {
    "papermill": {
     "duration": 0.003577,
     "end_time": "2022-10-06T19:42:47.941139",
     "exception": false,
     "start_time": "2022-10-06T19:42:47.937562",
     "status": "completed"
    },
    "tags": []
   },
   "source": [
    "<font size=\"5\">**Data loading and preprocessing, utility function definition**</font>"
   ]
  },
  {
   "cell_type": "code",
   "execution_count": 1,
   "id": "9694d61a",
   "metadata": {
    "execution": {
     "iopub.execute_input": "2022-10-06T19:42:47.952101Z",
     "iopub.status.busy": "2022-10-06T19:42:47.951126Z",
     "iopub.status.idle": "2022-10-06T19:42:49.000276Z",
     "shell.execute_reply": "2022-10-06T19:42:48.999185Z"
    },
    "papermill": {
     "duration": 1.058201,
     "end_time": "2022-10-06T19:42:49.003158",
     "exception": false,
     "start_time": "2022-10-06T19:42:47.944957",
     "status": "completed"
    },
    "tags": []
   },
   "outputs": [],
   "source": [
    "import gc\n",
    "import itertools\n",
    "import matplotlib.pyplot as plt\n",
    "import numpy as np\n",
    "import pandas as pd\n",
    "import seaborn as sns"
   ]
  },
  {
   "cell_type": "code",
   "execution_count": 2,
   "id": "1beae0b5",
   "metadata": {
    "execution": {
     "iopub.execute_input": "2022-10-06T19:42:49.013524Z",
     "iopub.status.busy": "2022-10-06T19:42:49.013115Z",
     "iopub.status.idle": "2022-10-06T19:42:49.029042Z",
     "shell.execute_reply": "2022-10-06T19:42:49.027873Z"
    },
    "papermill": {
     "duration": 0.024147,
     "end_time": "2022-10-06T19:42:49.031616",
     "exception": false,
     "start_time": "2022-10-06T19:42:49.007469",
     "status": "completed"
    },
    "tags": []
   },
   "outputs": [],
   "source": [
    "def reduce_mem_usage(df, silent=True, allow_categorical=True, float_dtype=\"float32\"):\n",
    "    \"\"\" \n",
    "    Iterates through all the columns of a dataframe and downcasts the data type\n",
    "     to reduce memory usage. Can also factorize categorical columns to integer dtype.\n",
    "    \"\"\"\n",
    "    def _downcast_numeric(series, allow_categorical=allow_categorical):\n",
    "        \"\"\"\n",
    "        Downcast a numeric series into either the smallest possible int dtype or a specified float dtype.\n",
    "        \"\"\"\n",
    "        if pd.api.types.is_sparse(series.dtype) is True:\n",
    "            return series\n",
    "        elif pd.api.types.is_numeric_dtype(series.dtype) is False:\n",
    "            if pd.api.types.is_datetime64_any_dtype(series.dtype):\n",
    "                return series\n",
    "            else:\n",
    "                if allow_categorical:\n",
    "                    return series\n",
    "                else:\n",
    "                    codes, uniques = series.factorize()\n",
    "                    series = pd.Series(data=codes, index=series.index)\n",
    "                    series = _downcast_numeric(series)\n",
    "                    return series\n",
    "        else:\n",
    "            series = pd.to_numeric(series, downcast=\"integer\")\n",
    "        if pd.api.types.is_float_dtype(series.dtype):\n",
    "            series = series.astype(float_dtype)\n",
    "        return series\n",
    "\n",
    "    if silent is False:\n",
    "        start_mem = np.sum(df.memory_usage()) / 1024 ** 2\n",
    "        print(\"Memory usage of dataframe is {:.2f} MB\".format(start_mem))\n",
    "    if df.ndim == 1:\n",
    "        df = _downcast_numeric(df)\n",
    "    else:\n",
    "        for col in df.columns:\n",
    "            df.loc[:, col] = _downcast_numeric(df.loc[:,col])\n",
    "    if silent is False:\n",
    "        end_mem = np.sum(df.memory_usage()) / 1024 ** 2\n",
    "        print(\"Memory usage after optimization is: {:.2f} MB\".format(end_mem))\n",
    "        print(\"Decreased by {:.1f}%\".format(100 * (start_mem - end_mem) / start_mem))\n",
    "\n",
    "    return df\n",
    "\n",
    "\n",
    "def shrink_mem_new_cols(matrix, oldcols=None, allow_categorical=False):\n",
    "    # Calls reduce_mem_usage on columns which have not yet been optimized\n",
    "    if oldcols is not None:\n",
    "        newcols = matrix.columns.difference(oldcols)\n",
    "    else:\n",
    "        newcols = matrix.columns\n",
    "    matrix.loc[:,newcols] = reduce_mem_usage(matrix.loc[:,newcols], allow_categorical=allow_categorical)\n",
    "    oldcols = matrix.columns  # This is used to track which columns have already been downcast\n",
    "    return matrix, oldcols\n",
    "\n",
    "\n",
    "def list_if_not(s, dtype=str):\n",
    "    # Puts a variable in a list if it is not already a list\n",
    "    if type(s) not in (dtype, list):\n",
    "        raise TypeError\n",
    "    if (s != \"\") & (type(s) is not list):\n",
    "        s = [s]\n",
    "    return s"
   ]
  },
  {
   "cell_type": "markdown",
   "id": "d3fdebd5",
   "metadata": {
    "papermill": {
     "duration": 0.003599,
     "end_time": "2022-10-06T19:42:49.039212",
     "exception": false,
     "start_time": "2022-10-06T19:42:49.035613",
     "status": "completed"
    },
    "tags": []
   },
   "source": [
    "Importing Data"
   ]
  },
  {
   "cell_type": "code",
   "execution_count": 3,
   "id": "aade04cb",
   "metadata": {
    "execution": {
     "iopub.execute_input": "2022-10-06T19:42:49.048437Z",
     "iopub.status.busy": "2022-10-06T19:42:49.047994Z",
     "iopub.status.idle": "2022-10-06T19:42:52.048017Z",
     "shell.execute_reply": "2022-10-06T19:42:52.046837Z"
    },
    "papermill": {
     "duration": 3.007939,
     "end_time": "2022-10-06T19:42:52.050892",
     "exception": false,
     "start_time": "2022-10-06T19:42:49.042953",
     "status": "completed"
    },
    "tags": []
   },
   "outputs": [],
   "source": [
    "items = pd.read_csv(\"../input/competitive-data-science-predict-future-sales/items.csv\")\n",
    "shops = pd.read_csv(\"../input/competitive-data-science-predict-future-sales/shops.csv\")\n",
    "train = pd.read_csv(\"../input/competitive-data-science-predict-future-sales/sales_train.csv\")\n",
    "test = pd.read_csv(\"../input/competitive-data-science-predict-future-sales/test.csv\")"
   ]
  },
  {
   "cell_type": "markdown",
   "id": "6c44f7bd",
   "metadata": {
    "papermill": {
     "duration": 0.003656,
     "end_time": "2022-10-06T19:42:52.058569",
     "exception": false,
     "start_time": "2022-10-06T19:42:52.054913",
     "status": "completed"
    },
    "tags": []
   },
   "source": [
    "Converting to dtypes "
   ]
  },
  {
   "cell_type": "code",
   "execution_count": 4,
   "id": "9d365d3b",
   "metadata": {
    "execution": {
     "iopub.execute_input": "2022-10-06T19:42:52.068340Z",
     "iopub.status.busy": "2022-10-06T19:42:52.067458Z",
     "iopub.status.idle": "2022-10-06T19:42:52.509259Z",
     "shell.execute_reply": "2022-10-06T19:42:52.508011Z"
    },
    "papermill": {
     "duration": 0.449543,
     "end_time": "2022-10-06T19:42:52.512053",
     "exception": false,
     "start_time": "2022-10-06T19:42:52.062510",
     "status": "completed"
    },
    "tags": []
   },
   "outputs": [],
   "source": [
    "train[\"date\"] = pd.to_datetime(train[\"date\"], format=\"%d.%m.%Y\")"
   ]
  },
  {
   "cell_type": "markdown",
   "id": "4d80ae9d",
   "metadata": {
    "papermill": {
     "duration": 0.003796,
     "end_time": "2022-10-06T19:42:52.519948",
     "exception": false,
     "start_time": "2022-10-06T19:42:52.516152",
     "status": "completed"
    },
    "tags": []
   },
   "source": [
    "<font size = 5 ><b>DATA CLEANING</b> </font>"
   ]
  },
  {
   "cell_type": "code",
   "execution_count": 5,
   "id": "a5004ec6",
   "metadata": {
    "execution": {
     "iopub.execute_input": "2022-10-06T19:42:52.529973Z",
     "iopub.status.busy": "2022-10-06T19:42:52.529543Z",
     "iopub.status.idle": "2022-10-06T19:42:52.957797Z",
     "shell.execute_reply": "2022-10-06T19:42:52.956346Z"
    },
    "papermill": {
     "duration": 0.436725,
     "end_time": "2022-10-06T19:42:52.960785",
     "exception": false,
     "start_time": "2022-10-06T19:42:52.524060",
     "status": "completed"
    },
    "tags": []
   },
   "outputs": [],
   "source": [
    "## Merge some duplicate shops\n",
    "train[\"shop_id\"] = train[\"shop_id\"].replace({0: 57, 1: 58, 11: 10, 40: 39})\n",
    "# Keep only shops that are in the test set\n",
    "train = train.loc[train.shop_id.isin(test[\"shop_id\"].unique()), :]\n",
    "# Drop training items with extreme or negative prices or sales counts\n",
    "train = train[(train[\"item_price\"] > 0) & (train[\"item_price\"] < 50000)]\n",
    "train = train[(train[\"item_cnt_day\"] > 0) & (train[\"item_cnt_day\"] < 1000)]\n"
   ]
  },
  {
   "cell_type": "markdown",
   "id": "425d7900",
   "metadata": {
    "papermill": {
     "duration": 0.004449,
     "end_time": "2022-10-06T19:42:52.970240",
     "exception": false,
     "start_time": "2022-10-06T19:42:52.965791",
     "status": "completed"
    },
    "tags": []
   },
   "source": [
    "The test data is every combination of shops and items that had a sale in the test month,the target as the total month's sales made for each of these shop-item combinations. I created a  training matrix that is made to replicate this structure for every month in the training data period. The test items are concatenated to the end of the training data so that features can be generated for the test period."
   ]
  },
  {
   "cell_type": "code",
   "execution_count": 6,
   "id": "c35ddc85",
   "metadata": {
    "execution": {
     "iopub.execute_input": "2022-10-06T19:42:52.981194Z",
     "iopub.status.busy": "2022-10-06T19:42:52.980758Z",
     "iopub.status.idle": "2022-10-06T19:42:52.992765Z",
     "shell.execute_reply": "2022-10-06T19:42:52.991931Z"
    },
    "papermill": {
     "duration": 0.020013,
     "end_time": "2022-10-06T19:42:52.994818",
     "exception": false,
     "start_time": "2022-10-06T19:42:52.974805",
     "status": "completed"
    },
    "tags": []
   },
   "outputs": [],
   "source": [
    "def create_testlike_train(sales_train, test=None):\n",
    "    indexlist = []\n",
    "    for i in sales_train.date_block_num.unique():\n",
    "        x = itertools.product(\n",
    "            [i],\n",
    "            sales_train.loc[sales_train.date_block_num == i].shop_id.unique(),\n",
    "            sales_train.loc[sales_train.date_block_num == i].item_id.unique(),\n",
    "        )\n",
    "        indexlist.append(np.array(list(x)))\n",
    "    df = pd.DataFrame(\n",
    "        data=np.concatenate(indexlist, axis=0),\n",
    "        columns=[\"date_block_num\", \"shop_id\", \"item_id\"],\n",
    "    )\n",
    "\n",
    "    # Add revenue column to sales_train\n",
    "    sales_train[\"item_revenue_day\"] = sales_train[\"item_price\"] * sales_train[\"item_cnt_day\"]\n",
    "    # Aggregate item_id / shop_id item_cnts and revenue at the month level\n",
    "    sales_train_grouped = sales_train.groupby([\"date_block_num\", \"shop_id\", \"item_id\"]).agg(\n",
    "        item_cnt_month=pd.NamedAgg(column=\"item_cnt_day\", aggfunc=\"sum\"),\n",
    "        item_revenue_month=pd.NamedAgg(column=\"item_revenue_day\", aggfunc=\"sum\"),\n",
    "    )\n",
    "\n",
    "    # Merge the grouped data with the index\n",
    "    df = df.merge(\n",
    "        sales_train_grouped, how=\"left\", on=[\"date_block_num\", \"shop_id\", \"item_id\"],\n",
    "    )\n",
    "\n",
    "    if test is not None:\n",
    "        test[\"date_block_num\"] = 34\n",
    "        test[\"date_block_num\"] = test[\"date_block_num\"].astype(np.int8)\n",
    "        test[\"shop_id\"] = test.shop_id.astype(np.int8)\n",
    "        test[\"item_id\"] = test.item_id.astype(np.int16)\n",
    "        test = test.drop(columns=\"ID\")\n",
    "\n",
    "        df = pd.concat([df, test[[\"date_block_num\", \"shop_id\", \"item_id\"]]])\n",
    "\n",
    "    # Fill empty item_cnt entries with 0\n",
    "    df.item_cnt_month = df.item_cnt_month.fillna(0)\n",
    "    df.item_revenue_month = df.item_revenue_month.fillna(0)\n",
    "\n",
    "    return df"
   ]
  },
  {
   "cell_type": "code",
   "execution_count": 7,
   "id": "7a543e2b",
   "metadata": {
    "execution": {
     "iopub.execute_input": "2022-10-06T19:42:53.004778Z",
     "iopub.status.busy": "2022-10-06T19:42:53.004094Z",
     "iopub.status.idle": "2022-10-06T19:43:05.021129Z",
     "shell.execute_reply": "2022-10-06T19:43:05.019879Z"
    },
    "papermill": {
     "duration": 12.025035,
     "end_time": "2022-10-06T19:43:05.023970",
     "exception": false,
     "start_time": "2022-10-06T19:42:52.998935",
     "status": "completed"
    },
    "tags": []
   },
   "outputs": [],
   "source": [
    "matrix = create_testlike_train(train, test)\n",
    "del(test)"
   ]
  },
  {
   "cell_type": "markdown",
   "id": "916aa996",
   "metadata": {
    "papermill": {
     "duration": 0.003668,
     "end_time": "2022-10-06T19:43:05.031701",
     "exception": false,
     "start_time": "2022-10-06T19:43:05.028033",
     "status": "completed"
    },
    "tags": []
   },
   "source": [
    "We need to reduce memory usage through the function previously created, preventing memory overflows & leaks through errors in the kaggle notebook"
   ]
  },
  {
   "cell_type": "code",
   "execution_count": 8,
   "id": "63ab6c46",
   "metadata": {
    "execution": {
     "iopub.execute_input": "2022-10-06T19:43:05.041347Z",
     "iopub.status.busy": "2022-10-06T19:43:05.040894Z",
     "iopub.status.idle": "2022-10-06T19:43:06.532878Z",
     "shell.execute_reply": "2022-10-06T19:43:06.531308Z"
    },
    "papermill": {
     "duration": 1.500728,
     "end_time": "2022-10-06T19:43:06.536338",
     "exception": false,
     "start_time": "2022-10-06T19:43:05.035610",
     "status": "completed"
    },
    "tags": []
   },
   "outputs": [
    {
     "name": "stdout",
     "output_type": "stream",
     "text": [
      "Memory usage of dataframe is 405.44 MB\n",
      "Memory usage after optimization is: 152.04 MB\n",
      "Decreased by 62.5%\n"
     ]
    }
   ],
   "source": [
    "matrix = reduce_mem_usage(matrix, silent=False)\n",
    "oldcols = matrix.columns"
   ]
  }
 ],
 "metadata": {
  "kernelspec": {
   "display_name": "Python 3",
   "language": "python",
   "name": "python3"
  },
  "language_info": {
   "codemirror_mode": {
    "name": "ipython",
    "version": 3
   },
   "file_extension": ".py",
   "mimetype": "text/x-python",
   "name": "python",
   "nbconvert_exporter": "python",
   "pygments_lexer": "ipython3",
   "version": "3.7.12"
  },
  "papermill": {
   "default_parameters": {},
   "duration": 28.661512,
   "end_time": "2022-10-06T19:43:07.263577",
   "environment_variables": {},
   "exception": null,
   "input_path": "__notebook__.ipynb",
   "output_path": "__notebook__.ipynb",
   "parameters": {},
   "start_time": "2022-10-06T19:42:38.602065",
   "version": "2.3.4"
  }
 },
 "nbformat": 4,
 "nbformat_minor": 5
}
