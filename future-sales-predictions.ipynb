{
 "cells": [
  {
   "cell_type": "markdown",
   "id": "079f2d62",
   "metadata": {
    "papermill": {
     "duration": 0.010471,
     "end_time": "2022-10-08T20:41:30.241558",
     "exception": false,
     "start_time": "2022-10-08T20:41:30.231087",
     "status": "completed"
    },
    "tags": []
   },
   "source": [
    "Hello again :D, This is another try in Kaggle, This one however is a bit more advanced than usual after checking out the data sets as well as the predictions needed. "
   ]
  },
  {
   "cell_type": "markdown",
   "id": "c7d12f71",
   "metadata": {
    "papermill": {
     "duration": 0.008696,
     "end_time": "2022-10-08T20:41:30.259436",
     "exception": false,
     "start_time": "2022-10-08T20:41:30.250740",
     "status": "completed"
    },
    "tags": []
   },
   "source": [
    "<font size=\"5\">**Data loading and preprocessing, utility function definition**</font>"
   ]
  },
  {
   "cell_type": "code",
   "execution_count": 1,
   "id": "79321694",
   "metadata": {
    "execution": {
     "iopub.execute_input": "2022-10-08T20:41:30.279828Z",
     "iopub.status.busy": "2022-10-08T20:41:30.279035Z",
     "iopub.status.idle": "2022-10-08T20:41:31.485591Z",
     "shell.execute_reply": "2022-10-08T20:41:31.484268Z"
    },
    "papermill": {
     "duration": 1.220282,
     "end_time": "2022-10-08T20:41:31.488684",
     "exception": false,
     "start_time": "2022-10-08T20:41:30.268402",
     "status": "completed"
    },
    "tags": []
   },
   "outputs": [],
   "source": [
    "import gc\n",
    "import itertools\n",
    "import matplotlib.pyplot as plt\n",
    "import numpy as np\n",
    "import pandas as pd\n",
    "import seaborn as sns"
   ]
  },
  {
   "cell_type": "code",
   "execution_count": 2,
   "id": "487354ef",
   "metadata": {
    "execution": {
     "iopub.execute_input": "2022-10-08T20:41:31.508967Z",
     "iopub.status.busy": "2022-10-08T20:41:31.508554Z",
     "iopub.status.idle": "2022-10-08T20:41:31.526061Z",
     "shell.execute_reply": "2022-10-08T20:41:31.524288Z"
    },
    "papermill": {
     "duration": 0.031866,
     "end_time": "2022-10-08T20:41:31.529703",
     "exception": false,
     "start_time": "2022-10-08T20:41:31.497837",
     "status": "completed"
    },
    "tags": []
   },
   "outputs": [],
   "source": [
    "def reduce_mem_usage(df, silent=True, allow_categorical=True, float_dtype=\"float32\"):\n",
    "    \"\"\" \n",
    "    Iterates through all the columns of a dataframe and downcasts the data type\n",
    "     to reduce memory usage. Can also factorize categorical columns to integer dtype.\n",
    "    \"\"\"\n",
    "    def _downcast_numeric(series, allow_categorical=allow_categorical):\n",
    "        \"\"\"\n",
    "        Downcast a numeric series into either the smallest possible int dtype or a specified float dtype.\n",
    "        \"\"\"\n",
    "        if pd.api.types.is_sparse(series.dtype) is True:\n",
    "            return series\n",
    "        elif pd.api.types.is_numeric_dtype(series.dtype) is False:\n",
    "            if pd.api.types.is_datetime64_any_dtype(series.dtype):\n",
    "                return series\n",
    "            else:\n",
    "                if allow_categorical:\n",
    "                    return series\n",
    "                else:\n",
    "                    codes, uniques = series.factorize()\n",
    "                    series = pd.Series(data=codes, index=series.index)\n",
    "                    series = _downcast_numeric(series)\n",
    "                    return series\n",
    "        else:\n",
    "            series = pd.to_numeric(series, downcast=\"integer\")\n",
    "        if pd.api.types.is_float_dtype(series.dtype):\n",
    "            series = series.astype(float_dtype)\n",
    "        return series\n",
    "\n",
    "    if silent is False:\n",
    "        start_mem = np.sum(df.memory_usage()) / 1024 ** 2\n",
    "        print(\"Memory usage of dataframe is {:.2f} MB\".format(start_mem))\n",
    "    if df.ndim == 1:\n",
    "        df = _downcast_numeric(df)\n",
    "    else:\n",
    "        for col in df.columns:\n",
    "            df.loc[:, col] = _downcast_numeric(df.loc[:,col])\n",
    "    if silent is False:\n",
    "        end_mem = np.sum(df.memory_usage()) / 1024 ** 2\n",
    "        print(\"Memory usage after optimization is: {:.2f} MB\".format(end_mem))\n",
    "        print(\"Decreased by {:.1f}%\".format(100 * (start_mem - end_mem) / start_mem))\n",
    "\n",
    "    return df\n",
    "\n",
    "\n",
    "def shrink_mem_new_cols(matrix, oldcols=None, allow_categorical=False):\n",
    "    # Calls reduce_mem_usage on columns which have not yet been optimized\n",
    "    if oldcols is not None:\n",
    "        newcols = matrix.columns.difference(oldcols)\n",
    "    else:\n",
    "        newcols = matrix.columns\n",
    "    matrix.loc[:,newcols] = reduce_mem_usage(matrix.loc[:,newcols], allow_categorical=allow_categorical)\n",
    "    oldcols = matrix.columns  # This is used to track which columns have already been downcast\n",
    "    return matrix, oldcols\n",
    "\n",
    "\n",
    "def list_if_not(s, dtype=str):\n",
    "    # Puts a variable in a list if it is not already a list\n",
    "    if type(s) not in (dtype, list):\n",
    "        raise TypeError\n",
    "    if (s != \"\") & (type(s) is not list):\n",
    "        s = [s]\n",
    "    return s"
   ]
  },
  {
   "cell_type": "markdown",
   "id": "1c7f6be4",
   "metadata": {
    "papermill": {
     "duration": 0.008774,
     "end_time": "2022-10-08T20:41:31.547665",
     "exception": false,
     "start_time": "2022-10-08T20:41:31.538891",
     "status": "completed"
    },
    "tags": []
   },
   "source": [
    "Importing Data"
   ]
  },
  {
   "cell_type": "code",
   "execution_count": 3,
   "id": "a226595e",
   "metadata": {
    "execution": {
     "iopub.execute_input": "2022-10-08T20:41:31.570067Z",
     "iopub.status.busy": "2022-10-08T20:41:31.569182Z",
     "iopub.status.idle": "2022-10-08T20:41:34.434583Z",
     "shell.execute_reply": "2022-10-08T20:41:34.433177Z"
    },
    "papermill": {
     "duration": 2.879048,
     "end_time": "2022-10-08T20:41:34.437327",
     "exception": false,
     "start_time": "2022-10-08T20:41:31.558279",
     "status": "completed"
    },
    "tags": []
   },
   "outputs": [],
   "source": [
    "items = pd.read_csv(\"../input/competitive-data-science-predict-future-sales/items.csv\")\n",
    "shops = pd.read_csv(\"../input/competitive-data-science-predict-future-sales/shops.csv\")\n",
    "train = pd.read_csv(\"../input/competitive-data-science-predict-future-sales/sales_train.csv\")\n",
    "test = pd.read_csv(\"../input/competitive-data-science-predict-future-sales/test.csv\")"
   ]
  },
  {
   "cell_type": "markdown",
   "id": "6f6ae245",
   "metadata": {
    "papermill": {
     "duration": 0.008748,
     "end_time": "2022-10-08T20:41:34.455394",
     "exception": false,
     "start_time": "2022-10-08T20:41:34.446646",
     "status": "completed"
    },
    "tags": []
   },
   "source": [
    "Converting to dtypes "
   ]
  },
  {
   "cell_type": "code",
   "execution_count": 4,
   "id": "8db86db2",
   "metadata": {
    "execution": {
     "iopub.execute_input": "2022-10-08T20:41:34.479734Z",
     "iopub.status.busy": "2022-10-08T20:41:34.479248Z",
     "iopub.status.idle": "2022-10-08T20:41:34.971199Z",
     "shell.execute_reply": "2022-10-08T20:41:34.970338Z"
    },
    "papermill": {
     "duration": 0.506778,
     "end_time": "2022-10-08T20:41:34.974041",
     "exception": false,
     "start_time": "2022-10-08T20:41:34.467263",
     "status": "completed"
    },
    "tags": []
   },
   "outputs": [],
   "source": [
    "train[\"date\"] = pd.to_datetime(train[\"date\"], format=\"%d.%m.%Y\")"
   ]
  },
  {
   "cell_type": "markdown",
   "id": "5daba034",
   "metadata": {
    "papermill": {
     "duration": 0.01007,
     "end_time": "2022-10-08T20:41:34.994879",
     "exception": false,
     "start_time": "2022-10-08T20:41:34.984809",
     "status": "completed"
    },
    "tags": []
   },
   "source": [
    "<font size = 5 ><b>DATA CLEANING</b> </font>"
   ]
  },
  {
   "cell_type": "code",
   "execution_count": 5,
   "id": "2a8c530e",
   "metadata": {
    "execution": {
     "iopub.execute_input": "2022-10-08T20:41:35.014839Z",
     "iopub.status.busy": "2022-10-08T20:41:35.014428Z",
     "iopub.status.idle": "2022-10-08T20:41:35.450704Z",
     "shell.execute_reply": "2022-10-08T20:41:35.449451Z"
    },
    "papermill": {
     "duration": 0.449424,
     "end_time": "2022-10-08T20:41:35.453452",
     "exception": false,
     "start_time": "2022-10-08T20:41:35.004028",
     "status": "completed"
    },
    "tags": []
   },
   "outputs": [],
   "source": [
    "## Merge some duplicate shops\n",
    "train[\"shop_id\"] = train[\"shop_id\"].replace({0: 57, 1: 58, 11: 10, 40: 39})\n",
    "# Keep only shops that are in the test set\n",
    "train = train.loc[train.shop_id.isin(test[\"shop_id\"].unique()), :]\n",
    "# Drop training items with extreme or negative prices or sales counts\n",
    "train = train[(train[\"item_price\"] > 0) & (train[\"item_price\"] < 50000)]\n",
    "train = train[(train[\"item_cnt_day\"] > 0) & (train[\"item_cnt_day\"] < 1000)]\n"
   ]
  },
  {
   "cell_type": "markdown",
   "id": "f6b24ae2",
   "metadata": {
    "papermill": {
     "duration": 0.009689,
     "end_time": "2022-10-08T20:41:35.473045",
     "exception": false,
     "start_time": "2022-10-08T20:41:35.463356",
     "status": "completed"
    },
    "tags": []
   },
   "source": [
    "The test data is every combination of shops and items that had a sale in the test month,the target as the total month's sales made for each of these shop-item combinations. I created a  training matrix that is made to replicate this structure for every month in the training data period. The test items are concatenated to the end of the training data so that features can be generated for the test period."
   ]
  },
  {
   "cell_type": "code",
   "execution_count": 6,
   "id": "80be9c3c",
   "metadata": {
    "execution": {
     "iopub.execute_input": "2022-10-08T20:41:35.492929Z",
     "iopub.status.busy": "2022-10-08T20:41:35.492523Z",
     "iopub.status.idle": "2022-10-08T20:41:35.504969Z",
     "shell.execute_reply": "2022-10-08T20:41:35.503632Z"
    },
    "papermill": {
     "duration": 0.026154,
     "end_time": "2022-10-08T20:41:35.508233",
     "exception": false,
     "start_time": "2022-10-08T20:41:35.482079",
     "status": "completed"
    },
    "tags": []
   },
   "outputs": [],
   "source": [
    "def create_testlike_train(sales_train, test=None):\n",
    "    indexlist = []\n",
    "    for i in sales_train.date_block_num.unique():\n",
    "        x = itertools.product(\n",
    "            [i],\n",
    "            sales_train.loc[sales_train.date_block_num == i].shop_id.unique(),\n",
    "            sales_train.loc[sales_train.date_block_num == i].item_id.unique(),\n",
    "        )\n",
    "        indexlist.append(np.array(list(x)))\n",
    "    df = pd.DataFrame(\n",
    "        data=np.concatenate(indexlist, axis=0),\n",
    "        columns=[\"date_block_num\", \"shop_id\", \"item_id\"],\n",
    "    )\n",
    "\n",
    "    # Add revenue column to sales_train\n",
    "    sales_train[\"item_revenue_day\"] = sales_train[\"item_price\"] * sales_train[\"item_cnt_day\"]\n",
    "    # Aggregate item_id / shop_id item_cnts and revenue at the month level\n",
    "    sales_train_grouped = sales_train.groupby([\"date_block_num\", \"shop_id\", \"item_id\"]).agg(\n",
    "        item_cnt_month=pd.NamedAgg(column=\"item_cnt_day\", aggfunc=\"sum\"),\n",
    "        item_revenue_month=pd.NamedAgg(column=\"item_revenue_day\", aggfunc=\"sum\"),\n",
    "    )\n",
    "\n",
    "    # Merge the grouped data with the index\n",
    "    df = df.merge(\n",
    "        sales_train_grouped, how=\"left\", on=[\"date_block_num\", \"shop_id\", \"item_id\"],\n",
    "    )\n",
    "\n",
    "    if test is not None:\n",
    "        test[\"date_block_num\"] = 34\n",
    "        test[\"date_block_num\"] = test[\"date_block_num\"].astype(np.int8)\n",
    "        test[\"shop_id\"] = test.shop_id.astype(np.int8)\n",
    "        test[\"item_id\"] = test.item_id.astype(np.int16)\n",
    "        test = test.drop(columns=\"ID\")\n",
    "\n",
    "        df = pd.concat([df, test[[\"date_block_num\", \"shop_id\", \"item_id\"]]])\n",
    "\n",
    "    # Fill empty item_cnt entries with 0\n",
    "    df.item_cnt_month = df.item_cnt_month.fillna(0)\n",
    "    df.item_revenue_month = df.item_revenue_month.fillna(0)\n",
    "\n",
    "    return df"
   ]
  },
  {
   "cell_type": "code",
   "execution_count": 7,
   "id": "4f35ee0a",
   "metadata": {
    "execution": {
     "iopub.execute_input": "2022-10-08T20:41:35.528351Z",
     "iopub.status.busy": "2022-10-08T20:41:35.527909Z",
     "iopub.status.idle": "2022-10-08T20:41:47.801674Z",
     "shell.execute_reply": "2022-10-08T20:41:47.800424Z"
    },
    "papermill": {
     "duration": 12.287095,
     "end_time": "2022-10-08T20:41:47.804588",
     "exception": false,
     "start_time": "2022-10-08T20:41:35.517493",
     "status": "completed"
    },
    "tags": []
   },
   "outputs": [],
   "source": [
    "matrix = create_testlike_train(train, test)\n",
    "del(test)"
   ]
  },
  {
   "cell_type": "markdown",
   "id": "5f1b72c5",
   "metadata": {
    "papermill": {
     "duration": 0.010389,
     "end_time": "2022-10-08T20:41:47.825310",
     "exception": false,
     "start_time": "2022-10-08T20:41:47.814921",
     "status": "completed"
    },
    "tags": []
   },
   "source": [
    "We need to reduce memory usage through the function previously created, preventing memory overflows & leaks through errors in the kaggle notebook"
   ]
  },
  {
   "cell_type": "code",
   "execution_count": 8,
   "id": "f37edc5c",
   "metadata": {
    "execution": {
     "iopub.execute_input": "2022-10-08T20:41:47.847373Z",
     "iopub.status.busy": "2022-10-08T20:41:47.846915Z",
     "iopub.status.idle": "2022-10-08T20:41:49.348180Z",
     "shell.execute_reply": "2022-10-08T20:41:49.347166Z"
    },
    "papermill": {
     "duration": 1.515619,
     "end_time": "2022-10-08T20:41:49.351072",
     "exception": false,
     "start_time": "2022-10-08T20:41:47.835453",
     "status": "completed"
    },
    "tags": []
   },
   "outputs": [
    {
     "name": "stdout",
     "output_type": "stream",
     "text": [
      "Memory usage of dataframe is 405.44 MB\n",
      "Memory usage after optimization is: 152.04 MB\n",
      "Decreased by 62.5%\n"
     ]
    }
   ],
   "source": [
    "matrix = reduce_mem_usage(matrix, silent=False)\n",
    "oldcols = matrix.columns"
   ]
  },
  {
   "cell_type": "code",
   "execution_count": 9,
   "id": "cbb57201",
   "metadata": {
    "execution": {
     "iopub.execute_input": "2022-10-08T20:41:49.374624Z",
     "iopub.status.busy": "2022-10-08T20:41:49.374102Z",
     "iopub.status.idle": "2022-10-08T20:41:49.400590Z",
     "shell.execute_reply": "2022-10-08T20:41:49.399102Z"
    },
    "papermill": {
     "duration": 0.042196,
     "end_time": "2022-10-08T20:41:49.403704",
     "exception": false,
     "start_time": "2022-10-08T20:41:49.361508",
     "status": "completed"
    },
    "tags": []
   },
   "outputs": [
    {
     "data": {
      "text/html": [
       "<div>\n",
       "<style scoped>\n",
       "    .dataframe tbody tr th:only-of-type {\n",
       "        vertical-align: middle;\n",
       "    }\n",
       "\n",
       "    .dataframe tbody tr th {\n",
       "        vertical-align: top;\n",
       "    }\n",
       "\n",
       "    .dataframe thead th {\n",
       "        text-align: right;\n",
       "    }\n",
       "</style>\n",
       "<table border=\"1\" class=\"dataframe\">\n",
       "  <thead>\n",
       "    <tr style=\"text-align: right;\">\n",
       "      <th></th>\n",
       "      <th>item_name</th>\n",
       "      <th>item_id</th>\n",
       "      <th>item_category_id</th>\n",
       "    </tr>\n",
       "  </thead>\n",
       "  <tbody>\n",
       "    <tr>\n",
       "      <th>3565</th>\n",
       "      <td>Fuse [PS3, английская версия]</td>\n",
       "      <td>3565</td>\n",
       "      <td>19</td>\n",
       "    </tr>\n",
       "    <tr>\n",
       "      <th>3566</th>\n",
       "      <td>Fuse [Xbox 360, английская версия]</td>\n",
       "      <td>3566</td>\n",
       "      <td>23</td>\n",
       "    </tr>\n",
       "    <tr>\n",
       "      <th>3567</th>\n",
       "      <td>G Data Internet Security 2013 (1ПК / 1 год) (G...</td>\n",
       "      <td>3567</td>\n",
       "      <td>76</td>\n",
       "    </tr>\n",
       "    <tr>\n",
       "      <th>3568</th>\n",
       "      <td>G Data Internet Security 2013 (3ПК / 1 год) (G...</td>\n",
       "      <td>3568</td>\n",
       "      <td>76</td>\n",
       "    </tr>\n",
       "    <tr>\n",
       "      <th>3569</th>\n",
       "      <td>GABIN  The Best Of Gabin  2CD</td>\n",
       "      <td>3569</td>\n",
       "      <td>55</td>\n",
       "    </tr>\n",
       "  </tbody>\n",
       "</table>\n",
       "</div>"
      ],
      "text/plain": [
       "                                              item_name  item_id  \\\n",
       "3565                      Fuse [PS3, английская версия]     3565   \n",
       "3566                 Fuse [Xbox 360, английская версия]     3566   \n",
       "3567  G Data Internet Security 2013 (1ПК / 1 год) (G...     3567   \n",
       "3568  G Data Internet Security 2013 (3ПК / 1 год) (G...     3568   \n",
       "3569                      GABIN  The Best Of Gabin  2CD     3569   \n",
       "\n",
       "      item_category_id  \n",
       "3565                19  \n",
       "3566                23  \n",
       "3567                76  \n",
       "3568                76  \n",
       "3569                55  "
      ]
     },
     "execution_count": 9,
     "metadata": {},
     "output_type": "execute_result"
    }
   ],
   "source": [
    "items.query(\"item_id>3564\").head(5)"
   ]
  },
  {
   "cell_type": "markdown",
   "id": "661c7f8e",
   "metadata": {
    "papermill": {
     "duration": 0.009581,
     "end_time": "2022-10-08T20:41:49.423075",
     "exception": false,
     "start_time": "2022-10-08T20:41:49.413494",
     "status": "completed"
    },
    "tags": []
   },
   "source": [
    "I noticed that items in the table are ordered alphabetically according to the item_name field, So similar items are listed together. We can use this ordering to group together related items "
   ]
  },
  {
   "cell_type": "markdown",
   "id": "00cd2c3f",
   "metadata": {
    "papermill": {
     "duration": 0.009372,
     "end_time": "2022-10-08T20:41:49.442195",
     "exception": false,
     "start_time": "2022-10-08T20:41:49.432823",
     "status": "completed"
    },
    "tags": []
   },
   "source": [
    "We can run measure similarities between items and group them together, using a py package called fuzzywuzzy, and asign items to a group if their match value are above a certain threshold."
   ]
  },
  {
   "cell_type": "code",
   "execution_count": 10,
   "id": "337c2aaf",
   "metadata": {
    "execution": {
     "iopub.execute_input": "2022-10-08T20:41:49.463313Z",
     "iopub.status.busy": "2022-10-08T20:41:49.462896Z",
     "iopub.status.idle": "2022-10-08T20:41:59.337279Z",
     "shell.execute_reply": "2022-10-08T20:41:59.336068Z"
    },
    "papermill": {
     "duration": 9.888145,
     "end_time": "2022-10-08T20:41:59.340078",
     "exception": false,
     "start_time": "2022-10-08T20:41:49.451933",
     "status": "completed"
    },
    "tags": []
   },
   "outputs": [],
   "source": [
    "import re\n",
    "\n",
    "from fuzzywuzzy import fuzz\n",
    "\n",
    "\n",
    "def add_item_name_groups(matrix, train, items, sim_thresh, feature_name=\"item_name_group\"):\n",
    "    def partialmatchgroups(items, sim_thresh=sim_thresh):\n",
    "        def strip_brackets(string):\n",
    "            string = re.sub(r\"\\(.*?\\)\", \"\", string)\n",
    "            string = re.sub(r\"\\[.*?\\]\", \"\", string)\n",
    "            return string\n",
    "\n",
    "        items = items.copy()\n",
    "        items[\"nc\"] = items.item_name.apply(strip_brackets)\n",
    "        items[\"ncnext\"] = np.concatenate((items[\"nc\"].to_numpy()[1:], np.array([\"\"])))\n",
    "\n",
    "        def partialcompare(s):\n",
    "            return fuzz.partial_ratio(s[\"nc\"], s[\"ncnext\"])\n",
    "\n",
    "        items[\"partialmatch\"] = items.apply(partialcompare, axis=1)\n",
    "        # Assign groups\n",
    "        grp = 0\n",
    "        for i in range(items.shape[0]):\n",
    "            items.loc[i, \"partialmatchgroup\"] = grp\n",
    "            if items.loc[i, \"partialmatch\"] < sim_thresh:\n",
    "                grp += 1\n",
    "        items = items.drop(columns=[\"nc\", \"ncnext\", \"partialmatch\"])\n",
    "        return items\n",
    "\n",
    "    items = partialmatchgroups(items)\n",
    "    items = items.rename(columns={\"partialmatchgroup\": feature_name})\n",
    "    items = items.drop(columns=\"partialmatchgroup\", errors=\"ignore\")\n",
    "\n",
    "    items[feature_name] = items[feature_name].apply(str)\n",
    "    items[feature_name] = items[feature_name].factorize()[0]\n",
    "    matrix = matrix.merge(items[[\"item_id\", feature_name]], on=\"item_id\", how=\"left\")\n",
    "    train = train.merge(items[[\"item_id\", feature_name]], on=\"item_id\", how=\"left\")\n",
    "    return matrix, train\n",
    "\n",
    "\n",
    "matrix, train = add_item_name_groups(matrix, train, items, 65)\n"
   ]
  },
  {
   "cell_type": "markdown",
   "id": "884c72da",
   "metadata": {
    "papermill": {
     "duration": 0.009421,
     "end_time": "2022-10-08T20:41:59.359180",
     "exception": false,
     "start_time": "2022-10-08T20:41:59.349759",
     "status": "completed"
    },
    "tags": []
   },
   "source": [
    "There are certain music items that would be quite difficult to use the last function on, you know, to put into similar groups. The idea is to assign music items into groups according to the artist.\n",
    "3 common patterns exist to indicate the artist's name which are:\n",
    "-His name is all in uppercase,seperated by dot & a space.\n",
    "For non-musical stuff, the items will be grouped up according to the first word."
   ]
  },
  {
   "cell_type": "code",
   "execution_count": 11,
   "id": "df85ee46",
   "metadata": {
    "execution": {
     "iopub.execute_input": "2022-10-08T20:41:59.381374Z",
     "iopub.status.busy": "2022-10-08T20:41:59.380836Z",
     "iopub.status.idle": "2022-10-08T20:42:02.644342Z",
     "shell.execute_reply": "2022-10-08T20:42:02.643139Z"
    },
    "papermill": {
     "duration": 3.27792,
     "end_time": "2022-10-08T20:42:02.647101",
     "exception": false,
     "start_time": "2022-10-08T20:41:59.369181",
     "status": "completed"
    },
    "tags": []
   },
   "outputs": [],
   "source": [
    "from nltk.corpus import stopwords\n",
    "\n",
    "\n",
    "def add_first_word_features(matrix, items=items, feature_name=\"artist_name_or_first_word\"):\n",
    "    # This extracts artist names for music categories and adds them as a feature.\n",
    "    def extract_artist(st):\n",
    "        st = st.strip()\n",
    "        if st.startswith(\"V/A\"):\n",
    "            artist = \"V/A\"\n",
    "        elif st.startswith(\"СБ\"):\n",
    "            artist = \"СБ\"\n",
    "        else:\n",
    "            # Retrieves artist names using the double space or all uppercase pattern\n",
    "            mus_artist_dubspace = re.compile(r\".{2,}?(?=\\s{2,})\")\n",
    "            match_dubspace = mus_artist_dubspace.match(st)\n",
    "            mus_artist_capsonly = re.compile(r\"^([^a-zа-я]+\\s)+\")\n",
    "            match_capsonly = mus_artist_capsonly.match(st)\n",
    "            candidates = [match_dubspace, match_capsonly]\n",
    "            candidates = [m[0] for m in candidates if m is not None]\n",
    "            # Sometimes one of the patterns catches some extra words so choose the shortest one\n",
    "            if len(candidates):\n",
    "                artist = min(candidates, key=len)\n",
    "            else:\n",
    "                # If neither of the previous patterns found something, use the dot-space pattern\n",
    "                mus_artist_dotspace = re.compile(r\".{2,}?(?=\\.\\s)\")\n",
    "                match = mus_artist_dotspace.match(st)\n",
    "                if match:\n",
    "                    artist = match[0]\n",
    "                else:\n",
    "                    artist = \"\"\n",
    "        artist = artist.upper()\n",
    "        artist = re.sub(r\"[^A-ZА-Я ]||\\bTHE\\b\", \"\", artist)\n",
    "        artist = re.sub(r\"\\s{2,}\", \" \", artist)\n",
    "        artist = artist.strip()\n",
    "        return artist\n",
    "\n",
    "    items = items.copy()\n",
    "    all_stopwords = stopwords.words(\"russian\")\n",
    "    all_stopwords = all_stopwords + stopwords.words(\"english\")\n",
    "\n",
    "    def first_word(string):\n",
    "        # This cleans the string of special characters, excess spaces and stopwords then extracts the first word\n",
    "        string = re.sub(r\"[^\\w\\s]\", \"\", string)\n",
    "        string = re.sub(r\"\\s{2,}\", \" \", string)\n",
    "        tokens = string.lower().split()\n",
    "        tokens = [t for t in tokens if t not in all_stopwords]\n",
    "        token = tokens[0] if len(tokens) > 0 else \"\"\n",
    "        return token\n",
    "\n",
    "    music_categories = [55, 56, 57, 58, 59, 60]\n",
    "    items.loc[items.item_category_id.isin(music_categories), feature_name] = items.loc[\n",
    "        items.item_category_id.isin(music_categories), \"item_name\"\n",
    "    ].apply(extract_artist)\n",
    "    items.loc[items[feature_name] == \"\", feature_name] = \"other music\"\n",
    "    items.loc[~items.item_category_id.isin(music_categories), feature_name] = items.loc[\n",
    "        ~items.item_category_id.isin(music_categories), \"item_name\"\n",
    "    ].apply(first_word)\n",
    "    items.loc[items[feature_name] == \"\", feature_name] = \"other non-music\"\n",
    "    items[feature_name] = items[feature_name].factorize()[0]\n",
    "    matrix = matrix.merge(items[[\"item_id\", feature_name]], on=\"item_id\", how=\"left\",)\n",
    "    return matrix\n",
    "\n",
    "\n",
    "matrix = add_first_word_features(\n",
    "    matrix, items=items, feature_name=\"artist_name_or_first_word\"\n",
    ")"
   ]
  },
  {
   "cell_type": "markdown",
   "id": "8c31daba",
   "metadata": {
    "papermill": {
     "duration": 0.009206,
     "end_time": "2022-10-08T20:42:02.665823",
     "exception": false,
     "start_time": "2022-10-08T20:42:02.656617",
     "status": "completed"
    },
    "tags": []
   },
   "source": [
    "Similarities also exists in the item_name field, the most notable one is their length mostly because similar items tend to have the same length.\n",
    "We're gonna use that as a feature."
   ]
  },
  {
   "cell_type": "code",
   "execution_count": 12,
   "id": "11c54081",
   "metadata": {
    "execution": {
     "iopub.execute_input": "2022-10-08T20:42:02.686564Z",
     "iopub.status.busy": "2022-10-08T20:42:02.686135Z",
     "iopub.status.idle": "2022-10-08T20:42:04.406169Z",
     "shell.execute_reply": "2022-10-08T20:42:04.404961Z"
    },
    "papermill": {
     "duration": 1.733718,
     "end_time": "2022-10-08T20:42:04.409010",
     "exception": false,
     "start_time": "2022-10-08T20:42:02.675292",
     "status": "completed"
    },
    "tags": []
   },
   "outputs": [],
   "source": [
    "import re\n",
    "def clean_item_name(string):\n",
    "    # Removes bracketed terms, special characters and extra whitespace\n",
    "    string = re.sub(r\"\\[.*?\\]\", \"\", string)\n",
    "    string = re.sub(r\"\\(.*?\\)\", \"\", string)\n",
    "    string = re.sub(r\"[^A-ZА-Яa-zа-я0-9 ]\", \"\", string)\n",
    "    string = re.sub(r\"\\s{2,}\", \" \", string)\n",
    "    string = string.lower()\n",
    "    return string\n",
    "\n",
    "items[\"item_name_cleaned_length\"] = items[\"item_name\"].apply(clean_item_name).apply(len)\n",
    "items[\"item_name_length\"] = items[\"item_name\"].apply(len)\n",
    "matrix = matrix.merge(items[['item_id', 'item_name_length', 'item_name_cleaned_length']], how='left', on='item_id')\n",
    "items = items.drop(columns=['item_name_length', 'item_name_cleaned_length'])"
   ]
  },
  {
   "cell_type": "code",
   "execution_count": 13,
   "id": "5678b0cb",
   "metadata": {
    "execution": {
     "iopub.execute_input": "2022-10-08T20:42:04.431331Z",
     "iopub.status.busy": "2022-10-08T20:42:04.430911Z",
     "iopub.status.idle": "2022-10-08T20:42:06.311296Z",
     "shell.execute_reply": "2022-10-08T20:42:06.310023Z"
    },
    "papermill": {
     "duration": 1.89581,
     "end_time": "2022-10-08T20:42:06.314634",
     "exception": false,
     "start_time": "2022-10-08T20:42:04.418824",
     "status": "completed"
    },
    "tags": []
   },
   "outputs": [
    {
     "name": "stdout",
     "output_type": "stream",
     "text": [
      "Created name features\n"
     ]
    }
   ],
   "source": [
    "print(\"Created name features\")\n",
    "matrix, oldcols = shrink_mem_new_cols(matrix, oldcols)"
   ]
  },
  {
   "cell_type": "markdown",
   "id": "16224641",
   "metadata": {
    "papermill": {
     "duration": 0.012101,
     "end_time": "2022-10-08T20:42:06.342172",
     "exception": false,
     "start_time": "2022-10-08T20:42:06.330071",
     "status": "completed"
    },
    "tags": []
   },
   "source": [
    "Time of sales are also important\n",
    "We can use the number of days since the first & last sale of each item to make a sales-per-day feature(\"item_cnt_day_avg\"). This way we can use that function to correct sales count for items that haven't reached a month old so their count is faulty."
   ]
  },
  {
   "cell_type": "code",
   "execution_count": 14,
   "id": "77c2be57",
   "metadata": {
    "execution": {
     "iopub.execute_input": "2022-10-08T20:42:06.366172Z",
     "iopub.status.busy": "2022-10-08T20:42:06.365801Z",
     "iopub.status.idle": "2022-10-08T20:42:06.397644Z",
     "shell.execute_reply": "2022-10-08T20:42:06.396126Z"
    },
    "papermill": {
     "duration": 0.047662,
     "end_time": "2022-10-08T20:42:06.400676",
     "exception": false,
     "start_time": "2022-10-08T20:42:06.353014",
     "status": "completed"
    },
    "tags": []
   },
   "outputs": [],
   "source": [
    "def add_time_features(m, train, correct_item_cnt_day=False):\n",
    "    from pandas.tseries.offsets import Day, MonthBegin, MonthEnd\n",
    "\n",
    "    def item_shop_age_months(m):\n",
    "        m[\"item_age\"] = m.groupby(\"item_id\")[\"date_block_num\"].transform(\n",
    "            lambda x: x - x.min()\n",
    "        )\n",
    "        # Sales tend to plateau after 12 months\n",
    "        m[\"new_item\"] = m[\"item_age\"] == 0\n",
    "        m[\"new_item\"] = m[\"new_item\"].astype(\"int8\")\n",
    "        m[\"shop_age\"] = (\n",
    "            m.groupby(\"shop_id\")[\"date_block_num\"]\n",
    "            .transform(lambda x: x - x.min())\n",
    "            .astype(\"int8\")\n",
    "        )\n",
    "        return m\n",
    "\n",
    "    # Add dummy values for the test month so that features are created correctly\n",
    "    dummies = m.loc[m.date_block_num == 34, [\"date_block_num\", \"shop_id\", \"item_id\"]]\n",
    "    dummies = dummies.assign(\n",
    "        date=pd.to_datetime(\"2015-11-30\"), item_price=1, item_cnt_day=0, item_revenue_day=0,\n",
    "    )\n",
    "    train = pd.concat([train, dummies])\n",
    "    del dummies\n",
    "\n",
    "    month_last_day = train.groupby(\"date_block_num\").date.max().rename(\"month_last_day\")\n",
    "    month_last_day[~month_last_day.dt.is_month_end] = (\n",
    "        month_last_day[~month_last_day.dt.is_month_end] + MonthEnd()\n",
    "    )\n",
    "    month_first_day = train.groupby(\"date_block_num\").date.min().rename(\"month_first_day\")\n",
    "    month_first_day[~month_first_day.dt.is_month_start] = (\n",
    "        month_first_day[~month_first_day.dt.is_month_start] - MonthBegin()\n",
    "    )\n",
    "    month_length = (month_last_day - month_first_day + Day()).rename(\"month_length\")\n",
    "    first_shop_date = train.groupby(\"shop_id\").date.min().rename(\"first_shop_date\")\n",
    "    first_item_date = train.groupby(\"item_id\").date.min().rename(\"first_item_date\")\n",
    "    first_shop_item_date = (\n",
    "        train.groupby([\"shop_id\", \"item_id\"]).date.min().rename(\"first_shop_item_date\")\n",
    "    )\n",
    "    first_item_name_group_date = (\n",
    "        train.groupby(\"item_name_group\").date.min().rename(\"first_name_group_date\")\n",
    "    )\n",
    "\n",
    "    m = m.merge(month_first_day, left_on=\"date_block_num\", right_index=True, how=\"left\")\n",
    "    m = m.merge(month_last_day, left_on=\"date_block_num\", right_index=True, how=\"left\")\n",
    "    m = m.merge(month_length, left_on=\"date_block_num\", right_index=True, how=\"left\")\n",
    "    m = m.merge(first_shop_date, left_on=\"shop_id\", right_index=True, how=\"left\")\n",
    "    m = m.merge(first_item_date, left_on=\"item_id\", right_index=True, how=\"left\")\n",
    "    m = m.merge(\n",
    "        first_shop_item_date, left_on=[\"shop_id\", \"item_id\"], right_index=True, how=\"left\"\n",
    "    )\n",
    "    m = m.merge(\n",
    "        first_item_name_group_date, left_on=\"item_name_group\", right_index=True, how=\"left\"\n",
    "    )\n",
    "\n",
    "    # Calculate how long the item was sold for in each month and use this to calculate average sales per day\n",
    "    m[\"shop_open_days\"] = m[\"month_last_day\"] - m[\"first_shop_date\"] + Day()\n",
    "    m[\"item_first_sale_days\"] = m[\"month_last_day\"] - m[\"first_item_date\"] + Day()\n",
    "    m[\"item_in_shop_days\"] = (\n",
    "        m[[\"shop_open_days\", \"item_first_sale_days\", \"month_length\"]].min(axis=1).dt.days\n",
    "    )\n",
    "    m = m.drop(columns=\"item_first_sale_days\")\n",
    "    m[\"item_cnt_day_avg\"] = m[\"item_cnt_month\"] / m[\"item_in_shop_days\"]\n",
    "    m[\"month_length\"] = m[\"month_length\"].dt.days\n",
    "\n",
    "    # Calculate the time differences from the beginning of the month so they can be used as features without lagging\n",
    "    m[\"shop_open_days\"] = m[\"month_first_day\"] - m[\"first_shop_date\"]\n",
    "    m[\"first_item_sale_days\"] = m[\"month_first_day\"] - m[\"first_item_date\"]\n",
    "    m[\"first_shop_item_sale_days\"] = m[\"month_first_day\"] - m[\"first_shop_item_date\"]\n",
    "    m[\"first_name_group_sale_days\"] = m[\"month_first_day\"] - m[\"first_name_group_date\"]\n",
    "    m[\"shop_open_days\"] = m[\"shop_open_days\"].dt.days.fillna(0).clip(lower=0)\n",
    "    m[\"first_item_sale_days\"] = (\n",
    "        m[\"first_item_sale_days\"].dt.days.fillna(0).clip(lower=0).replace(0, 9999)\n",
    "    )\n",
    "    m[\"first_shop_item_sale_days\"] = (\n",
    "        m[\"first_shop_item_sale_days\"].dt.days.fillna(0).clip(lower=0).replace(0, 9999)\n",
    "    )\n",
    "    m[\"first_name_group_sale_days\"] = (\n",
    "        m[\"first_name_group_sale_days\"].dt.days.fillna(0).clip(lower=0).replace(0, 9999)\n",
    "    )\n",
    "\n",
    "    # Add days since last sale\n",
    "    def last_sale_days(matrix):\n",
    "        last_shop_item_dates = []\n",
    "        for dbn in range(1, 35):\n",
    "            lsid_temp = (\n",
    "                train.query(f\"date_block_num<{dbn}\")\n",
    "                .groupby([\"shop_id\", \"item_id\"])\n",
    "                .date.max()\n",
    "                .rename(\"last_shop_item_sale_date\")\n",
    "                .reset_index()\n",
    "            )\n",
    "            lsid_temp[\"date_block_num\"] = dbn\n",
    "            last_shop_item_dates.append(lsid_temp)\n",
    "\n",
    "        last_shop_item_dates = pd.concat(last_shop_item_dates)\n",
    "        matrix = matrix.merge(\n",
    "            last_shop_item_dates, on=[\"date_block_num\", \"shop_id\", \"item_id\"], how=\"left\"\n",
    "        )\n",
    "\n",
    "        def days_since_last_feat(m, feat_name, date_feat_name, missingval):\n",
    "            m[feat_name] = (m[\"month_first_day\"] - m[date_feat_name]).dt.days\n",
    "            m.loc[m[feat_name] > 2000, feat_name] = missingval\n",
    "            m.loc[m[feat_name].isna(), feat_name] = missingval\n",
    "            return m\n",
    "\n",
    "        matrix = days_since_last_feat(\n",
    "            matrix, \"last_shop_item_sale_days\", \"last_shop_item_sale_date\", 9999\n",
    "        )\n",
    "\n",
    "        matrix = matrix.drop(columns=[\"last_shop_item_sale_date\"])\n",
    "        return matrix\n",
    "\n",
    "    m = last_sale_days(m)\n",
    "    # Month id feature\n",
    "    m[\"month\"] = m[\"month_first_day\"].dt.month\n",
    "\n",
    "    m = m.drop(\n",
    "        columns=[\n",
    "            \"first_day\",\n",
    "            \"month_first_day\",\n",
    "            \"month_last_day\",\n",
    "            \"first_shop_date\",\n",
    "            \"first_item_date\",\n",
    "            \"first_name_group_date\",\n",
    "            \"item_in_shop_days\",\n",
    "            \"first_shop_item_date\",\n",
    "            \"month_length\",\n",
    "        ],\n",
    "        errors=\"ignore\",\n",
    "    )\n",
    "\n",
    "    m = item_shop_age_months(m)\n",
    "\n",
    "    if correct_item_cnt_day == True:\n",
    "        m[\"item_cnt_month_original\"] = m[\"item_cnt_month\"]\n",
    "        m[\"item_cnt_month\"] = m[\"item_cnt_day_avg\"] * m[\"month_length\"]\n",
    "\n",
    "    return m\n",
    "\n",
    "        "
   ]
  },
  {
   "cell_type": "code",
   "execution_count": 15,
   "id": "021b623f",
   "metadata": {
    "execution": {
     "iopub.execute_input": "2022-10-08T20:42:06.421984Z",
     "iopub.status.busy": "2022-10-08T20:42:06.421588Z",
     "iopub.status.idle": "2022-10-08T20:42:51.742255Z",
     "shell.execute_reply": "2022-10-08T20:42:51.740882Z"
    },
    "papermill": {
     "duration": 45.343706,
     "end_time": "2022-10-08T20:42:51.754263",
     "exception": false,
     "start_time": "2022-10-08T20:42:06.410557",
     "status": "completed"
    },
    "tags": []
   },
   "outputs": [
    {
     "name": "stdout",
     "output_type": "stream",
     "text": [
      "Time features created\n"
     ]
    }
   ],
   "source": [
    "matrix = add_time_features(matrix, train, False)\n",
    "print(\"Time features created\")"
   ]
  },
  {
   "cell_type": "markdown",
   "id": "7dca33b8",
   "metadata": {
    "papermill": {
     "duration": 0.010431,
     "end_time": "2022-10-08T20:42:51.775198",
     "exception": false,
     "start_time": "2022-10-08T20:42:51.764767",
     "status": "completed"
    },
    "tags": []
   },
   "source": [
    "Checking price as a feature, what we can use is the price of the item in the last month in which it was sold, and compare it to other items in the same category"
   ]
  },
  {
   "cell_type": "code",
   "execution_count": 16,
   "id": "99b96e62",
   "metadata": {
    "execution": {
     "iopub.execute_input": "2022-10-08T20:42:51.797807Z",
     "iopub.status.busy": "2022-10-08T20:42:51.797415Z",
     "iopub.status.idle": "2022-10-08T20:42:51.808882Z",
     "shell.execute_reply": "2022-10-08T20:42:51.807736Z"
    },
    "papermill": {
     "duration": 0.02561,
     "end_time": "2022-10-08T20:42:51.811384",
     "exception": false,
     "start_time": "2022-10-08T20:42:51.785774",
     "status": "completed"
    },
    "tags": []
   },
   "outputs": [],
   "source": [
    "def add_price_features(matrix, train):\n",
    "    # Get mean prices per month from train dataframe\n",
    "    price_features = train.groupby([\"date_block_num\", \"item_id\"]).item_price.mean()\n",
    "    price_features = pd.DataFrame(price_features)\n",
    "    price_features = price_features.reset_index()\n",
    "    # Calculate normalized differenced from mean category price per month\n",
    "    price_features = price_features.merge(\n",
    "        items[[\"item_id\", \"item_category_id\"]], how=\"left\", on=\"item_id\"\n",
    "    )\n",
    "    price_features[\"norm_diff_cat_price\"] = price_features.groupby(\n",
    "        [\"date_block_num\", \"item_category_id\"]\n",
    "    )[\"item_price\"].transform(lambda x: (x - x.mean()) / x.mean())\n",
    "    # Retain only the necessary features\n",
    "    price_features = price_features[\n",
    "        [\n",
    "            \"date_block_num\",\n",
    "            \"item_id\",\n",
    "            \"item_price\",\n",
    "            \"norm_diff_cat_price\",\n",
    "        ]\n",
    "    ]\n",
    "\n",
    "    features = [\n",
    "        \"item_price\",\n",
    "        \"norm_diff_cat_price\",\n",
    "    ]\n",
    "    newnames = [\"last_\" + f for f in features]\n",
    "    aggs = {f: \"last\" for f in features}\n",
    "    renames = {f: \"last_\" + f for f in features}\n",
    "    features = []\n",
    "    for dbn in range(1, 35):\n",
    "        f_temp = (\n",
    "            price_features.query(f\"date_block_num<{dbn}\")\n",
    "            .groupby(\"item_id\")\n",
    "            .agg(aggs)\n",
    "            .rename(columns=renames)\n",
    "        )\n",
    "        f_temp[\"date_block_num\"] = dbn\n",
    "        features.append(f_temp)\n",
    "    features = pd.concat(features).reset_index()\n",
    "    matrix = matrix.merge(features, on=[\"date_block_num\", \"item_id\"], how=\"left\")\n",
    "    return matrix"
   ]
  },
  {
   "cell_type": "code",
   "execution_count": 17,
   "id": "d98431ad",
   "metadata": {
    "execution": {
     "iopub.execute_input": "2022-10-08T20:42:51.833795Z",
     "iopub.status.busy": "2022-10-08T20:42:51.833321Z",
     "iopub.status.idle": "2022-10-08T20:42:56.574330Z",
     "shell.execute_reply": "2022-10-08T20:42:56.573404Z"
    },
    "papermill": {
     "duration": 4.755819,
     "end_time": "2022-10-08T20:42:56.576998",
     "exception": false,
     "start_time": "2022-10-08T20:42:51.821179",
     "status": "completed"
    },
    "tags": []
   },
   "outputs": [],
   "source": [
    "matrix = add_price_features(matrix, train)\n",
    "del(train)"
   ]
  },
  {
   "cell_type": "markdown",
   "id": "078f3bdd",
   "metadata": {
    "papermill": {
     "duration": 0.009476,
     "end_time": "2022-10-08T20:42:56.596335",
     "exception": false,
     "start_time": "2022-10-08T20:42:56.586859",
     "status": "completed"
    },
    "tags": []
   },
   "source": [
    "I'm gonna create a category called supercategory to lighten & order the data a little. This category will add an item and its genre together e.g: supercategory(\"games\",\"music\") and platform(\"PS4\",\"mp3\")"
   ]
  },
  {
   "cell_type": "code",
   "execution_count": 18,
   "id": "a922ade6",
   "metadata": {
    "execution": {
     "iopub.execute_input": "2022-10-08T20:42:56.619347Z",
     "iopub.status.busy": "2022-10-08T20:42:56.618232Z",
     "iopub.status.idle": "2022-10-08T20:42:59.006727Z",
     "shell.execute_reply": "2022-10-08T20:42:59.005564Z"
    },
    "papermill": {
     "duration": 2.402683,
     "end_time": "2022-10-08T20:42:59.009345",
     "exception": false,
     "start_time": "2022-10-08T20:42:56.606662",
     "status": "completed"
    },
    "tags": []
   },
   "outputs": [],
   "source": [
    "matrix = matrix.merge(items[['item_id', 'item_category_id']], on='item_id', how='left')\n",
    "\n",
    "platform_map = {\n",
    "    0: 0, 1: 1, 2: 2, 3: 3, 4: 4, 5: 5, 6: 6, 7: 7, 8: 8, 9: 8, 10: 1, 11: 2,\n",
    "    12: 3, 13: 4, 14: 5, 15: 6, 16: 7, 17: 8, 18: 1, 19: 2, 20: 3, 21: 4, 22: 5,\n",
    "    23: 6, 24: 7, 25: 8, 26: 9, 27: 10, 28: 0, 29: 0, 30: 0, 31: 0, 32: 8, 33: 11,\n",
    "    34: 11, 35: 3, 36: 0, 37: 12, 38: 12, 39: 12, 40: 13, 41: 13, 42: 14, 43: 15,\n",
    "    44: 15, 45: 15, 46: 14, 47: 14, 48: 14, 49: 14, 50: 14, 51: 14, 52: 14, 53: 14,\n",
    "    54: 8, 55: 16, 56: 16, 57: 17, 58: 18, 59: 13, 60: 16, 61: 8, 62: 8, 63: 8, 64: 8,\n",
    "    65: 8, 66: 8, 67: 8, 68: 8, 69: 8, 70: 8, 71: 8, 72: 8, 73: 0, 74: 10, 75: 0,\n",
    "    76: 0, 77: 0, 78: 0, 79: 8, 80: 8, 81: 8, 82: 8, 83: 8,\n",
    "}\n",
    "matrix['platform_id'] = matrix['item_category_id'].map(platform_map)\n",
    "\n",
    "supercat_map = {\n",
    "    0: 0, 1: 1, 2: 1, 3: 1, 4: 1, 5: 1, 6: 1, 7: 1, 8: 2, 9: 2, 10: 1, 11: 1, 12: 1,\n",
    "    13: 1, 14: 1, 15: 1, 16: 1, 17: 1, 18: 3, 19: 3, 20: 3, 21: 3, 22: 3, 23: 3,\n",
    "    24: 3, 25: 0, 26: 2, 27: 3, 28: 3, 29: 3, 30: 3, 31: 3, 32: 2, 33: 2, 34: 2,\n",
    "    35: 2, 36: 2, 37: 4, 38: 4, 39: 4, 40: 4, 41: 4, 42: 5, 43: 5, 44: 5, 45: 5,\n",
    "    46: 5, 47: 5, 48: 5, 49: 5, 50: 5, 51: 5, 52: 5, 53: 5, 54: 5, 55: 6, 56: 6,\n",
    "    57: 6, 58: 6, 59: 6, 60: 6, 61: 0, 62: 0, 63: 0, 64: 0, 65: 0, 66: 0, 67: 0,\n",
    "    68: 0, 69: 0, 70: 0, 71: 0, 72: 0, 73: 7, 74: 7, 75: 7, 76: 7, 77: 7, 78: 7,\n",
    "    79: 2, 80: 2, 81: 0, 82: 0, 83: 0\n",
    "}\n",
    "matrix['supercategory_id'] = matrix['item_category_id'].map(supercat_map)"
   ]
  },
  {
   "cell_type": "markdown",
   "id": "461a7bfc",
   "metadata": {
    "papermill": {
     "duration": 0.010796,
     "end_time": "2022-10-08T20:42:59.030167",
     "exception": false,
     "start_time": "2022-10-08T20:42:59.019371",
     "status": "completed"
    },
    "tags": []
   },
   "source": [
    "The next part I took from https://www.kaggle.com/dlarionov/feature-engineering-xgboost, to categorise shop city :p"
   ]
  },
  {
   "cell_type": "code",
   "execution_count": 19,
   "id": "cc524254",
   "metadata": {
    "execution": {
     "iopub.execute_input": "2022-10-08T20:42:59.052912Z",
     "iopub.status.busy": "2022-10-08T20:42:59.052097Z",
     "iopub.status.idle": "2022-10-08T20:43:01.309195Z",
     "shell.execute_reply": "2022-10-08T20:43:01.307896Z"
    },
    "papermill": {
     "duration": 2.271959,
     "end_time": "2022-10-08T20:43:01.312051",
     "exception": false,
     "start_time": "2022-10-08T20:42:59.040092",
     "status": "completed"
    },
    "tags": []
   },
   "outputs": [],
   "source": [
    "def add_city_codes(matrix, shops):\n",
    "    shops.loc[\n",
    "        shops.shop_name == 'Сергиев Посад ТЦ \"7Я\"', \"shop_name\"\n",
    "    ] = 'СергиевПосад ТЦ \"7Я\"'\n",
    "    shops[\"city\"] = shops[\"shop_name\"].str.split(\" \").map(lambda x: x[0])\n",
    "    shops.loc[shops.city == \"!Якутск\", \"city\"] = \"Якутск\"\n",
    "    shops[\"city_code\"] = shops[\"city\"].factorize()[0]\n",
    "    shop_labels = shops[[\"shop_id\", \"city_code\"]]\n",
    "    matrix = matrix.merge(shop_labels, on='shop_id', how='left')\n",
    "    return matrix\n",
    "\n",
    "matrix = add_city_codes(matrix, shops)\n",
    "del(shops)"
   ]
  },
  {
   "cell_type": "markdown",
   "id": "b9dc770b",
   "metadata": {
    "papermill": {
     "duration": 0.01014,
     "end_time": "2022-10-08T20:43:01.332543",
     "exception": false,
     "start_time": "2022-10-08T20:43:01.322403",
     "status": "completed"
    },
    "tags": []
   },
   "source": [
    "This model is gonna be a clustering one. \n",
    "Shop & item categories will be grouped into clusters according to their sales. This next function will perform & plot the results of a PCA decomposition & clustering of the shops & items categories.\n",
    "\n",
    "We're gonna need a silhouette score that's gonna be our metric for cluster quality, this will determine the number of clusters.\n",
    "\n",
    "For shop & item categories, most the differences occur on a single dimension, that indicates that the differences are mainly magnitude rather than proportional. \n",
    "\n",
    "The item component score plots show that the clustering is mainly into a large cluster containing the large majority of items, and a few clusters containing outlier items."
   ]
  },
  {
   "cell_type": "code",
   "execution_count": 20,
   "id": "2a45e71d",
   "metadata": {
    "execution": {
     "iopub.execute_input": "2022-10-08T20:43:01.355075Z",
     "iopub.status.busy": "2022-10-08T20:43:01.354301Z",
     "iopub.status.idle": "2022-10-08T20:43:01.524894Z",
     "shell.execute_reply": "2022-10-08T20:43:01.523930Z"
    },
    "papermill": {
     "duration": 0.184694,
     "end_time": "2022-10-08T20:43:01.527416",
     "exception": false,
     "start_time": "2022-10-08T20:43:01.342722",
     "status": "completed"
    },
    "tags": []
   },
   "outputs": [],
   "source": [
    "import matplotlib.pyplot as plt\n",
    "import seaborn as sns\n",
    "from sklearn.cluster import AgglomerativeClustering\n",
    "from sklearn.decomposition import PCA\n",
    "from sklearn.metrics import silhouette_score\n",
    "\n",
    "\n",
    "def cluster_feature(matrix, target_feature, clust_feature, level_feature, n_components=4, n_clusters=5, aggfunc=\"mean\", exclude=None):\n",
    "    start_month = 20\n",
    "    end_month = 32\n",
    "    pt = matrix.query(f\"date_block_num>{start_month} & date_block_num<={end_month}\")\n",
    "    if exclude is not None:\n",
    "        pt = matrix[~matrix[clust_feature].isin(exclude)]\n",
    "    pt = pt.pivot_table(values=target_feature, columns=clust_feature, index=level_feature, fill_value=0, aggfunc=aggfunc)\n",
    "    pt = pt.transpose()\n",
    "    pca = PCA(n_components=10)\n",
    "    components = pca.fit_transform(pt)\n",
    "    components = pd.DataFrame(components)\n",
    "    # Plot PCA explained variance\n",
    "    sns.set_theme()\n",
    "    features = list(range(pca.n_components_))\n",
    "    fig = plt.figure(figsize=(10,4))\n",
    "    ax = fig.add_subplot(121)\n",
    "#     ax.bar(features, pca.explained_variance_ratio_, color=\"black\")\n",
    "    sns.barplot(x=features, y=pca.explained_variance_ratio_, ax=ax)\n",
    "    plt.title(\"Variance by PCA components\")\n",
    "    plt.xlabel(\"component\")\n",
    "    plt.ylabel(\"explained variance\")\n",
    "    plt.xticks(features)\n",
    "\n",
    "    scorelist = []\n",
    "    nrange = range(2, 10)\n",
    "    for n in nrange:\n",
    "        clusterer = AgglomerativeClustering(n_clusters=n)\n",
    "        labels = clusterer.fit_predict(components)\n",
    "        silscore = silhouette_score(pt, labels)\n",
    "        scorelist.append(silscore)\n",
    "    ax = fig.add_subplot(122)\n",
    "    sns.lineplot(x=nrange, y=scorelist, ax=ax)\n",
    "    plt.title(\"Clustering quality by number of clusters\")\n",
    "    plt.xlabel(\"n clusters\")\n",
    "    plt.ylabel(\"silhouette score\")\n",
    "\n",
    "    pca = PCA(n_components=n_components)\n",
    "    components = pca.fit_transform(pt)\n",
    "    components = pd.DataFrame(components)\n",
    "    clusterer = AgglomerativeClustering(n_clusters=n_clusters, linkage=\"average\")\n",
    "    labels = clusterer.fit_predict(components)\n",
    "    x = components[0]\n",
    "    y = components[1]\n",
    "    fig = plt.figure(figsize=(10, 4))\n",
    "    ax = fig.add_subplot(111)\n",
    "    sns.scatterplot(x=x, y=y, hue=labels, palette=sns.color_palette(\"hls\", n_clusters), ax=ax)\n",
    "    plt.title(\"Items by cluster\")\n",
    "    plt.xlabel(\"component 1 score\")\n",
    "    plt.ylabel(\"component 2 score\")\n",
    "    for i, txt in enumerate(pt.index.to_list()):\n",
    "        ax.annotate(str(txt), (x[i], y[i]))\n",
    "    groups = {}\n",
    "    for i, s in enumerate(pt.index):\n",
    "        groups[s] = labels[i]\n",
    "    return groups\n",
    "    "
   ]
  },
  {
   "cell_type": "markdown",
   "id": "560a53b7",
   "metadata": {
    "papermill": {
     "duration": 0.009933,
     "end_time": "2022-10-08T20:43:01.547947",
     "exception": false,
     "start_time": "2022-10-08T20:43:01.538014",
     "status": "completed"
    },
    "tags": []
   },
   "source": [
    "Now we've got clustered categories according to their mean sales in each month of the year. \n",
    "\n",
    "Let's print it out & see what we got"
   ]
  },
  {
   "cell_type": "code",
   "execution_count": 21,
   "id": "ae911ffd",
   "metadata": {
    "execution": {
     "iopub.execute_input": "2022-10-08T20:43:01.569484Z",
     "iopub.status.busy": "2022-10-08T20:43:01.569025Z",
     "iopub.status.idle": "2022-10-08T20:43:06.221735Z",
     "shell.execute_reply": "2022-10-08T20:43:06.220469Z"
    },
    "papermill": {
     "duration": 4.666466,
     "end_time": "2022-10-08T20:43:06.224361",
     "exception": false,
     "start_time": "2022-10-08T20:43:01.557895",
     "status": "completed"
    },
    "tags": []
   },
   "outputs": [
    {
     "data": {
      "image/png": "[encoded data removed]",
      "text/plain": [
       "<Figure size 720x288 with 2 Axes>"
      ]
     },
     "metadata": {},
     "output_type": "display_data"
    },
    {
     "data": {
      "image/png": "[encoded data removed]",
      "text/plain": [
       "<Figure size 720x288 with 1 Axes>"
      ]
     },
     "metadata": {},
     "output_type": "display_data"
    }
   ],
   "source": [
    "category_group_dict = cluster_feature(matrix, 'item_cnt_month', 'item_category_id', 'date_block_num', n_components=2, n_clusters=4, aggfunc=\"mean\", exclude =[])\n",
    "matrix['category_cluster'] = matrix['item_category_id'].map(category_group_dict)"
   ]
  },
  {
   "cell_type": "markdown",
   "id": "c3aa2b31",
   "metadata": {
    "papermill": {
     "duration": 0.010391,
     "end_time": "2022-10-08T20:43:06.246155",
     "exception": false,
     "start_time": "2022-10-08T20:43:06.235764",
     "status": "completed"
    },
    "tags": []
   },
   "source": [
    "Shops are clustered through the  sum of sales of each item category.\n",
    "\n",
    "The principale component plots shows that shops mainly fiffer in the magnitude of their sales, with shop 31 having a high volume of sales. \n",
    "Shop 12 & 55 sell items online so that explains the values on the plot.\n"
   ]
  },
  {
   "cell_type": "code",
   "execution_count": 22,
   "id": "b6029f5a",
   "metadata": {
    "execution": {
     "iopub.execute_input": "2022-10-08T20:43:06.270306Z",
     "iopub.status.busy": "2022-10-08T20:43:06.269511Z",
     "iopub.status.idle": "2022-10-08T20:43:10.371962Z",
     "shell.execute_reply": "2022-10-08T20:43:10.370753Z"
    },
    "papermill": {
     "duration": 4.117343,
     "end_time": "2022-10-08T20:43:10.374621",
     "exception": false,
     "start_time": "2022-10-08T20:43:06.257278",
     "status": "completed"
    },
    "tags": []
   },
   "outputs": [
    {
     "data": {
      "image/png": "[encoded data removed]",
      "text/plain": [
       "<Figure size 720x288 with 2 Axes>"
      ]
     },
     "metadata": {},
     "output_type": "display_data"
    },
    {
     "data": {
      "image/png": "[encoded data removed]",
      "text/plain": [
       "<Figure size 720x288 with 1 Axes>"
      ]
     },
     "metadata": {},
     "output_type": "display_data"
    }
   ],
   "source": [
    "shop_group_dict = cluster_feature(matrix, 'item_cnt_month', 'shop_id', 'item_category_id', n_components=4, n_clusters=4, aggfunc=\"mean\", exclude=[36])\n",
    "shop_group_dict[36] = shop_group_dict[37]  # Shop36 added separately because it only has one month of data\n",
    "matrix['shop_cluster'] = matrix['shop_id'].map(shop_group_dict)"
   ]
  },
  {
   "cell_type": "code",
   "execution_count": 23,
   "id": "4be015cd",
   "metadata": {
    "execution": {
     "iopub.execute_input": "2022-10-08T20:43:10.400123Z",
     "iopub.status.busy": "2022-10-08T20:43:10.399721Z",
     "iopub.status.idle": "2022-10-08T20:43:17.611938Z",
     "shell.execute_reply": "2022-10-08T20:43:17.610616Z"
    },
    "papermill": {
     "duration": 7.228493,
     "end_time": "2022-10-08T20:43:17.615054",
     "exception": false,
     "start_time": "2022-10-08T20:43:10.386561",
     "status": "completed"
    },
    "tags": []
   },
   "outputs": [],
   "source": [
    "gc.collect()\n",
    "matrix, oldcols = shrink_mem_new_cols(matrix, oldcols) \n",
    "#Using this function periodically to downcast dtypes \n",
    "#to save memory."
   ]
  }
 ],
 "metadata": {
  "kernelspec": {
   "display_name": "Python 3",
   "language": "python",
   "name": "python3"
  },
  "language_info": {
   "codemirror_mode": {
    "name": "ipython",
    "version": 3
   },
   "file_extension": ".py",
   "mimetype": "text/x-python",
   "name": "python",
   "nbconvert_exporter": "python",
   "pygments_lexer": "ipython3",
   "version": "3.7.12"
  },
  "papermill": {
   "default_parameters": {},
   "duration": 118.365913,
   "end_time": "2022-10-08T20:43:18.551863",
   "environment_variables": {},
   "exception": null,
   "input_path": "__notebook__.ipynb",
   "output_path": "__notebook__.ipynb",
   "parameters": {},
   "start_time": "2022-10-08T20:41:20.185950",
   "version": "2.3.4"
  }
 },
 "nbformat": 4,
 "nbformat_minor": 5
}
